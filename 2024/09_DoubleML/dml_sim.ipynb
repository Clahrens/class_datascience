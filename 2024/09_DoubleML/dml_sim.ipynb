{
  "nbformat": 4,
  "nbformat_minor": 0,
  "metadata": {
    "colab": {
      "provenance": []
    },
    "kernelspec": {
      "name": "python3",
      "display_name": "Python 3"
    },
    "language_info": {
      "name": "python"
    }
  },
  "cells": [
    {
      "cell_type": "markdown",
      "source": [
        "# How to measure a causal effect with observational data\n",
        "\n",
        "In this notebook we are going to use a simulated dataset to measure study the procedure to measure a causal effect with panel data.\n",
        "\n",
        "Here is the general procedure:\n",
        "\n",
        "1 - DAG: The starting point of a causal inference model is the DAG. So revise it if needed.\n",
        "\n",
        "2 - EDA: Select a perfectly balanced sample including all your variables (outcome, explanatory, heterogeneity, and controls) and do the EDA. (Think about nonlinear effects, lags, and asymmetries)\n",
        "\n",
        "3 - SLR: Run a Simple Linear Regression\n",
        "\n",
        "4.a - MLR: Run a Multiple Linear Regression (SLR with the controls)\n",
        "\n",
        "4.b - DML: Use a Double Machine Learning Model if we have numerous controls and suspect non-linear or interactions effects.\n",
        "\n",
        "5.a - TWFE: If you still have some unobserved confounders that can be captured by fixed effects, run a fixed effect regression.\n",
        "5.b - DML FD: If you used previously DML you can use the FD estimator with your DML model.\n",
        "\n",
        "6.a - Quasi experimental methods if there are still idiosyncratic time varying unobserved confounders.\n",
        "6.b - DML DiD or DML IV: Some quasi experimental methods can be used as well with DML."
      ],
      "metadata": {
        "id": "wOX0_os8FxI8"
      }
    },
    {
      "cell_type": "markdown",
      "source": [
        "## Model Specifications\n",
        "In order to test the incremental benefit of each of these steps, we are going to use a simulated dataset.\n",
        "\n",
        "The Data Generating Process (DGP) will be relatively complex is order to illustrate the role of each of those tools.\n",
        "\n",
        "### Variables\n",
        "\n",
        "- **Explanatory Variable** $ X $: A continuous variable generated as a function of observed confounders, an instrumental variable, unobserved confounders, individual fixed effects, and interaction terms. It has a direct effect on the outcome variable $ Y $.\n",
        "  \n",
        "- **Confounders**:\n",
        "  - **Confounder 1** $ C1 $: A continuous variable with a linear effect, normally distributed with mean 0 and standard deviation 1.\n",
        "  - **Confounder 2** $ C2 $: A continuous variable with a linear effect, normally distributed with mean 0 and standard deviation 1.\n",
        "  - **Confounder 3** $ C3 $: A continuous variable with both a linear and quadratic effect, normally distributed with mean 0 and standard deviation 1.\n",
        "  - **Confounder 4** $ C4 $: A continuous variable with a strong linear effect, normally distributed with mean 0 and standard deviation 1.\n",
        "  \n",
        "- **Instrumental Variable** $ IV $: A variable generated independently, which influences $ X $ but does not have a direct effect on $ Y $.\n",
        "\n",
        "- **Unobserved Confounder** $ U $: A time-varying, normally distributed variable with mean 0 and standard deviation 1, affecting both $ X $ and $ Y $.\n",
        "\n",
        "- **Unobserved Fixed Effect** $ FE $: A time-invariant individual-specific effect, normally distributed with mean 0 and standard deviation 1, which influences both $ X $ and $ Y $.\n",
        "\n",
        "### Explanatory Variable $ X $\n",
        "\n",
        "The explanatory variable $ X $ is defined as:\n",
        "\n",
        "$$\n",
        "X_{it} = \\gamma_{C1} \\cdot C1_{it} + \\gamma_{C2} \\cdot C2_{it} + \\gamma_{C3} \\cdot C3_{it} + \\gamma_{C4} \\cdot C4_{it} + \\gamma_{IV} \\cdot IV_{it} + \\gamma_U \\cdot U_{it} + \\gamma_{C1C2} \\cdot (C1_{it} \\times C2_{it}) + \\gamma_{C3^2} \\cdot C3_{it}^2 + \\gamma_{FE} \\cdot FE_i + \\eta_{it}\n",
        "$$\n",
        "\n",
        "where:\n",
        "- $ X_{it} $: Explanatory variable for individual $ i $ at time $ t $\n",
        "- $ \\eta_{it} $: Random noise term, normally distributed with mean 0 and standard deviation 1\n",
        "\n",
        "### Outcome Variable $ Y $\n",
        "\n",
        "The outcome variable $ Y $ is defined as a function of the explanatory variable, confounders, interaction effects, and unobserved effects:\n",
        "\n",
        "$$\n",
        "Y_{it} = \\beta_X \\cdot X_{it} + \\beta_{C1} \\cdot C1_{it} + \\beta_{C2} \\cdot C2_{it} + \\beta_{C3} \\cdot C3_{it} + \\beta_{C4} \\cdot C4_{it} + \\beta_U \\cdot U_{it} + \\beta_{C1C2} \\cdot (C1_{it} \\times C2_{it}) + \\beta_{C3^2} \\cdot C3_{it}^2 + \\beta_{FE} \\cdot FE_i + \\epsilon_{it}\n",
        "$$\n",
        "\n",
        "where:\n",
        "- $ Y_{it} $: Outcome variable for individual $ i $ at time $ t $\n",
        "- $ \\epsilon_{it} $: Random noise term, normally distributed with mean 0 and standard deviation 1\n",
        "\n",
        "### Coefficients\n",
        "Note that, in order to show the potential benefit of Multiple Linear Regression I included a linear confounder (C4) with a relatively strong effect. If you exclude this confounder, the Multiple Linear Regression which includes all the observed confounders (C1-C4) is doing worse than the Simple Linear Regression due to the misspecification.\n",
        "\n",
        "I also included a larger coefficient for the unobserved time invarient confounder as it helps to illustrate the benefit from using the First Difference estimator.\n",
        "\n",
        "Notice, that different specification of this complex DGP would yield different results.\n",
        "\n",
        "#### For the Explanatory Variable $ X $:\n",
        "- $ \\gamma_{C1} = 1 $: Effect of Confounder 1 on $ X $\n",
        "- $ \\gamma_{C2} = 1 $: Effect of Confounder 2 on $ X $\n",
        "- $ \\gamma_{C3} = 1 $: Linear effect of $ C3 $ on $ X $\n",
        "- $ \\gamma_{C4} = 5 $: Effect of Confounder 4 on $ X $\n",
        "- $ \\gamma_{IV} = 1 $: Effect of Instrumental Variable $ IV $ on $ X $\n",
        "- $ \\gamma_U = 1 $: Effect of Unobserved Confounder $ U $ on $ X $\n",
        "- $ \\gamma_{C1C2} = 1 $: Interaction effect between $ C1 $ and $ C2 $ on $ X $\n",
        "- $ \\gamma_{C3^2} = 1 $: Quadratic effect of $ C3 $ on $ X $\n",
        "- $ \\gamma_{FE} = 5 $: Effect of Fixed Effect $ FE $ on $ X $\n",
        "\n",
        "#### For the Outcome Variable $ Y $:\n",
        "- $ \\beta_X = 1 $: Effect of the explanatory variable $ X $ on $ Y $\n",
        "- $ \\beta_{C1} = 1 $: Effect of Confounder 1 on $ Y $\n",
        "- $ \\beta_{C2} = 1 $: Effect of Confounder 2 on $ Y $\n",
        "- $ \\beta_{C3} = 1 $: Linear effect of $ C3 $ on $ Y $\n",
        "- $ \\beta_{C4} = 5 $: Effect of Confounder 4 on $ Y $\n",
        "- $ \\beta_U = 1 $: Effect of Unobserved Confounder $ U $ on $ Y $\n",
        "- $ \\beta_{C1C2} = 1 $: Interaction effect between $ C1 $ and $ C2 $ on $ Y $\n",
        "- $ \\beta_{C3^2} = 1 $: Quadratic effect of $ C3 $ on $ Y $\n",
        "- $ \\beta_{FE} = 5 $: Effect of Fixed Effect $ FE $ on $ Y $\n",
        "\n",
        "### Summary\n",
        "This model is designed to study the effect of multiple observed confounders, interactions, and unobserved individual fixed effects on the outcome variable. The explanatory variable $ X $ and outcome variable $ Y $ are functions of both observed and unobserved confounders, allowing for exploration of causal relationships with instrumental variable adjustments. The setup enables a nuanced examination of how different confounders and interaction terms contribute to the observed outcomes in a panel data context.\n"
      ],
      "metadata": {
        "id": "b8zPN-oxGsIV"
      }
    },
    {
      "cell_type": "code",
      "source": [
        "# Install the DoubleML package, upgrading to the latest version if it's already installed.\n",
        "# !: This symbol in a Colab notebook indicates that the following command should be run in the system shell (like a terminal), not within the Python interpreter.\n",
        "!pip install -U DoubleML"
      ],
      "metadata": {
        "colab": {
          "base_uri": "https://localhost:8080/"
        },
        "id": "MVoDkxaWEyRC",
        "outputId": "7bdd9c18-25af-43e3-f484-26b545e97ec3"
      },
      "execution_count": null,
      "outputs": [
        {
          "output_type": "stream",
          "name": "stdout",
          "text": [
            "Requirement already satisfied: DoubleML in /usr/local/lib/python3.10/dist-packages (0.9.0)\n",
            "Requirement already satisfied: joblib in /usr/local/lib/python3.10/dist-packages (from DoubleML) (1.4.2)\n",
            "Requirement already satisfied: numpy in /usr/local/lib/python3.10/dist-packages (from DoubleML) (1.26.4)\n",
            "Requirement already satisfied: pandas in /usr/local/lib/python3.10/dist-packages (from DoubleML) (2.2.2)\n",
            "Requirement already satisfied: scipy in /usr/local/lib/python3.10/dist-packages (from DoubleML) (1.13.1)\n",
            "Requirement already satisfied: scikit-learn in /usr/local/lib/python3.10/dist-packages (from DoubleML) (1.5.2)\n",
            "Requirement already satisfied: statsmodels in /usr/local/lib/python3.10/dist-packages (from DoubleML) (0.14.4)\n",
            "Requirement already satisfied: plotly in /usr/local/lib/python3.10/dist-packages (from DoubleML) (5.24.1)\n",
            "Requirement already satisfied: python-dateutil>=2.8.2 in /usr/local/lib/python3.10/dist-packages (from pandas->DoubleML) (2.8.2)\n",
            "Requirement already satisfied: pytz>=2020.1 in /usr/local/lib/python3.10/dist-packages (from pandas->DoubleML) (2024.2)\n",
            "Requirement already satisfied: tzdata>=2022.7 in /usr/local/lib/python3.10/dist-packages (from pandas->DoubleML) (2024.2)\n",
            "Requirement already satisfied: tenacity>=6.2.0 in /usr/local/lib/python3.10/dist-packages (from plotly->DoubleML) (9.0.0)\n",
            "Requirement already satisfied: packaging in /usr/local/lib/python3.10/dist-packages (from plotly->DoubleML) (24.2)\n",
            "Requirement already satisfied: threadpoolctl>=3.1.0 in /usr/local/lib/python3.10/dist-packages (from scikit-learn->DoubleML) (3.5.0)\n",
            "Requirement already satisfied: patsy>=0.5.6 in /usr/local/lib/python3.10/dist-packages (from statsmodels->DoubleML) (0.5.6)\n",
            "Requirement already satisfied: six in /usr/local/lib/python3.10/dist-packages (from patsy>=0.5.6->statsmodels->DoubleML) (1.16.0)\n"
          ]
        }
      ]
    },
    {
      "cell_type": "code",
      "source": [
        "# Import necessary libraries\n",
        "import numpy as np  # For numerical operations, especially array manipulation\n",
        "import pandas as pd  # For data handling and manipulation using DataFrames\n",
        "import graphviz as gr  # For creating and visualizing directed acyclic graphs (DAGs)\n",
        "\n",
        "import statsmodels.formula.api as smf  # For statistical modeling using R-style formulas\n",
        "\n",
        "import matplotlib.pyplot as plt  # For creating static, interactive, and animated visualizations\n",
        "from matplotlib.colors import ListedColormap  # For creating custom colormaps for visualizations\n",
        "import seaborn as sns  # For statistical data visualization based on matplotlib\n",
        "\n",
        "from sklearn.model_selection import KFold, RepeatedKFold  # For cross-validation techniques\n",
        "from sklearn.base import clone  # For cloning estimator objects\n",
        "\n",
        "from sklearn.tree import DecisionTreeRegressor  # For Decision Tree regression models\n",
        "from sklearn.ensemble import RandomForestRegressor  # For Random Forest regression models\n",
        "from xgboost import XGBRegressor  # For XGBoost regression models\n",
        "\n",
        "import doubleml as dml  # For Double/Debiased Machine Learning\n",
        "from doubleml import DoubleMLClusterData  # For DoubleML data handling with clustered data"
      ],
      "metadata": {
        "id": "gRYvsvO9DdHY"
      },
      "execution_count": null,
      "outputs": []
    },
    {
      "cell_type": "code",
      "execution_count": null,
      "metadata": {
        "colab": {
          "base_uri": "https://localhost:8080/",
          "height": 206
        },
        "id": "QkrJopSA9oTu",
        "outputId": "bd5c173a-d1c5-42aa-cbfc-4352d24b4aeb"
      },
      "outputs": [
        {
          "output_type": "execute_result",
          "data": {
            "text/plain": [
              "   id  year          x  confounder_1  confounder_2  confounder_3  \\\n",
              "0   1     1  12.563990     -1.187041     -0.158808     -0.811898   \n",
              "1   1     2   7.829429      1.617082     -0.058052     -1.919443   \n",
              "2   1     3   3.978133     -0.042681     -0.928261     -0.787729   \n",
              "3   1     4  23.027714      0.367984      0.912328      2.559703   \n",
              "4   1     5  18.029166      1.809185      0.538362     -0.004541   \n",
              "\n",
              "   confounder_4  unobserved_confounder  unobserved_fe        iv          y  \n",
              "0      1.377711              -1.582208       1.507361  0.471435  23.659669  \n",
              "1      0.018834              -1.620190       1.507361 -1.190976  17.108753  \n",
              "2     -0.800812               0.046562       1.507361  1.432707   5.540458  \n",
              "3      1.316000              -1.679829       1.507361 -0.312652  45.352911  \n",
              "4      1.378819               1.395892       1.507361 -0.720589  35.816861  "
            ],
            "text/html": [
              "\n",
              "  <div id=\"df-368bb4ba-3864-42ab-ac89-839d2d6a4449\" class=\"colab-df-container\">\n",
              "    <div>\n",
              "<style scoped>\n",
              "    .dataframe tbody tr th:only-of-type {\n",
              "        vertical-align: middle;\n",
              "    }\n",
              "\n",
              "    .dataframe tbody tr th {\n",
              "        vertical-align: top;\n",
              "    }\n",
              "\n",
              "    .dataframe thead th {\n",
              "        text-align: right;\n",
              "    }\n",
              "</style>\n",
              "<table border=\"1\" class=\"dataframe\">\n",
              "  <thead>\n",
              "    <tr style=\"text-align: right;\">\n",
              "      <th></th>\n",
              "      <th>id</th>\n",
              "      <th>year</th>\n",
              "      <th>x</th>\n",
              "      <th>confounder_1</th>\n",
              "      <th>confounder_2</th>\n",
              "      <th>confounder_3</th>\n",
              "      <th>confounder_4</th>\n",
              "      <th>unobserved_confounder</th>\n",
              "      <th>unobserved_fe</th>\n",
              "      <th>iv</th>\n",
              "      <th>y</th>\n",
              "    </tr>\n",
              "  </thead>\n",
              "  <tbody>\n",
              "    <tr>\n",
              "      <th>0</th>\n",
              "      <td>1</td>\n",
              "      <td>1</td>\n",
              "      <td>12.563990</td>\n",
              "      <td>-1.187041</td>\n",
              "      <td>-0.158808</td>\n",
              "      <td>-0.811898</td>\n",
              "      <td>1.377711</td>\n",
              "      <td>-1.582208</td>\n",
              "      <td>1.507361</td>\n",
              "      <td>0.471435</td>\n",
              "      <td>23.659669</td>\n",
              "    </tr>\n",
              "    <tr>\n",
              "      <th>1</th>\n",
              "      <td>1</td>\n",
              "      <td>2</td>\n",
              "      <td>7.829429</td>\n",
              "      <td>1.617082</td>\n",
              "      <td>-0.058052</td>\n",
              "      <td>-1.919443</td>\n",
              "      <td>0.018834</td>\n",
              "      <td>-1.620190</td>\n",
              "      <td>1.507361</td>\n",
              "      <td>-1.190976</td>\n",
              "      <td>17.108753</td>\n",
              "    </tr>\n",
              "    <tr>\n",
              "      <th>2</th>\n",
              "      <td>1</td>\n",
              "      <td>3</td>\n",
              "      <td>3.978133</td>\n",
              "      <td>-0.042681</td>\n",
              "      <td>-0.928261</td>\n",
              "      <td>-0.787729</td>\n",
              "      <td>-0.800812</td>\n",
              "      <td>0.046562</td>\n",
              "      <td>1.507361</td>\n",
              "      <td>1.432707</td>\n",
              "      <td>5.540458</td>\n",
              "    </tr>\n",
              "    <tr>\n",
              "      <th>3</th>\n",
              "      <td>1</td>\n",
              "      <td>4</td>\n",
              "      <td>23.027714</td>\n",
              "      <td>0.367984</td>\n",
              "      <td>0.912328</td>\n",
              "      <td>2.559703</td>\n",
              "      <td>1.316000</td>\n",
              "      <td>-1.679829</td>\n",
              "      <td>1.507361</td>\n",
              "      <td>-0.312652</td>\n",
              "      <td>45.352911</td>\n",
              "    </tr>\n",
              "    <tr>\n",
              "      <th>4</th>\n",
              "      <td>1</td>\n",
              "      <td>5</td>\n",
              "      <td>18.029166</td>\n",
              "      <td>1.809185</td>\n",
              "      <td>0.538362</td>\n",
              "      <td>-0.004541</td>\n",
              "      <td>1.378819</td>\n",
              "      <td>1.395892</td>\n",
              "      <td>1.507361</td>\n",
              "      <td>-0.720589</td>\n",
              "      <td>35.816861</td>\n",
              "    </tr>\n",
              "  </tbody>\n",
              "</table>\n",
              "</div>\n",
              "    <div class=\"colab-df-buttons\">\n",
              "\n",
              "  <div class=\"colab-df-container\">\n",
              "    <button class=\"colab-df-convert\" onclick=\"convertToInteractive('df-368bb4ba-3864-42ab-ac89-839d2d6a4449')\"\n",
              "            title=\"Convert this dataframe to an interactive table.\"\n",
              "            style=\"display:none;\">\n",
              "\n",
              "  <svg xmlns=\"http://www.w3.org/2000/svg\" height=\"24px\" viewBox=\"0 -960 960 960\">\n",
              "    <path d=\"M120-120v-720h720v720H120Zm60-500h600v-160H180v160Zm220 220h160v-160H400v160Zm0 220h160v-160H400v160ZM180-400h160v-160H180v160Zm440 0h160v-160H620v160ZM180-180h160v-160H180v160Zm440 0h160v-160H620v160Z\"/>\n",
              "  </svg>\n",
              "    </button>\n",
              "\n",
              "  <style>\n",
              "    .colab-df-container {\n",
              "      display:flex;\n",
              "      gap: 12px;\n",
              "    }\n",
              "\n",
              "    .colab-df-convert {\n",
              "      background-color: #E8F0FE;\n",
              "      border: none;\n",
              "      border-radius: 50%;\n",
              "      cursor: pointer;\n",
              "      display: none;\n",
              "      fill: #1967D2;\n",
              "      height: 32px;\n",
              "      padding: 0 0 0 0;\n",
              "      width: 32px;\n",
              "    }\n",
              "\n",
              "    .colab-df-convert:hover {\n",
              "      background-color: #E2EBFA;\n",
              "      box-shadow: 0px 1px 2px rgba(60, 64, 67, 0.3), 0px 1px 3px 1px rgba(60, 64, 67, 0.15);\n",
              "      fill: #174EA6;\n",
              "    }\n",
              "\n",
              "    .colab-df-buttons div {\n",
              "      margin-bottom: 4px;\n",
              "    }\n",
              "\n",
              "    [theme=dark] .colab-df-convert {\n",
              "      background-color: #3B4455;\n",
              "      fill: #D2E3FC;\n",
              "    }\n",
              "\n",
              "    [theme=dark] .colab-df-convert:hover {\n",
              "      background-color: #434B5C;\n",
              "      box-shadow: 0px 1px 3px 1px rgba(0, 0, 0, 0.15);\n",
              "      filter: drop-shadow(0px 1px 2px rgba(0, 0, 0, 0.3));\n",
              "      fill: #FFFFFF;\n",
              "    }\n",
              "  </style>\n",
              "\n",
              "    <script>\n",
              "      const buttonEl =\n",
              "        document.querySelector('#df-368bb4ba-3864-42ab-ac89-839d2d6a4449 button.colab-df-convert');\n",
              "      buttonEl.style.display =\n",
              "        google.colab.kernel.accessAllowed ? 'block' : 'none';\n",
              "\n",
              "      async function convertToInteractive(key) {\n",
              "        const element = document.querySelector('#df-368bb4ba-3864-42ab-ac89-839d2d6a4449');\n",
              "        const dataTable =\n",
              "          await google.colab.kernel.invokeFunction('convertToInteractive',\n",
              "                                                    [key], {});\n",
              "        if (!dataTable) return;\n",
              "\n",
              "        const docLinkHtml = 'Like what you see? Visit the ' +\n",
              "          '<a target=\"_blank\" href=https://colab.research.google.com/notebooks/data_table.ipynb>data table notebook</a>'\n",
              "          + ' to learn more about interactive tables.';\n",
              "        element.innerHTML = '';\n",
              "        dataTable['output_type'] = 'display_data';\n",
              "        await google.colab.output.renderOutput(dataTable, element);\n",
              "        const docLink = document.createElement('div');\n",
              "        docLink.innerHTML = docLinkHtml;\n",
              "        element.appendChild(docLink);\n",
              "      }\n",
              "    </script>\n",
              "  </div>\n",
              "\n",
              "\n",
              "<div id=\"df-13da5035-2e8a-444d-857e-d078bf2ff21e\">\n",
              "  <button class=\"colab-df-quickchart\" onclick=\"quickchart('df-13da5035-2e8a-444d-857e-d078bf2ff21e')\"\n",
              "            title=\"Suggest charts\"\n",
              "            style=\"display:none;\">\n",
              "\n",
              "<svg xmlns=\"http://www.w3.org/2000/svg\" height=\"24px\"viewBox=\"0 0 24 24\"\n",
              "     width=\"24px\">\n",
              "    <g>\n",
              "        <path d=\"M19 3H5c-1.1 0-2 .9-2 2v14c0 1.1.9 2 2 2h14c1.1 0 2-.9 2-2V5c0-1.1-.9-2-2-2zM9 17H7v-7h2v7zm4 0h-2V7h2v10zm4 0h-2v-4h2v4z\"/>\n",
              "    </g>\n",
              "</svg>\n",
              "  </button>\n",
              "\n",
              "<style>\n",
              "  .colab-df-quickchart {\n",
              "      --bg-color: #E8F0FE;\n",
              "      --fill-color: #1967D2;\n",
              "      --hover-bg-color: #E2EBFA;\n",
              "      --hover-fill-color: #174EA6;\n",
              "      --disabled-fill-color: #AAA;\n",
              "      --disabled-bg-color: #DDD;\n",
              "  }\n",
              "\n",
              "  [theme=dark] .colab-df-quickchart {\n",
              "      --bg-color: #3B4455;\n",
              "      --fill-color: #D2E3FC;\n",
              "      --hover-bg-color: #434B5C;\n",
              "      --hover-fill-color: #FFFFFF;\n",
              "      --disabled-bg-color: #3B4455;\n",
              "      --disabled-fill-color: #666;\n",
              "  }\n",
              "\n",
              "  .colab-df-quickchart {\n",
              "    background-color: var(--bg-color);\n",
              "    border: none;\n",
              "    border-radius: 50%;\n",
              "    cursor: pointer;\n",
              "    display: none;\n",
              "    fill: var(--fill-color);\n",
              "    height: 32px;\n",
              "    padding: 0;\n",
              "    width: 32px;\n",
              "  }\n",
              "\n",
              "  .colab-df-quickchart:hover {\n",
              "    background-color: var(--hover-bg-color);\n",
              "    box-shadow: 0 1px 2px rgba(60, 64, 67, 0.3), 0 1px 3px 1px rgba(60, 64, 67, 0.15);\n",
              "    fill: var(--button-hover-fill-color);\n",
              "  }\n",
              "\n",
              "  .colab-df-quickchart-complete:disabled,\n",
              "  .colab-df-quickchart-complete:disabled:hover {\n",
              "    background-color: var(--disabled-bg-color);\n",
              "    fill: var(--disabled-fill-color);\n",
              "    box-shadow: none;\n",
              "  }\n",
              "\n",
              "  .colab-df-spinner {\n",
              "    border: 2px solid var(--fill-color);\n",
              "    border-color: transparent;\n",
              "    border-bottom-color: var(--fill-color);\n",
              "    animation:\n",
              "      spin 1s steps(1) infinite;\n",
              "  }\n",
              "\n",
              "  @keyframes spin {\n",
              "    0% {\n",
              "      border-color: transparent;\n",
              "      border-bottom-color: var(--fill-color);\n",
              "      border-left-color: var(--fill-color);\n",
              "    }\n",
              "    20% {\n",
              "      border-color: transparent;\n",
              "      border-left-color: var(--fill-color);\n",
              "      border-top-color: var(--fill-color);\n",
              "    }\n",
              "    30% {\n",
              "      border-color: transparent;\n",
              "      border-left-color: var(--fill-color);\n",
              "      border-top-color: var(--fill-color);\n",
              "      border-right-color: var(--fill-color);\n",
              "    }\n",
              "    40% {\n",
              "      border-color: transparent;\n",
              "      border-right-color: var(--fill-color);\n",
              "      border-top-color: var(--fill-color);\n",
              "    }\n",
              "    60% {\n",
              "      border-color: transparent;\n",
              "      border-right-color: var(--fill-color);\n",
              "    }\n",
              "    80% {\n",
              "      border-color: transparent;\n",
              "      border-right-color: var(--fill-color);\n",
              "      border-bottom-color: var(--fill-color);\n",
              "    }\n",
              "    90% {\n",
              "      border-color: transparent;\n",
              "      border-bottom-color: var(--fill-color);\n",
              "    }\n",
              "  }\n",
              "</style>\n",
              "\n",
              "  <script>\n",
              "    async function quickchart(key) {\n",
              "      const quickchartButtonEl =\n",
              "        document.querySelector('#' + key + ' button');\n",
              "      quickchartButtonEl.disabled = true;  // To prevent multiple clicks.\n",
              "      quickchartButtonEl.classList.add('colab-df-spinner');\n",
              "      try {\n",
              "        const charts = await google.colab.kernel.invokeFunction(\n",
              "            'suggestCharts', [key], {});\n",
              "      } catch (error) {\n",
              "        console.error('Error during call to suggestCharts:', error);\n",
              "      }\n",
              "      quickchartButtonEl.classList.remove('colab-df-spinner');\n",
              "      quickchartButtonEl.classList.add('colab-df-quickchart-complete');\n",
              "    }\n",
              "    (() => {\n",
              "      let quickchartButtonEl =\n",
              "        document.querySelector('#df-13da5035-2e8a-444d-857e-d078bf2ff21e button');\n",
              "      quickchartButtonEl.style.display =\n",
              "        google.colab.kernel.accessAllowed ? 'block' : 'none';\n",
              "    })();\n",
              "  </script>\n",
              "</div>\n",
              "\n",
              "    </div>\n",
              "  </div>\n"
            ],
            "application/vnd.google.colaboratory.intrinsic+json": {
              "type": "dataframe",
              "variable_name": "df",
              "summary": "{\n  \"name\": \"df\",\n  \"rows\": 1000,\n  \"fields\": [\n    {\n      \"column\": \"id\",\n      \"properties\": {\n        \"dtype\": \"number\",\n        \"std\": 28,\n        \"min\": 1,\n        \"max\": 100,\n        \"num_unique_values\": 100,\n        \"samples\": [\n          84,\n          54,\n          71\n        ],\n        \"semantic_type\": \"\",\n        \"description\": \"\"\n      }\n    },\n    {\n      \"column\": \"year\",\n      \"properties\": {\n        \"dtype\": \"number\",\n        \"std\": 2,\n        \"min\": 1,\n        \"max\": 10,\n        \"num_unique_values\": 10,\n        \"samples\": [\n          9,\n          2,\n          6\n        ],\n        \"semantic_type\": \"\",\n        \"description\": \"\"\n      }\n    },\n    {\n      \"column\": \"x\",\n      \"properties\": {\n        \"dtype\": \"number\",\n        \"std\": 7.995772648589807,\n        \"min\": -25.188294797134727,\n        \"max\": 25.714157745844503,\n        \"num_unique_values\": 1000,\n        \"samples\": [\n          -14.008285008718275,\n          2.4298706248037805,\n          1.6624299206423498\n        ],\n        \"semantic_type\": \"\",\n        \"description\": \"\"\n      }\n    },\n    {\n      \"column\": \"confounder_1\",\n      \"properties\": {\n        \"dtype\": \"number\",\n        \"std\": 0.9920881933189981,\n        \"min\": -3.2773040752401994,\n        \"max\": 3.2205684266919756,\n        \"num_unique_values\": 1000,\n        \"samples\": [\n          0.2471310135483618,\n          -0.18529836986797965,\n          1.0625606564012826\n        ],\n        \"semantic_type\": \"\",\n        \"description\": \"\"\n      }\n    },\n    {\n      \"column\": \"confounder_2\",\n      \"properties\": {\n        \"dtype\": \"number\",\n        \"std\": 0.9814813165588316,\n        \"min\": -3.4348191548712017,\n        \"max\": 2.7144044555237934,\n        \"num_unique_values\": 1000,\n        \"samples\": [\n          -0.16958635827211774,\n          -0.4816924997442936,\n          0.2933221458026959\n        ],\n        \"semantic_type\": \"\",\n        \"description\": \"\"\n      }\n    },\n    {\n      \"column\": \"confounder_3\",\n      \"properties\": {\n        \"dtype\": \"number\",\n        \"std\": 1.0205841126774216,\n        \"min\": -3.1507615883789035,\n        \"max\": 3.0011469697548976,\n        \"num_unique_values\": 1000,\n        \"samples\": [\n          0.7262483967279513,\n          -0.5060882141030251,\n          0.42096798523932766\n        ],\n        \"semantic_type\": \"\",\n        \"description\": \"\"\n      }\n    },\n    {\n      \"column\": \"confounder_4\",\n      \"properties\": {\n        \"dtype\": \"number\",\n        \"std\": 0.9997009316906552,\n        \"min\": -3.5993996805076014,\n        \"max\": 2.9128104813960727,\n        \"num_unique_values\": 1000,\n        \"samples\": [\n          -1.4526478337393594,\n          0.41864556802719555,\n          -0.7106881220066582\n        ],\n        \"semantic_type\": \"\",\n        \"description\": \"\"\n      }\n    },\n    {\n      \"column\": \"unobserved_confounder\",\n      \"properties\": {\n        \"dtype\": \"number\",\n        \"std\": 0.9915678174793074,\n        \"min\": -3.880898411336608,\n        \"max\": 3.125635148964697,\n        \"num_unique_values\": 1000,\n        \"samples\": [\n          -0.6624343515388721,\n          0.6768147022091092,\n          1.7967619770154886\n        ],\n        \"semantic_type\": \"\",\n        \"description\": \"\"\n      }\n    },\n    {\n      \"column\": \"unobserved_fe\",\n      \"properties\": {\n        \"dtype\": \"number\",\n        \"std\": 1.0312256492721603,\n        \"min\": -2.327816050112332,\n        \"max\": 2.3382645240579762,\n        \"num_unique_values\": 100,\n        \"samples\": [\n          -0.9844486104755175,\n          1.0182600154465604,\n          0.3828391202307064\n        ],\n        \"semantic_type\": \"\",\n        \"description\": \"\"\n      }\n    },\n    {\n      \"column\": \"iv\",\n      \"properties\": {\n        \"dtype\": \"number\",\n        \"std\": 0.9735530976810924,\n        \"min\": -3.5635166606247353,\n        \"max\": 2.7638440798495663,\n        \"num_unique_values\": 1000,\n        \"samples\": [\n          0.010281457155327522,\n          0.1491613231433755,\n          -0.9055276404436707\n        ],\n        \"semantic_type\": \"\",\n        \"description\": \"\"\n      }\n    },\n    {\n      \"column\": \"y\",\n      \"properties\": {\n        \"dtype\": \"number\",\n        \"std\": 15.821418676182935,\n        \"min\": -46.6236145381053,\n        \"max\": 50.443722627739334,\n        \"num_unique_values\": 1000,\n        \"samples\": [\n          -28.084794262701593,\n          4.5202421626143146,\n          4.6143259806343\n        ],\n        \"semantic_type\": \"\",\n        \"description\": \"\"\n      }\n    }\n  ]\n}"
            }
          },
          "metadata": {},
          "execution_count": 30
        }
      ],
      "source": [
        "# Set seed for reproducibility\n",
        "np.random.seed(1234)\n",
        "\n",
        "# Define constants\n",
        "num_individuals = 100\n",
        "num_years = 10\n",
        "total_rows = num_individuals * num_years\n",
        "\n",
        "# Generate individual IDs and time periods\n",
        "individuals = np.repeat(np.arange(1, num_individuals + 1), num_years)\n",
        "years = np.tile(np.arange(1, num_years + 1), num_individuals)\n",
        "\n",
        "# Generate instrumental variable independently\n",
        "iv = np.random.normal(0, 1, total_rows)\n",
        "\n",
        "# Create unobserved confounder\n",
        "unobserved_confounder =  np.random.normal(0, 1, total_rows)\n",
        "\n",
        "# Generate confounders\n",
        "confounder_1 = np.random.normal(0, 1, total_rows)\n",
        "confounder_2 =  np.random.normal(0, 1, total_rows)\n",
        "confounder_3 = np.random.normal(0, 1, total_rows)\n",
        "confounder_4 = np.random.normal(0, 1, total_rows)\n",
        "\n",
        "# Create individual-specific fixed effects\n",
        "unobserved_fe = np.repeat(np.random.normal(0, 1, num_individuals), num_years)\n",
        "\n",
        "# Define effects: linear, interaction, and quadratic\n",
        "interaction_effect = confounder_1 * confounder_2\n",
        "quadratic_effect = confounder_3 ** 2\n",
        "\n",
        "# Generate explanatory variable\n",
        "explanatory_var = (1 * confounder_1 +\n",
        "                    1 * confounder_2 +\n",
        "                    1 * confounder_3 +\n",
        "                    5 * confounder_4 +\n",
        "                    1 * iv +\n",
        "                    1 * unobserved_confounder +\n",
        "                    1 * interaction_effect +\n",
        "                    1 * quadratic_effect +\n",
        "                    5 * unobserved_fe +\n",
        "                    np.random.normal(0, 1, total_rows))\n",
        "\n",
        "\n",
        "\n",
        "# Define outcome variable based on specified effects\n",
        "outcome = (1 * explanatory_var +\n",
        "           1 * confounder_1 +\n",
        "           1 * confounder_2 +\n",
        "           1 * confounder_3 +\n",
        "           5 * confounder_4 +\n",
        "           1 * unobserved_confounder +\n",
        "           1 * interaction_effect +\n",
        "           1 * quadratic_effect +\n",
        "           5 * unobserved_fe +\n",
        "           np.random.normal(0, 1, total_rows))  # Adding some noise\n",
        "\n",
        "# Create DataFrame\n",
        "df = pd.DataFrame({\n",
        "    'id': individuals,\n",
        "    'year': years,\n",
        "    'x': explanatory_var,\n",
        "    'confounder_1': confounder_1,\n",
        "    'confounder_2': confounder_2,\n",
        "    'confounder_3': confounder_3,\n",
        "    'confounder_4': confounder_4,\n",
        "    'unobserved_confounder': unobserved_confounder,\n",
        "    'unobserved_fe': unobserved_fe,\n",
        "    'iv': iv,\n",
        "    'y': outcome\n",
        "})\n",
        "\n",
        "# Display the first few rows of the dataset\n",
        "df.head()\n"
      ]
    },
    {
      "cell_type": "code",
      "source": [
        "# prompt: correlation matrix between the regressors\n",
        "\n",
        "# Correlation matrix between regressors\n",
        "regressors = ['x', 'confounder_1', 'confounder_2', 'confounder_3', 'confounder_4',  'unobserved_confounder']\n",
        "correlation_matrix = df[regressors].corr()\n",
        "\n",
        "# Optionally, you can visualize the correlation matrix using a heatmap\n",
        "plt.figure(figsize=(10, 8))\n",
        "sns.heatmap(correlation_matrix, annot=True, cmap='coolwarm', fmt=\".2f\")\n",
        "plt.title('Correlation Matrix of Regressors')\n",
        "plt.show()"
      ],
      "metadata": {
        "colab": {
          "base_uri": "https://localhost:8080/",
          "height": 852
        },
        "id": "fwNLDqQkz_wv",
        "outputId": "32114cca-70b8-4211-8304-0b43ef31900a"
      },
      "execution_count": null,
      "outputs": [
        {
          "output_type": "display_data",
          "data": {
            "text/plain": [
              "<Figure size 1000x800 with 2 Axes>"
            ],
            "image/png": "[encoded data removed]"
          },
          "metadata": {}
        }
      ]
    },
    {
      "cell_type": "markdown",
      "source": [
        "## 1. Directed Acyclic Graph (DAG)"
      ],
      "metadata": {
        "id": "iUZTt33LKJ3T"
      }
    },
    {
      "cell_type": "code",
      "source": [
        "# Create a directed graph\n",
        "dag = gr.Digraph(\"causal_dag\", format=\"png\")\n",
        "\n",
        "# Define nodes\n",
        "dag.node(\"X\", \"Explanatory Variable (X)\")\n",
        "dag.node(\"C1-C4\", \"Confounders C1-C4)\")\n",
        "dag.node(\"U\", \"Unobserved Confounder (U)\", style=\"filled\", fillcolor=\"lightcoral\")\n",
        "dag.node(\"FE\", \"Fixed Confounder\", style=\"filled\", fillcolor=\"lightgrey\")\n",
        "dag.node(\"IV\", \"Instrumental Variable (IV)\", style=\"filled\", fillcolor=\"lightblue\")\n",
        "dag.node(\"Y\", \"Outcome (Y)\")\n",
        "\n",
        "# Define edges\n",
        "dag.edge(\"IV\", \"X\")         # IV affects U (instrument relevance)\n",
        "dag.edge(\"U\", \"Y\")          # U affects Y (confounding path)\n",
        "dag.edge(\"U\", \"X\")          # U affects X (confounding path)\n",
        "dag.edge(\"FE\", \"Y\")         # Fixed effect affects Y\n",
        "dag.edge(\"FE\", \"X\")         # Fixed effect affects X\n",
        "dag.edge(\"X\", \"Y\")          # Explanatory variable affects Y\n",
        "dag.edge(\"C1-C4\", \"Y\")      # Confounders C1-C4affects Y\n",
        "dag.edge(\"C1-C4\", \"X\")      # Confounders C1-C4 affects X\n",
        "\n",
        "\n",
        "# Render the DAG\n",
        "dag"
      ],
      "metadata": {
        "colab": {
          "base_uri": "https://localhost:8080/",
          "height": 272
        },
        "id": "Q1Y8-scIJ0Uk",
        "outputId": "ecc6eb1e-3a8f-4e9e-96c9-1c293d4ac62d"
      },
      "execution_count": null,
      "outputs": [
        {
          "output_type": "execute_result",
          "data": {
            "image/svg+xml": "<?xml version=\"1.0\" encoding=\"UTF-8\" standalone=\"no\"?>\n<!DOCTYPE svg PUBLIC \"-//W3C//DTD SVG 1.1//EN\"\n \"http://www.w3.org/Graphics/SVG/1.1/DTD/svg11.dtd\">\n<!-- Generated by graphviz version 2.43.0 (0)\n -->\n<!-- Title: causal_dag Pages: 1 -->\n<svg width=\"818pt\" height=\"188pt\"\n viewBox=\"0.00 0.00 817.54 188.00\" xmlns=\"http://www.w3.org/2000/svg\" xmlns:xlink=\"http://www.w3.org/1999/xlink\">\n<g id=\"graph0\" class=\"graph\" transform=\"scale(1 1) rotate(0) translate(4 184)\">\n<title>causal_dag</title>\n<polygon fill=\"white\" stroke=\"transparent\" points=\"-4,4 -4,-184 813.54,-184 813.54,4 -4,4\"/>\n<!-- X -->\n<g id=\"node1\" class=\"node\">\n<title>X</title>\n<ellipse fill=\"none\" stroke=\"black\" cx=\"428.14\" cy=\"-90\" rx=\"99.38\" ry=\"18\"/>\n<text text-anchor=\"middle\" x=\"428.14\" y=\"-86.3\" font-family=\"Times,serif\" font-size=\"14.00\">Explanatory Variable (X)</text>\n</g>\n<!-- Y -->\n<g id=\"node6\" class=\"node\">\n<title>Y</title>\n<ellipse fill=\"none\" stroke=\"black\" cx=\"364.14\" cy=\"-18\" rx=\"57.69\" ry=\"18\"/>\n<text text-anchor=\"middle\" x=\"364.14\" y=\"-14.3\" font-family=\"Times,serif\" font-size=\"14.00\">Outcome (Y)</text>\n</g>\n<!-- X&#45;&gt;Y -->\n<g id=\"edge6\" class=\"edge\">\n<title>X&#45;&gt;Y</title>\n<path fill=\"none\" stroke=\"black\" d=\"M412.65,-72.05C404.79,-63.46 395.1,-52.86 386.45,-43.4\"/>\n<polygon fill=\"black\" stroke=\"black\" points=\"388.82,-40.81 379.49,-35.79 383.66,-45.53 388.82,-40.81\"/>\n</g>\n<!-- C1&#45;C4 -->\n<g id=\"node2\" class=\"node\">\n<title>C1&#45;C4</title>\n<ellipse fill=\"none\" stroke=\"black\" cx=\"85.14\" cy=\"-162\" rx=\"85.29\" ry=\"18\"/>\n<text text-anchor=\"middle\" x=\"85.14\" y=\"-158.3\" font-family=\"Times,serif\" font-size=\"14.00\">Confounders C1&#45;C4)</text>\n</g>\n<!-- C1&#45;C4&#45;&gt;X -->\n<g id=\"edge8\" class=\"edge\">\n<title>C1&#45;C4&#45;&gt;X</title>\n<path fill=\"none\" stroke=\"black\" d=\"M144.11,-148.97C202.47,-137.06 291.96,-118.79 354.86,-105.96\"/>\n<polygon fill=\"black\" stroke=\"black\" points=\"355.62,-109.37 364.72,-103.94 354.22,-102.51 355.62,-109.37\"/>\n</g>\n<!-- C1&#45;C4&#45;&gt;Y -->\n<g id=\"edge7\" class=\"edge\">\n<title>C1&#45;C4&#45;&gt;Y</title>\n<path fill=\"none\" stroke=\"black\" d=\"M116.34,-145.12C167.82,-118.92 270.4,-66.71 326.08,-38.37\"/>\n<polygon fill=\"black\" stroke=\"black\" points=\"327.92,-41.36 335.25,-33.71 324.75,-35.12 327.92,-41.36\"/>\n</g>\n<!-- U -->\n<g id=\"node3\" class=\"node\">\n<title>U</title>\n<ellipse fill=\"lightcoral\" stroke=\"black\" cx=\"301.14\" cy=\"-162\" rx=\"112.38\" ry=\"18\"/>\n<text text-anchor=\"middle\" x=\"301.14\" y=\"-158.3\" font-family=\"Times,serif\" font-size=\"14.00\">Unobserved Confounder (U)</text>\n</g>\n<!-- U&#45;&gt;X -->\n<g id=\"edge3\" class=\"edge\">\n<title>U&#45;&gt;X</title>\n<path fill=\"none\" stroke=\"black\" d=\"M330.92,-144.59C348.43,-134.93 370.77,-122.62 389.62,-112.23\"/>\n<polygon fill=\"black\" stroke=\"black\" points=\"391.48,-115.2 398.55,-107.31 388.11,-109.07 391.48,-115.2\"/>\n</g>\n<!-- U&#45;&gt;Y -->\n<g id=\"edge2\" class=\"edge\">\n<title>U&#45;&gt;Y</title>\n<path fill=\"none\" stroke=\"black\" d=\"M302.36,-143.81C304.22,-125.28 308.83,-95.31 320.14,-72 325.13,-61.73 332.51,-51.74 339.82,-43.26\"/>\n<polygon fill=\"black\" stroke=\"black\" points=\"342.61,-45.4 346.71,-35.63 337.41,-40.7 342.61,-45.4\"/>\n</g>\n<!-- FE -->\n<g id=\"node4\" class=\"node\">\n<title>FE</title>\n<ellipse fill=\"lightgrey\" stroke=\"black\" cx=\"734.14\" cy=\"-162\" rx=\"75.29\" ry=\"18\"/>\n<text text-anchor=\"middle\" x=\"734.14\" y=\"-158.3\" font-family=\"Times,serif\" font-size=\"14.00\">Fixed Confounder</text>\n</g>\n<!-- FE&#45;&gt;X -->\n<g id=\"edge5\" class=\"edge\">\n<title>FE&#45;&gt;X</title>\n<path fill=\"none\" stroke=\"black\" d=\"M681.54,-148.97C630.6,-137.31 553.08,-119.58 497.2,-106.8\"/>\n<polygon fill=\"black\" stroke=\"black\" points=\"497.9,-103.37 487.37,-104.55 496.34,-110.19 497.9,-103.37\"/>\n</g>\n<!-- FE&#45;&gt;Y -->\n<g id=\"edge4\" class=\"edge\">\n<title>FE&#45;&gt;Y</title>\n<path fill=\"none\" stroke=\"black\" d=\"M702.76,-145.44C664.13,-126.63 596.27,-94.68 536.14,-72 496.49,-57.05 450.59,-43.06 416.17,-33.22\"/>\n<polygon fill=\"black\" stroke=\"black\" points=\"416.91,-29.79 406.34,-30.43 415,-36.52 416.91,-29.79\"/>\n</g>\n<!-- IV -->\n<g id=\"node5\" class=\"node\">\n<title>IV</title>\n<ellipse fill=\"lightblue\" stroke=\"black\" cx=\"536.14\" cy=\"-162\" rx=\"104.78\" ry=\"18\"/>\n<text text-anchor=\"middle\" x=\"536.14\" y=\"-158.3\" font-family=\"Times,serif\" font-size=\"14.00\">Instrumental Variable (IV)</text>\n</g>\n<!-- IV&#45;&gt;X -->\n<g id=\"edge1\" class=\"edge\">\n<title>IV&#45;&gt;X</title>\n<path fill=\"none\" stroke=\"black\" d=\"M510.55,-144.41C496.02,-135 477.66,-123.1 461.96,-112.92\"/>\n<polygon fill=\"black\" stroke=\"black\" points=\"463.85,-109.97 453.55,-107.47 460.04,-115.85 463.85,-109.97\"/>\n</g>\n</g>\n</svg>\n",
            "text/plain": [
              "<graphviz.graphs.Digraph at 0x7cb8d65aac50>"
            ]
          },
          "metadata": {},
          "execution_count": 32
        }
      ]
    },
    {
      "cell_type": "markdown",
      "source": [
        "## 2. Simple Linear Regression\n",
        "\n",
        "The first step is to run a simple linear regression.\n",
        "\n",
        "$$\n",
        "\\begin{aligned}\n",
        "& Y = \\beta_0 + \\beta_1 X + \\epsilon\n",
        "\\end{aligned}\n",
        "$$"
      ],
      "metadata": {
        "id": "MHy5xKv0JxaA"
      }
    },
    {
      "cell_type": "code",
      "source": [
        "# Define the model formula without controls\n",
        "model_formula_no_controls = 'y ~ x'\n",
        "\n",
        "# Fit the model using ordinary least squares (OLS)\n",
        "# Use clustered standard errors\n",
        "slr = smf.ols(formula=model_formula_no_controls, data=df).fit(cov_type='cluster', cov_kwds={'groups': df['id']})\n",
        "\n",
        "# Store the model summary in a variable\n",
        "slr_summary = slr.summary\n",
        "\n",
        "\n",
        "# Print the model summary\n",
        "print(slr.summary())"
      ],
      "metadata": {
        "colab": {
          "base_uri": "https://localhost:8080/"
        },
        "id": "Kgbi2882MRGQ",
        "outputId": "10d5436a-5c18-47e6-c4d4-031a6579743e"
      },
      "execution_count": null,
      "outputs": [
        {
          "output_type": "stream",
          "name": "stdout",
          "text": [
            "                            OLS Regression Results                            \n",
            "==============================================================================\n",
            "Dep. Variable:                      y   R-squared:                       0.989\n",
            "Model:                            OLS   Adj. R-squared:                  0.989\n",
            "Method:                 Least Squares   F-statistic:                 8.651e+04\n",
            "Date:                Tue, 12 Nov 2024   Prob (F-statistic):          1.89e-147\n",
            "Time:                        22:01:55   Log-Likelihood:                -1917.0\n",
            "No. Observations:                1000   AIC:                             3838.\n",
            "Df Residuals:                     998   BIC:                             3848.\n",
            "Df Model:                           1                                         \n",
            "Covariance Type:              cluster                                         \n",
            "==============================================================================\n",
            "                 coef    std err          z      P>|z|      [0.025      0.975]\n",
            "------------------------------------------------------------------------------\n",
            "Intercept      0.0318      0.054      0.593      0.553      -0.073       0.137\n",
            "x              1.9680      0.007    294.130      0.000       1.955       1.981\n",
            "==============================================================================\n",
            "Omnibus:                        0.531   Durbin-Watson:                   2.084\n",
            "Prob(Omnibus):                  0.767   Jarque-Bera (JB):                0.601\n",
            "Skew:                           0.049   Prob(JB):                        0.740\n",
            "Kurtosis:                       2.930   Cond. No.                         8.22\n",
            "==============================================================================\n",
            "\n",
            "Notes:\n",
            "[1] Standard Errors are robust to cluster correlation (cluster)\n"
          ]
        }
      ]
    },
    {
      "cell_type": "markdown",
      "source": [
        "## 3. Multiple Linear Regression\n",
        "\n",
        "Now we can include a vector of observed controls. A strong assumption with respect to the function form is made: All the effects of the confounders have no interactions and are linear.\n",
        "\n",
        "$$\n",
        "\\begin{aligned}\n",
        "& Y = \\beta_0 + \\beta_1 X + Z'\\lambda + \\epsilon\n",
        "\\end{aligned}\n",
        "$$"
      ],
      "metadata": {
        "id": "bCXYvkdGNaw-"
      }
    },
    {
      "cell_type": "code",
      "source": [
        "# Define the model formula without controls\n",
        "model_formula_no_controls = 'y ~ x+confounder_1+confounder_2+confounder_3+confounder_4'\n",
        "\n",
        "# Fit the model using ordinary least squares (OLS)\n",
        "# Use clustered standard errors\n",
        "mlr = smf.ols(formula=model_formula_no_controls, data=df).fit(cov_type='cluster', cov_kwds={'groups': df['id']})\n",
        "\n",
        "# Store the model summary in a variable\n",
        "mlr_summary = mlr.summary\n",
        "\n",
        "\n",
        "# Print the model summary\n",
        "print(mlr.summary())"
      ],
      "metadata": {
        "colab": {
          "base_uri": "https://localhost:8080/"
        },
        "id": "13u9xtmCNZxj",
        "outputId": "a4359bd5-4be7-4a0c-cb3c-3f60fa6d5f42"
      },
      "execution_count": null,
      "outputs": [
        {
          "output_type": "stream",
          "name": "stdout",
          "text": [
            "                            OLS Regression Results                            \n",
            "==============================================================================\n",
            "Dep. Variable:                      y   R-squared:                       0.989\n",
            "Model:                            OLS   Adj. R-squared:                  0.989\n",
            "Method:                 Least Squares   F-statistic:                 1.659e+04\n",
            "Date:                Tue, 12 Nov 2024   Prob (F-statistic):          5.17e-143\n",
            "Time:                        22:01:55   Log-Likelihood:                -1910.2\n",
            "No. Observations:                1000   AIC:                             3832.\n",
            "Df Residuals:                     994   BIC:                             3862.\n",
            "Df Model:                           5                                         \n",
            "Covariance Type:              cluster                                         \n",
            "================================================================================\n",
            "                   coef    std err          z      P>|z|      [0.025      0.975]\n",
            "--------------------------------------------------------------------------------\n",
            "Intercept        0.0604      0.055      1.094      0.274      -0.048       0.169\n",
            "x                1.9450      0.009    207.733      0.000       1.927       1.963\n",
            "confounder_1     0.0158      0.053      0.299      0.765      -0.088       0.119\n",
            "confounder_2     0.0444      0.056      0.799      0.424      -0.064       0.153\n",
            "confounder_3     0.0274      0.052      0.532      0.595      -0.074       0.129\n",
            "confounder_4     0.2594      0.070      3.691      0.000       0.122       0.397\n",
            "==============================================================================\n",
            "Omnibus:                        0.661   Durbin-Watson:                   2.047\n",
            "Prob(Omnibus):                  0.719   Jarque-Bera (JB):                0.720\n",
            "Skew:                           0.058   Prob(JB):                        0.698\n",
            "Kurtosis:                       2.940   Cond. No.                         11.5\n",
            "==============================================================================\n",
            "\n",
            "Notes:\n",
            "[1] Standard Errors are robust to cluster correlation (cluster)\n"
          ]
        }
      ]
    },
    {
      "cell_type": "code",
      "source": [
        "# Create a DataFrame to store the coefficients and confidence intervals\n",
        "summary_data = {\n",
        "    'Model': ['Without Controls', 'With Controls'],\n",
        "    'coef': [slr.params['x'], mlr.params['x']],\n",
        "    '2.5 %': [slr.conf_int().loc['x', 0], mlr.conf_int().loc['x', 0]],\n",
        "    '97.5 %': [slr.conf_int().loc['x', 1], mlr.conf_int().loc['x', 1]]\n",
        "}\n",
        "summary_df = pd.DataFrame(summary_data).set_index('Model')\n",
        "\n",
        "# Print the summary\n",
        "print(summary_df[['coef', '2.5 %', '97.5 %']])"
      ],
      "metadata": {
        "colab": {
          "base_uri": "https://localhost:8080/"
        },
        "id": "Nd7EquFay4lN",
        "outputId": "332ae3dc-fada-44e2-d7bc-f1d18773cf6c"
      },
      "execution_count": null,
      "outputs": [
        {
          "output_type": "stream",
          "name": "stdout",
          "text": [
            "                      coef     2.5 %    97.5 %\n",
            "Model                                         \n",
            "Without Controls  1.967980  1.954867  1.981094\n",
            "With Controls     1.944989  1.926638  1.963340\n"
          ]
        }
      ]
    },
    {
      "cell_type": "markdown",
      "source": [
        "## 4. Double Machine Learning\n",
        "\n",
        "The next step is to relax the assumptions on the functional form of the nuisance function.\n",
        "\n",
        "- **DML** = Frisch-Waugh-Lovell Theorem **_on Steroids_**\n",
        "\n",
        "- Imagine now a more complex model where $g_0() $ and $ m_0() $ are not necessarily known or linear functions.\n",
        "  \n",
        "  $$\n",
        "  Y = \\beta_1 X + g_0(Z) + \\epsilon\n",
        "  $$\n",
        "  \n",
        "  $$\n",
        "  X = m_0(Z) + \\xi\n",
        "  $$\n",
        "\n",
        "- We can again residualize $ Y $ and $ X $:\n",
        "  \n",
        " $$\n",
        "  \\tilde{Y} = \\beta_1 \\tilde{X} + \\zeta\n",
        "  $$\n",
        "\n",
        "- But this time, we use Machine Learning to estimate $ g_0() $ and $ m_0() $, which are functions of the vector of controls $ Z $.\n"
      ],
      "metadata": {
        "id": "K8vyQKA_pM8m"
      }
    },
    {
      "cell_type": "code",
      "source": [
        "# Create a DoubleMLClusterData object to prepare the data for Double Machine Learning.\n",
        "# This object specifies the outcome variable ('y'), treatment variable ('x'),\n",
        "# clustering variable ('id'), and confounders ('x_cols').\n",
        "obj_dml_data_from_df = DoubleMLClusterData(df, 'y', 'x', ['id'], x_cols=['confounder_1', 'confounder_2', 'confounder_3', 'confounder_4'])\n",
        "\n",
        "# Print the DoubleMLClusterData object to display its properties and data information.\n",
        "print(obj_dml_data_from_df)"
      ],
      "metadata": {
        "colab": {
          "base_uri": "https://localhost:8080/"
        },
        "id": "crf6OPEXDo1t",
        "outputId": "c223d691-4ad7-45d0-c481-97cd996e60f2"
      },
      "execution_count": null,
      "outputs": [
        {
          "output_type": "stream",
          "name": "stdout",
          "text": [
            "================== DoubleMLClusterData Object ==================\n",
            "\n",
            "------------------ Data summary      ------------------\n",
            "Outcome variable: y\n",
            "Treatment variable(s): ['x']\n",
            "Cluster variable(s): ['id']\n",
            "Covariates: ['confounder_1', 'confounder_2', 'confounder_3', 'confounder_4']\n",
            "Instrument variable(s): None\n",
            "No. Observations: 1000\n",
            "\n",
            "------------------ DataFrame info    ------------------\n",
            "<class 'pandas.core.frame.DataFrame'>\n",
            "RangeIndex: 1000 entries, 0 to 999\n",
            "Columns: 11 entries, id to y\n",
            "dtypes: float64(9), int64(2)\n",
            "memory usage: 86.1 KB\n",
            "\n"
          ]
        }
      ]
    },
    {
      "cell_type": "code",
      "source": [
        "# Estimate the ATE using Decision Trees as the machine learning model\n",
        "\n",
        "\n",
        "# Define a Decision Tree Regressor with simple, fixed parameters\n",
        "tree_model = DecisionTreeRegressor(\n",
        "    max_depth=10,  # Limit the depth of the tree to prevent overfitting\n",
        "    min_samples_split=50,  # Minimum samples required to split a node\n",
        "    min_samples_leaf=20  # Minimum samples required to be at a leaf node\n",
        ")\n",
        "\n",
        "# Initialize DoubleMLPLR with the Decision Tree model for both outcome and treatment models\n",
        "dml_tree= dml.DoubleMLPLR(\n",
        "    obj_dml_data_from_df,   # This is the DoubleML data object\n",
        "    ml_l=tree_model,  # Decision Tree model for outcome regression\n",
        "    ml_m=tree_model,  # Decision Tree model for treatment regression\n",
        "    n_folds=3         # Use 3-fold cross-fitting (simpler for students to understand)\n",
        ")\n",
        "\n",
        "# Fit the DoubleMLPLR model\n",
        "dml_tree.fit(store_predictions=True)\n",
        "\n",
        "# Store the model summary in a variable\n",
        "tree_summary = dml_tree.summary  # Assigns the model summary to the 'forest_summary' variable\n",
        "\n",
        "\n",
        "# Display the summary of the estimated Average Treatment Effect (ATE)\n",
        "print(dml_tree.summary)"
      ],
      "metadata": {
        "colab": {
          "base_uri": "https://localhost:8080/"
        },
        "id": "tqbllELVqJ5x",
        "outputId": "c09eda6d-5505-45d7-f708-75b86bc94cf1"
      },
      "execution_count": null,
      "outputs": [
        {
          "output_type": "stream",
          "name": "stdout",
          "text": [
            "       coef   std err           t  P>|t|     2.5 %    97.5 %\n",
            "x  1.935144  0.015377  125.843043    0.0  1.905005  1.965283\n"
          ]
        }
      ]
    },
    {
      "cell_type": "code",
      "source": [
        "# Estimate the ATE using Random Forest as the machine learning model\n",
        "\n",
        "# randomForest: Initialize a Random Forest Regressor for outcome regression\n",
        "randomForest = RandomForestRegressor(\n",
        "    n_estimators=500,  # Number of trees in the forest\n",
        "    max_depth=7,  # Maximum depth of each tree\n",
        "    max_features=3,  # Number of features to consider when looking for the best split\n",
        "    min_samples_leaf=3)  # Minimum number of samples required to be at a leaf node\n",
        "\n",
        "# Initialize the DoubleMLPLR model with Random Forest learners\n",
        "dml_plr_forest = dml.DoubleMLPLR(obj_dml_data_from_df,  # Uses the 'data_dml_base' DoubleMLData object\n",
        "                                 ml_l=randomForest,  # Specifies the Random Forest Regressor for outcome regression\n",
        "                                 ml_m=randomForest,  # Specifies the Random Forest Classifier for treatment regression\n",
        "                                 n_folds=3)  # Sets the number of folds for cross-fitting to 3\n",
        "\n",
        "# Fit the DoubleMLPLR model to the data\n",
        "dml_plr_forest.fit(store_predictions=True)  # Fits the model and stores predictions\n",
        "\n",
        "# Store the model summary in a variable\n",
        "forest_summary = dml_plr_forest.summary  # Assigns the model summary to the 'forest_summary' variable\n",
        "\n",
        "# Print the model summary\n",
        "print(forest_summary)  # Displays the estimated ATE and other model information"
      ],
      "metadata": {
        "colab": {
          "base_uri": "https://localhost:8080/"
        },
        "id": "AdPa_ad1p9og",
        "outputId": "08146e67-bce2-4e50-8cb3-3d6de6fbc026"
      },
      "execution_count": null,
      "outputs": [
        {
          "output_type": "stream",
          "name": "stdout",
          "text": [
            "       coef   std err           t  P>|t|     2.5 %    97.5 %\n",
            "x  1.938364  0.009797  197.845371    0.0  1.919162  1.957567\n"
          ]
        }
      ]
    },
    {
      "cell_type": "code",
      "source": [
        "# Estimate the ATE using Boosted Trees (XGBoost) as the machine learning model\n",
        "\n",
        "# boost: Initialize an XGBoost Regressor for outcome regression\n",
        "boost = XGBRegressor(n_jobs=1,  # Number of parallel threads used to run XGBoost\n",
        "                     objective=\"reg:squarederror\",  # Objective function for regression (squared error)\n",
        "                     eta=0.1,  # Learning rate\n",
        "                     n_estimators=35)  # Number of boosting rounds (trees)\n",
        "\n",
        "\n",
        "# Set the random seed for reproducibility\n",
        "np.random.seed(123)  # Ensures consistent results\n",
        "\n",
        "# Initialize the DoubleMLPLR model with XGBoost learners\n",
        "dml_plr_boost = dml.DoubleMLPLR(obj_dml_data_from_df,  # Uses the 'data_dml_base' DoubleMLData object\n",
        "                                ml_l=boost,  # Specifies the XGBoost Regressor for outcome regression\n",
        "                                ml_m=boost,  # Specifies the XGBoost Classifier for treatment regression\n",
        "                                n_folds=3)  # Sets the number of folds for cross-fitting to 3\n",
        "\n",
        "# Fit the DoubleMLPLR model to the data\n",
        "dml_plr_boost.fit(store_predictions=True)  # Fits the model and stores predictions\n",
        "\n",
        "# Store the model summary in a variable\n",
        "boost_summary = dml_plr_boost.summary  # Assigns the model summary to the 'boost_summary' variable\n",
        "\n",
        "# Print the model summary\n",
        "print(boost_summary)  # Displays the estimated ATE and other model information"
      ],
      "metadata": {
        "colab": {
          "base_uri": "https://localhost:8080/"
        },
        "id": "haA9HbW1qLpm",
        "outputId": "f2fd1689-26a7-4b7d-fd42-8d26ee133831"
      },
      "execution_count": null,
      "outputs": [
        {
          "output_type": "stream",
          "name": "stdout",
          "text": [
            "      coef   std err           t  P>|t|     2.5 %    97.5 %\n",
            "x  1.89006  0.017306  109.214101    0.0  1.856141  1.923979\n"
          ]
        }
      ]
    },
    {
      "cell_type": "code",
      "source": [
        "# Concatenate the summaries and update the index\n",
        "plr_summary = pd.concat([summary_df, forest_summary, tree_summary, boost_summary])\n",
        "plr_summary.index = ['slr', 'mlr', 'forest', 'tree', 'xgb']\n",
        "\n",
        "# Print the updated summary\n",
        "print(plr_summary[['coef', '2.5 %', '97.5 %']])"
      ],
      "metadata": {
        "colab": {
          "base_uri": "https://localhost:8080/"
        },
        "id": "K70GbUtmw96O",
        "outputId": "69726335-2721-42b4-ecfe-cada625b80a2"
      },
      "execution_count": null,
      "outputs": [
        {
          "output_type": "stream",
          "name": "stdout",
          "text": [
            "            coef     2.5 %    97.5 %\n",
            "slr     1.967980  1.954867  1.981094\n",
            "mlr     1.944989  1.926638  1.963340\n",
            "forest  1.938364  1.919162  1.957567\n",
            "tree    1.935144  1.905005  1.965283\n",
            "xgb     1.890060  1.856141  1.923979\n"
          ]
        }
      ]
    },
    {
      "cell_type": "code",
      "source": [
        "errors = np.full((2, plr_summary.shape[0]), np.nan)\n",
        "errors[0, :] = plr_summary['coef'] - plr_summary['2.5 %']\n",
        "errors[1, :] = plr_summary['97.5 %'] - plr_summary['coef']\n",
        "# Plot error bars for all models\n",
        "plt.errorbar(plr_summary.index, plr_summary['coef'], yerr=errors, fmt='o', capsize=5)\n",
        "\n",
        "# Plot the first two coefficients in orange\n",
        "plt.errorbar(plr_summary.index[:2], plr_summary['coef'][:2], yerr=errors[:, :2], fmt='o', color='orange', capsize=5)\n",
        "\n",
        "plt.ylim([0, 2])\n",
        "\n",
        "plt.legend(['DML', 'No ML'], loc='upper right')  # Place legend in upper left corner\n",
        "\n",
        "#add horizontal bar at 1\n",
        "plt.axhline(y=1, color='r', linestyle='--')\n",
        "\n",
        "plt.title('Summary of the (partially) linear regression models \\n')\n",
        "_ =  plt.ylabel('Coefficients and 95%-CI')"
      ],
      "metadata": {
        "colab": {
          "base_uri": "https://localhost:8080/",
          "height": 473
        },
        "id": "Tkr-M5s3w_DZ",
        "outputId": "41cf8426-771e-4885-8e96-8ba489b53419"
      },
      "execution_count": null,
      "outputs": [
        {
          "output_type": "display_data",
          "data": {
            "text/plain": [
              "<Figure size 640x480 with 1 Axes>"
            ],
            "image/png": "[encoded data removed]"
          },
          "metadata": {}
        }
      ]
    },
    {
      "cell_type": "markdown",
      "source": [
        "## 5. Fixed Effects\n",
        "\n",
        "In the initial DAG, we suggested that we had unobserved idiosyncratic confounders fixed over time. One way to control for this is to use the first difference estimator. First difference estimator seems to be the most adequate one based on research compared to demeaning or including fixed effects (c.f Double Machine Learning for Static Panel Models with Fixed Effects, https://arxiv.org/abs/2312.08174)"
      ],
      "metadata": {
        "id": "jKXOKADZ3jsU"
      }
    },
    {
      "cell_type": "code",
      "source": [
        "# Identify columns to compute first differences (excluding 'unobserved_confounder' and 'unobserved_fe')\n",
        "columns_to_diff = df.columns.difference(['id', 'year', 'unobserved_confounder', 'unobserved_fe'])\n",
        "\n",
        "# Sort the DataFrame by 'id' and 'year' to ensure correct ordering\n",
        "df_sorted = df.sort_values(['id', 'year']).reset_index(drop=True)\n",
        "\n",
        "# Compute the first difference within each individual group\n",
        "df_diff = df_sorted.groupby('id')[columns_to_diff].diff().dropna()  # Drop NaN for the first observation in each group\n",
        "\n",
        "# Retain 'id', 'year', 'unobserved_confounder', and 'unobserved_fe' as they are\n",
        "df_diff[['id', 'year', 'unobserved_confounder', 'unobserved_fe']] = df_sorted[['id', 'year', 'unobserved_confounder', 'unobserved_fe']].iloc[1:].reset_index(drop=True)\n",
        "\n",
        "# **Check for and handle NaN values in the 'id' column**\n",
        "if df_diff['id'].isnull().any():\n",
        "    # Handle NaN values, for example, by filling with a specific value or dropping rows\n",
        "    # df_diff['id'].fillna(value, inplace=True)  # Replace NaN with 'value'\n",
        "    df_diff.dropna(subset=['id'], inplace=True)  # Drop rows with NaN in 'id'\n",
        "    print(\"NaN values in 'id' column handled.\")\n",
        "else:\n",
        "    print(\"No NaN values found in 'id' column.\")\n",
        "\n",
        "# Display the first-differenced DataFrame\n",
        "df_diff.head()"
      ],
      "metadata": {
        "colab": {
          "base_uri": "https://localhost:8080/",
          "height": 224
        },
        "id": "TeDSryHGBQNL",
        "outputId": "121300ae-76ac-47ae-91c2-d8ed989dc547"
      },
      "execution_count": null,
      "outputs": [
        {
          "output_type": "stream",
          "name": "stdout",
          "text": [
            "NaN values in 'id' column handled.\n"
          ]
        },
        {
          "output_type": "execute_result",
          "data": {
            "text/plain": [
              "   confounder_1  confounder_2  confounder_3  confounder_4        iv  \\\n",
              "1      2.804123      0.100757     -1.107545     -1.358877 -1.662411   \n",
              "2     -1.659763     -0.870209      1.131714     -0.819647  2.623683   \n",
              "3      0.410665      1.840590      3.347432      2.116812 -1.745359   \n",
              "4      1.441201     -0.373966     -2.564244      0.062819 -0.407937   \n",
              "5     -0.789117     -2.358042      0.123615     -1.260262  1.607752   \n",
              "\n",
              "           x          y   id  year  unobserved_confounder  unobserved_fe  \n",
              "1  -4.734561  -6.550916  1.0   3.0               0.046562       1.507361  \n",
              "2  -3.851296 -11.568295  1.0   4.0              -1.679829       1.507361  \n",
              "3  19.049581  39.812453  1.0   5.0               1.395892       1.507361  \n",
              "4  -4.998548  -9.536050  1.0   6.0              -0.844971       1.507361  \n",
              "5 -12.365613 -24.931557  1.0   7.0               0.814007       1.507361  "
            ],
            "text/html": [
              "\n",
              "  <div id=\"df-92ea210f-779a-45b1-b59a-224599af74b0\" class=\"colab-df-container\">\n",
              "    <div>\n",
              "<style scoped>\n",
              "    .dataframe tbody tr th:only-of-type {\n",
              "        vertical-align: middle;\n",
              "    }\n",
              "\n",
              "    .dataframe tbody tr th {\n",
              "        vertical-align: top;\n",
              "    }\n",
              "\n",
              "    .dataframe thead th {\n",
              "        text-align: right;\n",
              "    }\n",
              "</style>\n",
              "<table border=\"1\" class=\"dataframe\">\n",
              "  <thead>\n",
              "    <tr style=\"text-align: right;\">\n",
              "      <th></th>\n",
              "      <th>confounder_1</th>\n",
              "      <th>confounder_2</th>\n",
              "      <th>confounder_3</th>\n",
              "      <th>confounder_4</th>\n",
              "      <th>iv</th>\n",
              "      <th>x</th>\n",
              "      <th>y</th>\n",
              "      <th>id</th>\n",
              "      <th>year</th>\n",
              "      <th>unobserved_confounder</th>\n",
              "      <th>unobserved_fe</th>\n",
              "    </tr>\n",
              "  </thead>\n",
              "  <tbody>\n",
              "    <tr>\n",
              "      <th>1</th>\n",
              "      <td>2.804123</td>\n",
              "      <td>0.100757</td>\n",
              "      <td>-1.107545</td>\n",
              "      <td>-1.358877</td>\n",
              "      <td>-1.662411</td>\n",
              "      <td>-4.734561</td>\n",
              "      <td>-6.550916</td>\n",
              "      <td>1.0</td>\n",
              "      <td>3.0</td>\n",
              "      <td>0.046562</td>\n",
              "      <td>1.507361</td>\n",
              "    </tr>\n",
              "    <tr>\n",
              "      <th>2</th>\n",
              "      <td>-1.659763</td>\n",
              "      <td>-0.870209</td>\n",
              "      <td>1.131714</td>\n",
              "      <td>-0.819647</td>\n",
              "      <td>2.623683</td>\n",
              "      <td>-3.851296</td>\n",
              "      <td>-11.568295</td>\n",
              "      <td>1.0</td>\n",
              "      <td>4.0</td>\n",
              "      <td>-1.679829</td>\n",
              "      <td>1.507361</td>\n",
              "    </tr>\n",
              "    <tr>\n",
              "      <th>3</th>\n",
              "      <td>0.410665</td>\n",
              "      <td>1.840590</td>\n",
              "      <td>3.347432</td>\n",
              "      <td>2.116812</td>\n",
              "      <td>-1.745359</td>\n",
              "      <td>19.049581</td>\n",
              "      <td>39.812453</td>\n",
              "      <td>1.0</td>\n",
              "      <td>5.0</td>\n",
              "      <td>1.395892</td>\n",
              "      <td>1.507361</td>\n",
              "    </tr>\n",
              "    <tr>\n",
              "      <th>4</th>\n",
              "      <td>1.441201</td>\n",
              "      <td>-0.373966</td>\n",
              "      <td>-2.564244</td>\n",
              "      <td>0.062819</td>\n",
              "      <td>-0.407937</td>\n",
              "      <td>-4.998548</td>\n",
              "      <td>-9.536050</td>\n",
              "      <td>1.0</td>\n",
              "      <td>6.0</td>\n",
              "      <td>-0.844971</td>\n",
              "      <td>1.507361</td>\n",
              "    </tr>\n",
              "    <tr>\n",
              "      <th>5</th>\n",
              "      <td>-0.789117</td>\n",
              "      <td>-2.358042</td>\n",
              "      <td>0.123615</td>\n",
              "      <td>-1.260262</td>\n",
              "      <td>1.607752</td>\n",
              "      <td>-12.365613</td>\n",
              "      <td>-24.931557</td>\n",
              "      <td>1.0</td>\n",
              "      <td>7.0</td>\n",
              "      <td>0.814007</td>\n",
              "      <td>1.507361</td>\n",
              "    </tr>\n",
              "  </tbody>\n",
              "</table>\n",
              "</div>\n",
              "    <div class=\"colab-df-buttons\">\n",
              "\n",
              "  <div class=\"colab-df-container\">\n",
              "    <button class=\"colab-df-convert\" onclick=\"convertToInteractive('df-92ea210f-779a-45b1-b59a-224599af74b0')\"\n",
              "            title=\"Convert this dataframe to an interactive table.\"\n",
              "            style=\"display:none;\">\n",
              "\n",
              "  <svg xmlns=\"http://www.w3.org/2000/svg\" height=\"24px\" viewBox=\"0 -960 960 960\">\n",
              "    <path d=\"M120-120v-720h720v720H120Zm60-500h600v-160H180v160Zm220 220h160v-160H400v160Zm0 220h160v-160H400v160ZM180-400h160v-160H180v160Zm440 0h160v-160H620v160ZM180-180h160v-160H180v160Zm440 0h160v-160H620v160Z\"/>\n",
              "  </svg>\n",
              "    </button>\n",
              "\n",
              "  <style>\n",
              "    .colab-df-container {\n",
              "      display:flex;\n",
              "      gap: 12px;\n",
              "    }\n",
              "\n",
              "    .colab-df-convert {\n",
              "      background-color: #E8F0FE;\n",
              "      border: none;\n",
              "      border-radius: 50%;\n",
              "      cursor: pointer;\n",
              "      display: none;\n",
              "      fill: #1967D2;\n",
              "      height: 32px;\n",
              "      padding: 0 0 0 0;\n",
              "      width: 32px;\n",
              "    }\n",
              "\n",
              "    .colab-df-convert:hover {\n",
              "      background-color: #E2EBFA;\n",
              "      box-shadow: 0px 1px 2px rgba(60, 64, 67, 0.3), 0px 1px 3px 1px rgba(60, 64, 67, 0.15);\n",
              "      fill: #174EA6;\n",
              "    }\n",
              "\n",
              "    .colab-df-buttons div {\n",
              "      margin-bottom: 4px;\n",
              "    }\n",
              "\n",
              "    [theme=dark] .colab-df-convert {\n",
              "      background-color: #3B4455;\n",
              "      fill: #D2E3FC;\n",
              "    }\n",
              "\n",
              "    [theme=dark] .colab-df-convert:hover {\n",
              "      background-color: #434B5C;\n",
              "      box-shadow: 0px 1px 3px 1px rgba(0, 0, 0, 0.15);\n",
              "      filter: drop-shadow(0px 1px 2px rgba(0, 0, 0, 0.3));\n",
              "      fill: #FFFFFF;\n",
              "    }\n",
              "  </style>\n",
              "\n",
              "    <script>\n",
              "      const buttonEl =\n",
              "        document.querySelector('#df-92ea210f-779a-45b1-b59a-224599af74b0 button.colab-df-convert');\n",
              "      buttonEl.style.display =\n",
              "        google.colab.kernel.accessAllowed ? 'block' : 'none';\n",
              "\n",
              "      async function convertToInteractive(key) {\n",
              "        const element = document.querySelector('#df-92ea210f-779a-45b1-b59a-224599af74b0');\n",
              "        const dataTable =\n",
              "          await google.colab.kernel.invokeFunction('convertToInteractive',\n",
              "                                                    [key], {});\n",
              "        if (!dataTable) return;\n",
              "\n",
              "        const docLinkHtml = 'Like what you see? Visit the ' +\n",
              "          '<a target=\"_blank\" href=https://colab.research.google.com/notebooks/data_table.ipynb>data table notebook</a>'\n",
              "          + ' to learn more about interactive tables.';\n",
              "        element.innerHTML = '';\n",
              "        dataTable['output_type'] = 'display_data';\n",
              "        await google.colab.output.renderOutput(dataTable, element);\n",
              "        const docLink = document.createElement('div');\n",
              "        docLink.innerHTML = docLinkHtml;\n",
              "        element.appendChild(docLink);\n",
              "      }\n",
              "    </script>\n",
              "  </div>\n",
              "\n",
              "\n",
              "<div id=\"df-bf6a45b2-efb4-4218-9d65-1ee0ff7d8fc9\">\n",
              "  <button class=\"colab-df-quickchart\" onclick=\"quickchart('df-bf6a45b2-efb4-4218-9d65-1ee0ff7d8fc9')\"\n",
              "            title=\"Suggest charts\"\n",
              "            style=\"display:none;\">\n",
              "\n",
              "<svg xmlns=\"http://www.w3.org/2000/svg\" height=\"24px\"viewBox=\"0 0 24 24\"\n",
              "     width=\"24px\">\n",
              "    <g>\n",
              "        <path d=\"M19 3H5c-1.1 0-2 .9-2 2v14c0 1.1.9 2 2 2h14c1.1 0 2-.9 2-2V5c0-1.1-.9-2-2-2zM9 17H7v-7h2v7zm4 0h-2V7h2v10zm4 0h-2v-4h2v4z\"/>\n",
              "    </g>\n",
              "</svg>\n",
              "  </button>\n",
              "\n",
              "<style>\n",
              "  .colab-df-quickchart {\n",
              "      --bg-color: #E8F0FE;\n",
              "      --fill-color: #1967D2;\n",
              "      --hover-bg-color: #E2EBFA;\n",
              "      --hover-fill-color: #174EA6;\n",
              "      --disabled-fill-color: #AAA;\n",
              "      --disabled-bg-color: #DDD;\n",
              "  }\n",
              "\n",
              "  [theme=dark] .colab-df-quickchart {\n",
              "      --bg-color: #3B4455;\n",
              "      --fill-color: #D2E3FC;\n",
              "      --hover-bg-color: #434B5C;\n",
              "      --hover-fill-color: #FFFFFF;\n",
              "      --disabled-bg-color: #3B4455;\n",
              "      --disabled-fill-color: #666;\n",
              "  }\n",
              "\n",
              "  .colab-df-quickchart {\n",
              "    background-color: var(--bg-color);\n",
              "    border: none;\n",
              "    border-radius: 50%;\n",
              "    cursor: pointer;\n",
              "    display: none;\n",
              "    fill: var(--fill-color);\n",
              "    height: 32px;\n",
              "    padding: 0;\n",
              "    width: 32px;\n",
              "  }\n",
              "\n",
              "  .colab-df-quickchart:hover {\n",
              "    background-color: var(--hover-bg-color);\n",
              "    box-shadow: 0 1px 2px rgba(60, 64, 67, 0.3), 0 1px 3px 1px rgba(60, 64, 67, 0.15);\n",
              "    fill: var(--button-hover-fill-color);\n",
              "  }\n",
              "\n",
              "  .colab-df-quickchart-complete:disabled,\n",
              "  .colab-df-quickchart-complete:disabled:hover {\n",
              "    background-color: var(--disabled-bg-color);\n",
              "    fill: var(--disabled-fill-color);\n",
              "    box-shadow: none;\n",
              "  }\n",
              "\n",
              "  .colab-df-spinner {\n",
              "    border: 2px solid var(--fill-color);\n",
              "    border-color: transparent;\n",
              "    border-bottom-color: var(--fill-color);\n",
              "    animation:\n",
              "      spin 1s steps(1) infinite;\n",
              "  }\n",
              "\n",
              "  @keyframes spin {\n",
              "    0% {\n",
              "      border-color: transparent;\n",
              "      border-bottom-color: var(--fill-color);\n",
              "      border-left-color: var(--fill-color);\n",
              "    }\n",
              "    20% {\n",
              "      border-color: transparent;\n",
              "      border-left-color: var(--fill-color);\n",
              "      border-top-color: var(--fill-color);\n",
              "    }\n",
              "    30% {\n",
              "      border-color: transparent;\n",
              "      border-left-color: var(--fill-color);\n",
              "      border-top-color: var(--fill-color);\n",
              "      border-right-color: var(--fill-color);\n",
              "    }\n",
              "    40% {\n",
              "      border-color: transparent;\n",
              "      border-right-color: var(--fill-color);\n",
              "      border-top-color: var(--fill-color);\n",
              "    }\n",
              "    60% {\n",
              "      border-color: transparent;\n",
              "      border-right-color: var(--fill-color);\n",
              "    }\n",
              "    80% {\n",
              "      border-color: transparent;\n",
              "      border-right-color: var(--fill-color);\n",
              "      border-bottom-color: var(--fill-color);\n",
              "    }\n",
              "    90% {\n",
              "      border-color: transparent;\n",
              "      border-bottom-color: var(--fill-color);\n",
              "    }\n",
              "  }\n",
              "</style>\n",
              "\n",
              "  <script>\n",
              "    async function quickchart(key) {\n",
              "      const quickchartButtonEl =\n",
              "        document.querySelector('#' + key + ' button');\n",
              "      quickchartButtonEl.disabled = true;  // To prevent multiple clicks.\n",
              "      quickchartButtonEl.classList.add('colab-df-spinner');\n",
              "      try {\n",
              "        const charts = await google.colab.kernel.invokeFunction(\n",
              "            'suggestCharts', [key], {});\n",
              "      } catch (error) {\n",
              "        console.error('Error during call to suggestCharts:', error);\n",
              "      }\n",
              "      quickchartButtonEl.classList.remove('colab-df-spinner');\n",
              "      quickchartButtonEl.classList.add('colab-df-quickchart-complete');\n",
              "    }\n",
              "    (() => {\n",
              "      let quickchartButtonEl =\n",
              "        document.querySelector('#df-bf6a45b2-efb4-4218-9d65-1ee0ff7d8fc9 button');\n",
              "      quickchartButtonEl.style.display =\n",
              "        google.colab.kernel.accessAllowed ? 'block' : 'none';\n",
              "    })();\n",
              "  </script>\n",
              "</div>\n",
              "\n",
              "    </div>\n",
              "  </div>\n"
            ],
            "application/vnd.google.colaboratory.intrinsic+json": {
              "type": "dataframe",
              "variable_name": "df_diff",
              "summary": "{\n  \"name\": \"df_diff\",\n  \"rows\": 899,\n  \"fields\": [\n    {\n      \"column\": \"confounder_1\",\n      \"properties\": {\n        \"dtype\": \"number\",\n        \"std\": 1.3652201191620656,\n        \"min\": -4.425798745812919,\n        \"max\": 3.9317726558934556,\n        \"num_unique_values\": 899,\n        \"samples\": [\n          0.988926009728982,\n          1.2884406606882797,\n          1.4489500029886069\n        ],\n        \"semantic_type\": \"\",\n        \"description\": \"\"\n      }\n    },\n    {\n      \"column\": \"confounder_2\",\n      \"properties\": {\n        \"dtype\": \"number\",\n        \"std\": 1.3811535128315195,\n        \"min\": -3.799533714336408,\n        \"max\": 3.6283876985777024,\n        \"num_unique_values\": 899,\n        \"samples\": [\n          -3.0770377608519928,\n          1.1972955497740876,\n          1.8715993572385639\n        ],\n        \"semantic_type\": \"\",\n        \"description\": \"\"\n      }\n    },\n    {\n      \"column\": \"confounder_3\",\n      \"properties\": {\n        \"dtype\": \"number\",\n        \"std\": 1.4341338420351264,\n        \"min\": -5.2582039290890386,\n        \"max\": 4.301456413955573,\n        \"num_unique_values\": 899,\n        \"samples\": [\n          1.201298536058899,\n          1.5824700174733006,\n          0.318889785694671\n        ],\n        \"semantic_type\": \"\",\n        \"description\": \"\"\n      }\n    },\n    {\n      \"column\": \"confounder_4\",\n      \"properties\": {\n        \"dtype\": \"number\",\n        \"std\": 1.4169925685508509,\n        \"min\": -4.4763702437321715,\n        \"max\": 4.378175718122747,\n        \"num_unique_values\": 899,\n        \"samples\": [\n          -0.2428272945771156,\n          0.37418341760881185,\n          -0.9424672896260803\n        ],\n        \"semantic_type\": \"\",\n        \"description\": \"\"\n      }\n    },\n    {\n      \"column\": \"iv\",\n      \"properties\": {\n        \"dtype\": \"number\",\n        \"std\": 1.4104279164268967,\n        \"min\": -4.586172843392843,\n        \"max\": 4.884622276094941,\n        \"num_unique_values\": 899,\n        \"samples\": [\n          -1.6879586693670707,\n          -1.6079223912737342,\n          0.18823641049105955\n        ],\n        \"semantic_type\": \"\",\n        \"description\": \"\"\n      }\n    },\n    {\n      \"column\": \"x\",\n      \"properties\": {\n        \"dtype\": \"number\",\n        \"std\": 8.369517817494513,\n        \"min\": -23.415573643477128,\n        \"max\": 25.51360581783641,\n        \"num_unique_values\": 899,\n        \"samples\": [\n          3.1015837715394836,\n          1.3895849987781395,\n          -0.8745527841873351\n        ],\n        \"semantic_type\": \"\",\n        \"description\": \"\"\n      }\n    },\n    {\n      \"column\": \"y\",\n      \"properties\": {\n        \"dtype\": \"number\",\n        \"std\": 16.528534974241378,\n        \"min\": -50.14648859828357,\n        \"max\": 51.359369366882504,\n        \"num_unique_values\": 899,\n        \"samples\": [\n          8.668207020226047,\n          7.001886658005502,\n          -0.32986101438581983\n        ],\n        \"semantic_type\": \"\",\n        \"description\": \"\"\n      }\n    },\n    {\n      \"column\": \"id\",\n      \"properties\": {\n        \"dtype\": \"number\",\n        \"std\": 28.850895862381,\n        \"min\": 1.0,\n        \"max\": 100.0,\n        \"num_unique_values\": 100,\n        \"samples\": [\n          84.0,\n          54.0,\n          71.0\n        ],\n        \"semantic_type\": \"\",\n        \"description\": \"\"\n      }\n    },\n    {\n      \"column\": \"year\",\n      \"properties\": {\n        \"dtype\": \"number\",\n        \"std\": 2.7649091834469974,\n        \"min\": 1.0,\n        \"max\": 10.0,\n        \"num_unique_values\": 9,\n        \"samples\": [\n          10.0,\n          4.0,\n          8.0\n        ],\n        \"semantic_type\": \"\",\n        \"description\": \"\"\n      }\n    },\n    {\n      \"column\": \"unobserved_confounder\",\n      \"properties\": {\n        \"dtype\": \"number\",\n        \"std\": 1.004402858845031,\n        \"min\": -3.880898411336608,\n        \"max\": 3.125635148964697,\n        \"num_unique_values\": 899,\n        \"samples\": [\n          -0.9976396109124448,\n          -0.18553407247035877,\n          -0.5288023483216494\n        ],\n        \"semantic_type\": \"\",\n        \"description\": \"\"\n      }\n    },\n    {\n      \"column\": \"unobserved_fe\",\n      \"properties\": {\n        \"dtype\": \"number\",\n        \"std\": 1.0306719253488752,\n        \"min\": -2.327816050112332,\n        \"max\": 2.3382645240579762,\n        \"num_unique_values\": 100,\n        \"samples\": [\n          -0.9844486104755175,\n          1.0182600154465604,\n          0.3828391202307064\n        ],\n        \"semantic_type\": \"\",\n        \"description\": \"\"\n      }\n    }\n  ]\n}"
            }
          },
          "metadata": {},
          "execution_count": 42
        }
      ]
    },
    {
      "cell_type": "code",
      "source": [
        "obj_dml_diff = DoubleMLClusterData(df_diff, 'y', 'x', ['id'], x_cols=['confounder_1',\t'confounder_2',\t'confounder_3',\t'confounder_4'])\n",
        "print(obj_dml_diff)"
      ],
      "metadata": {
        "colab": {
          "base_uri": "https://localhost:8080/"
        },
        "id": "MRY8f5CSBUvx",
        "outputId": "d6f38413-cf30-4a4e-979a-2fb4ece0465a"
      },
      "execution_count": null,
      "outputs": [
        {
          "output_type": "stream",
          "name": "stdout",
          "text": [
            "================== DoubleMLClusterData Object ==================\n",
            "\n",
            "------------------ Data summary      ------------------\n",
            "Outcome variable: y\n",
            "Treatment variable(s): ['x']\n",
            "Cluster variable(s): ['id']\n",
            "Covariates: ['confounder_1', 'confounder_2', 'confounder_3', 'confounder_4']\n",
            "Instrument variable(s): None\n",
            "No. Observations: 899\n",
            "\n",
            "------------------ DataFrame info    ------------------\n",
            "<class 'pandas.core.frame.DataFrame'>\n",
            "Index: 899 entries, 1 to 998\n",
            "Columns: 11 entries, confounder_1 to unobserved_fe\n",
            "dtypes: float64(11)\n",
            "memory usage: 84.3 KB\n",
            "\n"
          ]
        }
      ]
    },
    {
      "cell_type": "code",
      "source": [
        "# Estimate the ATE using Random Forest as the machine learning model\n",
        "\n",
        "# randomForest: Initialize a Random Forest Regressor for outcome regression\n",
        "randomForest = RandomForestRegressor(\n",
        "    n_estimators=500,  # Number of trees in the forest\n",
        "    max_depth=7,  # Maximum depth of each tree\n",
        "    max_features=3,  # Number of features to consider when looking for the best split\n",
        "    min_samples_leaf=3)  # Minimum number of samples required to be at a leaf node\n",
        "\n",
        "# Initialize the DoubleMLPLR model with Random Forest learners\n",
        "dml_plr_forest = dml.DoubleMLPLR(obj_dml_diff,  # Uses the 'data_dml_base' DoubleMLData object\n",
        "                                 ml_l=randomForest,  # Specifies the Random Forest Regressor for outcome regression\n",
        "                                 ml_m=randomForest,  # Specifies the Random Forest Classifier for treatment regression\n",
        "                                 n_folds=3)  # Sets the number of folds for cross-fitting to 3\n",
        "\n",
        "# Fit the DoubleMLPLR model to the data\n",
        "dml_plr_forest.fit(store_predictions=True)  # Fits the model and stores predictions\n",
        "\n",
        "# Store the model summary in a variable\n",
        "forest_diff_summary = dml_plr_forest.summary  # Assigns the model summary to the 'forest_summary' variable\n",
        "\n",
        "# Print the model summary\n",
        "print(forest_diff_summary)  # Displays the estimated ATE and other model information"
      ],
      "metadata": {
        "colab": {
          "base_uri": "https://localhost:8080/"
        },
        "id": "kwMdZp3hAuId",
        "outputId": "e7439948-73a9-485c-cb89-5a8aa72192ae"
      },
      "execution_count": null,
      "outputs": [
        {
          "output_type": "stream",
          "name": "stdout",
          "text": [
            "       coef   std err          t  P>|t|     2.5 %   97.5 %\n",
            "x  1.761113  0.025346  69.483022    0.0  1.711435  1.81079\n"
          ]
        }
      ]
    },
    {
      "cell_type": "code",
      "source": [
        "# Estimate the ATE using Decision Trees as the machine learning model\n",
        "\n",
        "\n",
        "# Define a Decision Tree Regressor with simple, fixed parameters\n",
        "tree_model = DecisionTreeRegressor(\n",
        "    max_depth=10,  # Limit the depth of the tree to prevent overfitting\n",
        "    min_samples_split=50,  # Minimum samples required to split a node\n",
        "    min_samples_leaf=20  # Minimum samples required to be at a leaf node\n",
        ")\n",
        "\n",
        "# Initialize DoubleMLPLR with the Decision Tree model for both outcome and treatment models\n",
        "dml_tree= dml.DoubleMLPLR(\n",
        "    obj_dml_diff,   # This is the DoubleML data object\n",
        "    ml_l=tree_model,  # Decision Tree model for outcome regression\n",
        "    ml_m=tree_model,  # Decision Tree model for treatment regression\n",
        "    n_folds=3         # Use 3-fold cross-fitting (simpler for students to understand)\n",
        ")\n",
        "\n",
        "# Fit the DoubleMLPLR model\n",
        "dml_tree.fit(store_predictions=True)\n",
        "\n",
        "# Store the model summary in a variable\n",
        "tree_diff_summary = dml_tree.summary  # Assigns the model summary to the 'forest_summary' variable\n",
        "\n",
        "\n",
        "# Display the summary of the estimated Average Treatment Effect (ATE)\n",
        "print(dml_tree.summary)"
      ],
      "metadata": {
        "colab": {
          "base_uri": "https://localhost:8080/"
        },
        "id": "7oU2D-2EB9p8",
        "outputId": "2053f203-f2d0-4cb9-a64a-ba675e87216b"
      },
      "execution_count": null,
      "outputs": [
        {
          "output_type": "stream",
          "name": "stdout",
          "text": [
            "       coef   std err          t  P>|t|     2.5 %    97.5 %\n",
            "x  1.649198  0.031492  52.368946    0.0  1.587475  1.710921\n"
          ]
        }
      ]
    },
    {
      "cell_type": "code",
      "source": [
        "# Estimate the ATE using Boosted Trees (XGBoost) as the machine learning model\n",
        "\n",
        "# boost: Initialize an XGBoost Regressor for outcome regression\n",
        "boost = XGBRegressor(\n",
        "    n_jobs=1,  # Number of parallel threads used to run XGBoost\n",
        "    objective=\"reg:squarederror\",  # Objective function for regression (squared error)\n",
        "    eta=0.1,  # Learning rate\n",
        "    n_estimators=50,  # Increased number of boosting rounds (trees)\n",
        "    max_depth=7,  # Limit tree depth to prevent overfitting\n",
        "    subsample=0.8,  # Use 80% of data for each tree to add robustness\n",
        "    colsample_bytree=0.8  # Use 80% of features for each tree to reduce complexity\n",
        ")\n",
        "\n",
        "\n",
        "# Set the random seed for reproducibility\n",
        "np.random.seed(123)  # Ensures consistent results\n",
        "\n",
        "# Initialize the DoubleMLPLR model with XGBoost learners\n",
        "dml_plr_boost = dml.DoubleMLPLR( obj_dml_diff,  # Uses the 'data_dml_base' DoubleMLData object\n",
        "                                ml_l=boost,  # Specifies the XGBoost Regressor for outcome regression\n",
        "                                ml_m=boost,  # Specifies the XGBoost Classifier for treatment regression\n",
        "                                n_folds=3)  # Sets the number of folds for cross-fitting to 3\n",
        "\n",
        "# Fit the DoubleMLPLR model to the data\n",
        "dml_plr_boost.fit(store_predictions=True)  # Fits the model and stores predictions\n",
        "\n",
        "# Store the model summary in a variable\n",
        "boost_diff_summary = dml_plr_boost.summary  # Assigns the model summary to the 'boost_summary' variable\n",
        "\n",
        "# Print the model summary\n",
        "print(boost_diff_summary)  # Displays the estimated ATE and other model information"
      ],
      "metadata": {
        "colab": {
          "base_uri": "https://localhost:8080/"
        },
        "id": "euz7VhIiB9ja",
        "outputId": "d5107e54-b9d2-4bd3-d940-36dad8938998"
      },
      "execution_count": null,
      "outputs": [
        {
          "output_type": "stream",
          "name": "stdout",
          "text": [
            "       coef   std err          t  P>|t|     2.5 %    97.5 %\n",
            "x  1.733904  0.027632  62.749684    0.0  1.679746  1.788062\n"
          ]
        }
      ]
    },
    {
      "cell_type": "code",
      "source": [
        "# Concatenate the summaries and update the index\n",
        "plr_summary = pd.concat([summary_df, forest_summary, tree_summary, boost_summary, forest_diff_summary, tree_diff_summary, boost_diff_summary])\n",
        "plr_summary.index = ['slr', 'mlr', 'forest', 'tree', 'xgb', 'forest (fd)', 'tree (fd)', 'xgb (fd)']\n",
        "\n",
        "# Print the updated summary\n",
        "print(plr_summary[['coef', '2.5 %', '97.5 %']])"
      ],
      "metadata": {
        "colab": {
          "base_uri": "https://localhost:8080/"
        },
        "id": "aDvp4lmiBMAr",
        "outputId": "bd591869-92e1-4810-d22d-fbe3266d8558"
      },
      "execution_count": null,
      "outputs": [
        {
          "output_type": "stream",
          "name": "stdout",
          "text": [
            "                 coef     2.5 %    97.5 %\n",
            "slr          1.967980  1.954867  1.981094\n",
            "mlr          1.944989  1.926638  1.963340\n",
            "forest       1.938364  1.919162  1.957567\n",
            "tree         1.935144  1.905005  1.965283\n",
            "xgb          1.890060  1.856141  1.923979\n",
            "forest (fd)  1.761113  1.711435  1.810790\n",
            "tree (fd)    1.649198  1.587475  1.710921\n",
            "xgb (fd)     1.733904  1.679746  1.788062\n"
          ]
        }
      ]
    },
    {
      "cell_type": "code",
      "source": [
        "errors = np.full((2, plr_summary.shape[0]), np.nan)\n",
        "errors[0, :] = plr_summary['coef'] - plr_summary['2.5 %']\n",
        "errors[1, :] = plr_summary['97.5 %'] - plr_summary['coef']\n",
        "# Plot error bars for all models\n",
        "plt.errorbar(plr_summary.index, plr_summary['coef'], yerr=errors, fmt='o', capsize=5)\n",
        "\n",
        "# Plot the first two coefficients in orange\n",
        "plt.errorbar(plr_summary.index[:2], plr_summary['coef'][:2], yerr=errors[:, :2], fmt='o', color='orange', capsize=5)\n",
        "\n",
        "plt.errorbar(plr_summary.index[5:], plr_summary['coef'][5:], yerr=errors[:, 5:], fmt='o', color='green', capsize=5)\n",
        "\n",
        "\n",
        "plt.ylim([0, 2])\n",
        "\n",
        "plt.legend(['DML', 'No ML', 'ML (FD)'], loc='upper right')  # Place legend in upper left corner\n",
        "\n",
        "#add horizontal bar at 1\n",
        "plt.axhline(y=1, color='r', linestyle='--')\n",
        "\n",
        "plt.title('Summary of the (partially) linear regression models \\n')\n",
        "_ =  plt.ylabel('Coefficients and 95%-CI')"
      ],
      "metadata": {
        "colab": {
          "base_uri": "https://localhost:8080/",
          "height": 473
        },
        "id": "JI6TXL6aBtkq",
        "outputId": "137df8a2-3709-4453-dd47-7288b20e7a3b"
      },
      "execution_count": null,
      "outputs": [
        {
          "output_type": "display_data",
          "data": {
            "text/plain": [
              "<Figure size 640x480 with 1 Axes>"
            ],
            "image/png": "[encoded data removed]"
          },
          "metadata": {}
        }
      ]
    },
    {
      "cell_type": "markdown",
      "source": [
        "## 6.  Instrumental variable\n",
        "We are not there yet. Our current estimation of $\\beta_1$ is around 1.7 while the true value is 1.\n",
        "\n",
        "Luckily we know the DGP and hence we can use an Instrumental Variable to do the estimation and address the remaining issue of time varying idiosyncratic confounders."
      ],
      "metadata": {
        "id": "NNELNdFWHjS3"
      }
    },
    {
      "cell_type": "code",
      "source": [
        "obj_dml_diff_iv = DoubleMLClusterData(df_diff, 'y', 'x', ['id'], x_cols=['confounder_1',\t'confounder_2',\t'confounder_3',\t'confounder_4'], z_cols='iv')\n",
        "print(obj_dml_diff_iv)"
      ],
      "metadata": {
        "colab": {
          "base_uri": "https://localhost:8080/"
        },
        "id": "bcBDeENDHihh",
        "outputId": "1bed9937-033f-4a53-d5e3-527dd423a13f"
      },
      "execution_count": null,
      "outputs": [
        {
          "output_type": "stream",
          "name": "stdout",
          "text": [
            "================== DoubleMLClusterData Object ==================\n",
            "\n",
            "------------------ Data summary      ------------------\n",
            "Outcome variable: y\n",
            "Treatment variable(s): ['x']\n",
            "Cluster variable(s): ['id']\n",
            "Covariates: ['confounder_1', 'confounder_2', 'confounder_3', 'confounder_4']\n",
            "Instrument variable(s): ['iv']\n",
            "No. Observations: 899\n",
            "\n",
            "------------------ DataFrame info    ------------------\n",
            "<class 'pandas.core.frame.DataFrame'>\n",
            "Index: 899 entries, 1 to 998\n",
            "Columns: 11 entries, confounder_1 to unobserved_fe\n",
            "dtypes: float64(11)\n",
            "memory usage: 84.3 KB\n",
            "\n"
          ]
        }
      ]
    },
    {
      "cell_type": "code",
      "source": [
        "# Estimate the ATE using Random Forest as the machine learning model\n",
        "\n",
        "# randomForest: Initialize a Random Forest Regressor for outcome regression\n",
        "randomForest = RandomForestRegressor(\n",
        "    n_estimators=500,  # Number of trees in the forest\n",
        "    max_depth=7,  # Maximum depth of each tree\n",
        "    max_features=3,  # Number of features to consider when looking for the best split\n",
        "    min_samples_leaf=3)  # Minimum number of samples required to be at a leaf node\n",
        "\n",
        "# Initialize the DoubleMLPLR model with Random Forest learners\n",
        "dml_plr_forest = dml.DoubleMLPLIV(obj_dml_diff_iv,  # Uses the 'data_dml_base' DoubleMLData object\n",
        "                                 ml_l=randomForest,  # Specifies the Random Forest Regressor for outcome regression\n",
        "                                 ml_m=randomForest,  # Specifies the Random Forest Classifier for treatment regression\n",
        "                                 ml_r=randomForest,  # Specifies the Random Forest Classifier for iv regression\n",
        "                                 n_folds=3)  # Sets the number of folds for cross-fitting to 3\n",
        "\n",
        "# Fit the DoubleMLPLR model to the data\n",
        "dml_plr_forest.fit(store_predictions=True)  # Fits the model and stores predictions\n",
        "\n",
        "# Store the model summary in a variable\n",
        "forest_diff_iv_summary = dml_plr_forest.summary  # Assigns the model summary to the 'forest_summary' variable\n",
        "\n",
        "# Print the model summary\n",
        "print(forest_diff_iv_summary)  # Displays the estimated ATE and other model information"
      ],
      "metadata": {
        "colab": {
          "base_uri": "https://localhost:8080/"
        },
        "id": "Txv2hO-dHn7J",
        "outputId": "7a2175d6-561a-463f-dfe1-2f9b8408e3b1"
      },
      "execution_count": null,
      "outputs": [
        {
          "output_type": "stream",
          "name": "stdout",
          "text": [
            "       coef   std err         t         P>|t|     2.5 %    97.5 %\n",
            "x  1.010159  0.107709  9.378616  6.684431e-21  0.799054  1.221265\n"
          ]
        }
      ]
    },
    {
      "cell_type": "code",
      "source": [
        "# Estimate the ATE using Decision Trees as the machine learning model\n",
        "\n",
        "\n",
        "# Define a Decision Tree Regressor with simple, fixed parameters\n",
        "tree_model = DecisionTreeRegressor(\n",
        "    max_depth=10,  # Limit the depth of the tree to prevent overfitting\n",
        "    min_samples_split=50,  # Minimum samples required to split a node\n",
        "    min_samples_leaf=20  # Minimum samples required to be at a leaf node\n",
        ")\n",
        "\n",
        "# Initialize DoubleMLPLR with the Decision Tree model for both outcome and treatment models\n",
        "dml_tree= dml.DoubleMLPLIV(\n",
        "    obj_dml_diff_iv,   # This is the DoubleML data object\n",
        "    ml_l=tree_model,  # Decision Tree model for outcome regression\n",
        "    ml_m=tree_model,  # Decision Tree model for treatment regression\n",
        "    ml_r=tree_model,  # Specifies the Random Forest Classifier for iv regression\n",
        "    n_folds=3         # Use 3-fold cross-fitting (simpler for students to understand)\n",
        ")\n",
        "\n",
        "# Fit the DoubleMLPLR model\n",
        "dml_tree.fit(store_predictions=True)\n",
        "\n",
        "# Store the model summary in a variable\n",
        "tree_diff_iv_summary = dml_tree.summary  # Assigns the model summary to the 'forest_summary' variable\n",
        "\n",
        "\n",
        "# Display the summary of the estimated Average Treatment Effect (ATE)\n",
        "print(dml_tree.summary)"
      ],
      "metadata": {
        "colab": {
          "base_uri": "https://localhost:8080/"
        },
        "id": "8nXkfj2DHn4v",
        "outputId": "659b82c9-f83c-4ac1-d29d-676cbb0dbc34"
      },
      "execution_count": null,
      "outputs": [
        {
          "output_type": "stream",
          "name": "stdout",
          "text": [
            "       coef   std err        t         P>|t|     2.5 %    97.5 %\n",
            "x  0.895574  0.136629  6.55478  5.572394e-11  0.627785  1.163362\n"
          ]
        }
      ]
    },
    {
      "cell_type": "code",
      "source": [
        "# Estimate the ATE using Boosted Trees (XGBoost) as the machine learning model\n",
        "\n",
        "# boost: Initialize an XGBoost Regressor for outcome regression\n",
        "boost = XGBRegressor(\n",
        "    n_jobs=1,  # Number of parallel threads used to run XGBoost\n",
        "    objective=\"reg:squarederror\",  # Objective function for regression (squared error)\n",
        "    eta=0.1,  # Learning rate\n",
        "    n_estimators=50,  # Increased number of boosting rounds (trees)\n",
        "    max_depth=7,  # Limit tree depth to prevent overfitting\n",
        "    subsample=0.8,  # Use 80% of data for each tree to add robustness\n",
        "    colsample_bytree=0.8  # Use 80% of features for each tree to reduce complexity\n",
        ")\n",
        "\n",
        "\n",
        "# Set the random seed for reproducibility\n",
        "np.random.seed(123)  # Ensures consistent results\n",
        "\n",
        "# Initialize the DoubleMLPLR model with XGBoost learners\n",
        "dml_plr_boost = dml.DoubleMLPLIV( obj_dml_diff_iv,  # Uses the 'data_dml_base' DoubleMLData object\n",
        "                                ml_l=boost,  # Specifies the XGBoost Regressor for outcome regression\n",
        "                                ml_m=boost,  # Specifies the XGBoost Classifier for treatment regression\n",
        "                                ml_r=boost,  # Specifies the Random Forest Classifier for iv regression\n",
        "                                n_folds=3)  # Sets the number of folds for cross-fitting to 3\n",
        "\n",
        "# Fit the DoubleMLPLR model to the data\n",
        "dml_plr_boost.fit(store_predictions=True)  # Fits the model and stores predictions\n",
        "\n",
        "# Store the model summary in a variable\n",
        "boost_diff_iv_summary = dml_plr_boost.summary  # Assigns the model summary to the 'boost_summary' variable\n",
        "\n",
        "# Print the model summary\n",
        "print(boost_diff_iv_summary)  # Displays the estimated ATE and other model information"
      ],
      "metadata": {
        "colab": {
          "base_uri": "https://localhost:8080/"
        },
        "id": "zlMLaU5YH9fx",
        "outputId": "b84c8712-94af-48c8-84d0-ddbf9ec68072"
      },
      "execution_count": null,
      "outputs": [
        {
          "output_type": "stream",
          "name": "stdout",
          "text": [
            "       coef   std err         t         P>|t|     2.5 %    97.5 %\n",
            "x  1.011021  0.119759  8.442135  3.115940e-17  0.776298  1.245745\n"
          ]
        }
      ]
    },
    {
      "cell_type": "code",
      "source": [
        "# Concatenate the summaries and update the index\n",
        "plr_summary = pd.concat([summary_df, forest_summary, tree_summary, boost_summary, forest_diff_summary, tree_diff_summary, boost_diff_summary, forest_diff_iv_summary, tree_diff_iv_summary, boost_diff_iv_summary])\n",
        "plr_summary.index = ['slr', 'mlr', 'forest', 'tree', 'xgb', 'forest (fd)', 'tree (fd)', 'xgb (fd)','forest (fd+iv)', 'tree (fd+iv)', 'xgb (fd+iv)']\n",
        "\n",
        "# Print the updated summary\n",
        "print(plr_summary[['coef', '2.5 %', '97.5 %']])"
      ],
      "metadata": {
        "colab": {
          "base_uri": "https://localhost:8080/"
        },
        "id": "1IMr6oImH9ds",
        "outputId": "c120d9b7-0998-4928-d6d9-d47d13eba7d0"
      },
      "execution_count": null,
      "outputs": [
        {
          "output_type": "stream",
          "name": "stdout",
          "text": [
            "                    coef     2.5 %    97.5 %\n",
            "slr             1.967980  1.954867  1.981094\n",
            "mlr             1.944989  1.926638  1.963340\n",
            "forest          1.938364  1.919162  1.957567\n",
            "tree            1.935144  1.905005  1.965283\n",
            "xgb             1.890060  1.856141  1.923979\n",
            "forest (fd)     1.761113  1.711435  1.810790\n",
            "tree (fd)       1.649198  1.587475  1.710921\n",
            "xgb (fd)        1.733904  1.679746  1.788062\n",
            "forest (fd+iv)  1.010159  0.799054  1.221265\n",
            "tree (fd+iv)    0.895574  0.627785  1.163362\n",
            "xgb (fd+iv)     1.011021  0.776298  1.245745\n"
          ]
        }
      ]
    },
    {
      "cell_type": "code",
      "source": [
        "# Assign categories based on the index naming\n",
        "plr_summary['category'] = [\n",
        "    'No ML', 'No ML', 'DML', 'DML', 'DML',\n",
        "    'DML+FD', 'DML+FD', 'DML+FD',\n",
        "    'DML+FD+IV', 'DML+FD+IV', 'DML+FD+IV'\n",
        "]\n",
        "\n",
        "# Plotting\n",
        "plt.figure(figsize=(10, 6))\n",
        "\n",
        "# Define colors for each category\n",
        "category_colors = {\n",
        "    'No ML': 'orange',\n",
        "    'DML': 'blue',\n",
        "    'DML+FD': 'green',\n",
        "    'DML+FD+IV': 'purple'\n",
        "}\n",
        "\n",
        "# Plot each category with different colors\n",
        "for category, color in category_colors.items():\n",
        "    category_data = plr_summary[plr_summary['category'] == category]\n",
        "    plt.errorbar(\n",
        "        category_data.index, category_data['coef'],\n",
        "        yerr=[category_data['coef'] - category_data['2.5 %'], category_data['97.5 %'] - category_data['coef']],\n",
        "        fmt='o', color=color, label=category, capsize=5\n",
        "    )\n",
        "\n",
        "# Add reference line at coefficient 1.0\n",
        "plt.axhline(y=1.0, color='red', linestyle='--', label='True Effect')\n",
        "\n",
        "# Formatting the plot\n",
        "plt.title('Summary of Regression Models with Categories')\n",
        "plt.xlabel('Models')\n",
        "plt.ylabel('Coefficient and 95% CI')\n",
        "plt.xticks(rotation=45)\n",
        "plt.legend(title='Categories')\n",
        "plt.tight_layout()\n",
        "\n",
        "# Show plot\n",
        "plt.show()"
      ],
      "metadata": {
        "colab": {
          "base_uri": "https://localhost:8080/",
          "height": 607
        },
        "id": "GscljflNJ6PD",
        "outputId": "f8a9d5f2-337d-4bef-829b-48ea169af464"
      },
      "execution_count": null,
      "outputs": [
        {
          "output_type": "display_data",
          "data": {
            "text/plain": [
              "<Figure size 1000x600 with 1 Axes>"
            ],
            "image/png": "[encoded data removed]"
          },
          "metadata": {}
        }
      ]
    }
  ]
}