{
  "nbformat": 4,
  "nbformat_minor": 0,
  "metadata": {
    "colab": {
      "provenance": [],
      "include_colab_link": true
    },
    "kernelspec": {
      "name": "python3",
      "display_name": "Python 3"
    },
    "language_info": {
      "name": "python"
    }
  },
  "cells": [
    {
      "cell_type": "markdown",
      "metadata": {
        "id": "view-in-github",
        "colab_type": "text"
      },
      "source": [
        "<a href=\"https://colab.research.google.com/github/Clahrens/class_datascience/blob/main/Final_Project_Data_Science.ipynb\" target=\"_parent\"><img src=\"https://colab.research.google.com/assets/colab-badge.svg\" alt=\"Open In Colab\"/></a>"
      ]
    },
    {
      "cell_type": "markdown",
      "source": [
        "## MGT-499 Statistics and Data Science - Koala"
      ],
      "metadata": {
        "id": "le6QYIl8mRwd"
      }
    },
    {
      "cell_type": "markdown",
      "source": [
        "Coffee is a beverage that is enjoyed by millions of people around the world. It is not only a tasty and invigorating drink, but also a cultural phenomenon that has its own rituals and lifestyles associated with it. From the rich, full-bodied aroma of a freshly brewed cup of coffee to the satisfying feeling of sipping a warm beverage on a cold morning, there are many reasons why coffee is such a pleasure. A large number of people we know drink coffee, whether it's in the morning at IMD to start their day or late at night in the library to finish a Statistics and Data Science assignment. Personally, we enjoy it, and we're sure we're not alone. Unfortunately, obtaining a cup of coffee will become more difficult and costly in the near future. Coffee is one of the crops threatened by climate change.\n",
        "\n",
        "Global warming, deforestation, illness, and pests are all contributing to the loss, and scientists warn that if conservation, monitoring, and seed preservation measures are not implemented, one of the world's most beloved drinks may become extinct. Beyond the environmental consequences, coffee is a $70-billion-a-year industry that is primarily supplied by small-scale farms in Africa, Asia and Latin America. Not only is the supply chain jeopardized, but so are the livelihoods of the estimated 25 million farmers who rely on coffee for a living. Furthermore, countries that rely on coffee as a key economic sector may witness a large reduction in their GDP numbers year after year.\n",
        "\n",
        "But, **what is the impact of climate change on coffee production ?** \n",
        "\n",
        "In this project, we will answer this question using Python and datasets of the production, consumption, and price of coffee from 1990 to 2018. The dataset is from the International Coffee Organization (ICO). We will also use The Quality of Government Institute Standard Dataset. The QoG is a dataset made by experts on public administration around the world. It is available in an individual dataset and an aggregated dataset covering more than 100 countries. It contains historical temperature and rainfall data as well many other environmental indicators."
      ],
      "metadata": {
        "id": "miSAsBh_mUBF"
      }
    },
    {
      "cell_type": "code",
      "source": [
        "# Import here what you need\n",
        "import pandas as pd\n",
        "import numpy as np\n",
        "import matplotlib.pyplot as plt\n",
        "import plotly.express as px\n",
        "from plotly.subplots import make_subplots\n",
        "import plotly.graph_objects as go\n",
        "import chart_studio.plotly as py\n",
        "import json\n",
        "import plotly\n",
        "from plotly.offline import iplot"
      ],
      "metadata": {
        "id": "YTcbaDfgmTBR"
      },
      "execution_count": 6,
      "outputs": []
    },
    {
      "cell_type": "markdown",
      "source": [
        "\n"
      ],
      "metadata": {
        "id": "KYLQcDPR9f_y"
      }
    },
    {
      "cell_type": "code",
      "source": [
        "imread(/content/data science meme Small.jpeg)"
      ],
      "metadata": {
        "id": "ZW8EKAMq-tJO",
        "colab": {
          "base_uri": "https://localhost:8080/",
          "height": 133
        },
        "outputId": "8355c0a7-3dd2-4874-8a77-981bca8b811c"
      },
      "execution_count": 7,
      "outputs": [
        {
          "output_type": "error",
          "ename": "SyntaxError",
          "evalue": "ignored",
          "traceback": [
            "\u001b[0;36m  File \u001b[0;32m\"<ipython-input-7-1b69cd95a39d>\"\u001b[0;36m, line \u001b[0;32m1\u001b[0m\n\u001b[0;31m    imread(/content/data science meme Small.jpeg)\u001b[0m\n\u001b[0m           ^\u001b[0m\n\u001b[0;31mSyntaxError\u001b[0m\u001b[0;31m:\u001b[0m invalid syntax\n"
          ]
        }
      ]
    },
    {
      "cell_type": "markdown",
      "source": [
        "## Coffee Production"
      ],
      "metadata": {
        "id": "otjUttjjms-b"
      }
    },
    {
      "cell_type": "markdown",
      "source": [
        "### Data Import"
      ],
      "metadata": {
        "id": "3HpmMKGbmz1F"
      }
    },
    {
      "cell_type": "code",
      "source": [
        "from google.colab import drive\n",
        "drive.mount('/content/drive')"
      ],
      "metadata": {
        "id": "h5tnrelznFIR"
      },
      "execution_count": null,
      "outputs": []
    },
    {
      "cell_type": "code",
      "source": [
        "coffee_production = pd.read_excel('/content/drive/MyDrive/Impacts of climate change on coffee/Database/Coffee Data/1a - Total production.xlsx', header = 3)\n",
        "coffee_production.head(10)"
      ],
      "metadata": {
        "id": "NKOo1kqzmiSB"
      },
      "execution_count": null,
      "outputs": []
    },
    {
      "cell_type": "code",
      "source": [
        "# display the data types\n",
        "print(coffee_production.dtypes.unique())"
      ],
      "metadata": {
        "id": "MeO37EaJpqKV"
      },
      "execution_count": null,
      "outputs": []
    },
    {
      "cell_type": "markdown",
      "source": [
        "### Data Preparation"
      ],
      "metadata": {
        "id": "3fNRkX1sp0h7"
      }
    },
    {
      "cell_type": "markdown",
      "source": [
        "The data needs to be cleaned prior to the analysis and visualization.\n",
        "\n",
        "For the production data, we are going to reformat the dataset, remove some rows that are not in our interest and also modify the unit of the data. The unit from the source is a thousand 60kg bags, we are going to change it to a more common unit like tons."
      ],
      "metadata": {
        "id": "xmNXyYwZp3Km"
      }
    },
    {
      "cell_type": "code",
      "source": [
        "# drop of a blank column in the dataframe\n",
        "coffee_production.drop('Unnamed: 1', axis=1,inplace=True)\n",
        "# drop the nan rows\n",
        "coffee_production.dropna(inplace=True)\n",
        "# rename the column for correct format\n",
        "coffee_production.rename(columns={'Crop year':'Country'}, inplace=True)\n",
        "# setting of the index by the country column\n",
        "coffee_production.set_index('Country',inplace=True)\n",
        "# removal of the / of each column and preserving just the first year.\n",
        "coffee_production.rename(columns=lambda x: x[:4], inplace=True)\n",
        "# remove some rows that are either all 0 or not valueable for us. \n",
        "coffee_production.drop(['April group', 'October group','July group', 'Equatorial Guinea'], inplace=True)\n",
        "# change of units into tons.\n",
        "coffee_production = coffee_production * 60\n",
        "coffee_production.head(5)"
      ],
      "metadata": {
        "id": "8Stz1CQMp17N"
      },
      "execution_count": null,
      "outputs": []
    },
    {
      "cell_type": "markdown",
      "source": [
        "After the reformat, we are going to create two dataframes from the original, one just for 2018 and the other for the total production value for each year, this to handle it better in the analysis.After the reformat, we are going to create two dataframes from the original, one just for 2018 and the other for the total production value for each year, this to handle it better in the analysis."
      ],
      "metadata": {
        "id": "lr-7n532qCxk"
      }
    },
    {
      "cell_type": "code",
      "source": [
        "# generation of a series of just values from 2019.\n",
        "coffee_production_2019 = coffee_production['2019'].drop('Total')\n",
        "coffee_production_2019.head(5)"
      ],
      "metadata": {
        "id": "WOKJMn8Hp9uc"
      },
      "execution_count": null,
      "outputs": []
    },
    {
      "cell_type": "code",
      "source": [
        "# transpose to change the year into the index and then select just the total\n",
        "coffee_production_total = coffee_production.T['Total']\n",
        "coffee_production_total.head(5)"
      ],
      "metadata": {
        "id": "SSmEru93qJEE"
      },
      "execution_count": null,
      "outputs": []
    },
    {
      "cell_type": "markdown",
      "source": [
        "### Data Analysis"
      ],
      "metadata": {
        "id": "vnYN1jabqS7W"
      }
    },
    {
      "cell_type": "markdown",
      "source": [
        "To do the analysis of the coffee production, consumption and price, we are going to generate a series of maps that show the distribution of these factors worldwide and also line charts to show how these have change through 1990 to 2019."
      ],
      "metadata": {
        "id": "6nnPMhfbqWnD"
      }
    },
    {
      "cell_type": "markdown",
      "source": [
        "Prior to the map generation, we are going to import the geojson file needed for the choropleth map and also a proportion table of the production for a better understanding of this factor.\n"
      ],
      "metadata": {
        "id": "qZFcfIBpqeoe"
      }
    },
    {
      "cell_type": "code",
      "source": [
        "# import of the geojson\n",
        "json_file = open('/content/drive/MyDrive/Impacts of climate change on coffee/Database/countries.geojson')\n",
        "countries = json.load(json_file) "
      ],
      "metadata": {
        "id": "VLo7wqySqLno"
      },
      "execution_count": null,
      "outputs": []
    },
    {
      "cell_type": "code",
      "source": [
        "# share of each country in the total production\n",
        "(coffee_production_2019/coffee_production_2019.sum()*100).sort_values(ascending=False).head(10)"
      ],
      "metadata": {
        "colab": {
          "base_uri": "https://localhost:8080/",
          "height": 186
        },
        "id": "435R2Qd0rHJ1",
        "outputId": "1ba5a543-1d66-48f4-cd10-d2e9f3d9860b"
      },
      "execution_count": 2,
      "outputs": [
        {
          "output_type": "error",
          "ename": "NameError",
          "evalue": "ignored",
          "traceback": [
            "\u001b[0;31m---------------------------------------------------------------------------\u001b[0m",
            "\u001b[0;31mNameError\u001b[0m                                 Traceback (most recent call last)",
            "\u001b[0;32m<ipython-input-2-8eecc73561a6>\u001b[0m in \u001b[0;36m<module>\u001b[0;34m\u001b[0m\n\u001b[1;32m      1\u001b[0m \u001b[0;31m# share of each country in the total production\u001b[0m\u001b[0;34m\u001b[0m\u001b[0;34m\u001b[0m\u001b[0;34m\u001b[0m\u001b[0m\n\u001b[0;32m----> 2\u001b[0;31m \u001b[0;34m(\u001b[0m\u001b[0mcoffee_production_2019\u001b[0m\u001b[0;34m/\u001b[0m\u001b[0mcoffee_production_2019\u001b[0m\u001b[0;34m.\u001b[0m\u001b[0msum\u001b[0m\u001b[0;34m(\u001b[0m\u001b[0;34m)\u001b[0m\u001b[0;34m*\u001b[0m\u001b[0;36m100\u001b[0m\u001b[0;34m)\u001b[0m\u001b[0;34m.\u001b[0m\u001b[0msort_values\u001b[0m\u001b[0;34m(\u001b[0m\u001b[0mascending\u001b[0m\u001b[0;34m=\u001b[0m\u001b[0;32mFalse\u001b[0m\u001b[0;34m)\u001b[0m\u001b[0;34m.\u001b[0m\u001b[0mhead\u001b[0m\u001b[0;34m(\u001b[0m\u001b[0;36m10\u001b[0m\u001b[0;34m)\u001b[0m\u001b[0;34m\u001b[0m\u001b[0;34m\u001b[0m\u001b[0m\n\u001b[0m",
            "\u001b[0;31mNameError\u001b[0m: name 'coffee_production_2019' is not defined"
          ]
        }
      ]
    },
    {
      "cell_type": "code",
      "source": [
        "  palette = plotly.colors.make_colorscale([\"#ebe1d7\",\"#f66749\",\"#9b3727\",\"#400604\"])\n",
        "\n",
        "fig = px.choropleth_mapbox(coffee_production_2019, geojson=countries, color=coffee_production_2019,\n",
        "                           locations=coffee_production_2019.index, featureidkey=\"properties.ADMIN\",\n",
        "                           center={\"lat\": 23, \"lon\": 3}, labels={'color':'Production<br>(Tons)'},\n",
        "                           mapbox_style=\"carto-positron\", zoom=.2, \n",
        "                           color_continuous_scale=palette, custom_data=[coffee_production_2019.index, coffee_production_2019],\n",
        "                           opacity=.9,  title='World Coffee Production in 2019')\n",
        "\n",
        "fig.update_layout(margin={\"b\":30,'l':30,'t':50}, width=660, height=450)\n",
        "\n",
        "fig.update_traces(\n",
        "    hovertemplate='<b>%{customdata[0]}</b>' +  \"<br>Production: %{customdata[1]:,.2f} Tons<extra></extra>\")\n",
        "\n",
        "fig.update_layout(title={\n",
        "                        'y':0.95,\n",
        "                        'x':0.5,\n",
        "                        'xanchor': 'center',\n",
        "                        'yanchor': 'top'})\n",
        "\n",
        "fig.show(renderer=\"colab\")"
      ],
      "metadata": {
        "id": "cvWii8FFsO6P"
      },
      "execution_count": null,
      "outputs": []
    },
    {
      "cell_type": "markdown",
      "source": [
        "The first thing that leaps out on this map is that Brazil is by far the largest coffee grower in the world, producing almost 3.5 million tons of coffee in 2019, accounting for 35% of total global production.\n",
        "\n",
        "When we originally started working on this project, we suspected that Brazil was the world's largest coffee producer due to the popularity and delectability of its mixes; nevertheless, we were surprised to learn that Viet Nam was the second largest. In 2019, Vietnam produced over 1.8 million tons of coffee, accounting for 18.5% of total coffee production. Vietnam also produces one of the world's most costly coffees, Weasel Coffee, which is a coffee bean that has been chewed and digested by a civet before being roasted."
      ],
      "metadata": {
        "id": "Hez965RRs2oE"
      }
    },
    {
      "cell_type": "code",
      "source": [
        "top10_coffee_producers = coffee_production_2019.sort_values(ascending=False).iloc[0:10]\n",
        "\n",
        "fig = px.bar(x=top10_coffee_producers.index, y=top10_coffee_producers, title='Top Coffee Producers in 2019')\n",
        "\n",
        "\n",
        "fig.update_traces(\n",
        "    hovertemplate='<b>%{y:,.2f}<extra></extra>',\n",
        "    marker={'color':\"#400604\"})\n",
        "\n",
        "fig.update_layout(margin={'r':50,'t':50})\n",
        "\n",
        "fig.update_layout(xaxis={'title':''},\n",
        "                  yaxis={'title':'Coffee Production, Tons'},\n",
        "                  title={\n",
        "                        'y':0.95,\n",
        "                        'x':0.5,\n",
        "                        'xanchor': 'center',\n",
        "                        'yanchor': 'top'},\n",
        "                  plot_bgcolor=\"#F9F9F9\",\n",
        "                  width=670,\n",
        "                  height=450)\n",
        "\n",
        "fig.show(renderer = \"colab\")"
      ],
      "metadata": {
        "id": "UhbKlaN4sRQI"
      },
      "execution_count": null,
      "outputs": []
    },
    {
      "cell_type": "code",
      "source": [
        "top5_list = ['Brazil', 'Vietnam', 'Colombia', 'Indonesia', 'Ethiopia']\n",
        "top5_coffee_producers = coffee_production.loc[top5_list]\n",
        "top5_coffee_producers.head(5)"
      ],
      "metadata": {
        "id": "PgSOJWCPCLdv"
      },
      "execution_count": null,
      "outputs": []
    },
    {
      "cell_type": "code",
      "source": [
        "# Create figure object\n",
        "fig = go.Figure()\n",
        "\n",
        "# Add line for each row of dataframe\n",
        "for row in top5_coffee_producers.iterrows():\n",
        "    fig.add_trace(go.Scatter(x=top5_coffee_producers.columns, y=row[1].values, name=f\"{row[0]}\"))\n",
        "    \n",
        "fig.update_layout(\n",
        "    title=\"Production of Coffee from 1990 to 2019\",\n",
        "    xaxis_title=\"Year\",\n",
        "    yaxis_title=\"Coffee Production, Tons\",\n",
        "    legend_title=\"Country\")\n",
        "\n",
        "# Show figure\n",
        "fig.show(renderer='colab')"
      ],
      "metadata": {
        "id": "8GIcutLzCxdM"
      },
      "execution_count": null,
      "outputs": []
    },
    {
      "cell_type": "markdown",
      "source": [
        "This rate of production is thought to be unsustainable in the next years, as a so-called \"Coffee Crisis\" is expected as a result of climate change. As temperatures continue to rise, the meteorological conditions for growing coffee, particularly Arabica coffee, which requires moderate temperatures to thrive, are jeopardized."
      ],
      "metadata": {
        "id": "MCGAUN2JC78J"
      }
    },
    {
      "cell_type": "code",
      "source": [],
      "metadata": {
        "id": "xTkC2x6oC9J8"
      },
      "execution_count": null,
      "outputs": []
    }
  ]
}