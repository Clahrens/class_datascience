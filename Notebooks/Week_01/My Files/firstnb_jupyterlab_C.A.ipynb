{
 "cells": [
  {
   "cell_type": "code",
   "execution_count": 2,
   "id": "2354edf5-853a-4a9b-a348-aa3eea70f6ab",
   "metadata": {},
   "outputs": [
    {
     "name": "stdout",
     "output_type": "stream",
     "text": [
      "hello, world.\n"
     ]
    }
   ],
   "source": [
    "# Say hello to the world.\n",
    "print('hello, world.')\n"
   ]
  },
  {
   "cell_type": "markdown",
   "id": "22d07d7c-d08c-454a-8ebc-27e3a291d419",
   "metadata": {},
   "source": [
    "hallo \n"
   ]
  },
  {
   "cell_type": "markdown",
   "id": "ce27ad3c-655a-44a2-8724-abf85681d840",
   "metadata": {},
   "source": [
    "hallo \n"
   ]
  },
  {
   "cell_type": "markdown",
   "id": "97f297a8-8a3b-4acf-bb38-cffc4f1e6366",
   "metadata": {},
   "source": [
    "hallo \n"
   ]
  },
  {
   "cell_type": "code",
   "execution_count": 5,
   "id": "7f65abe8-de0a-4759-b260-bec6e4cf33eb",
   "metadata": {},
   "outputs": [
    {
     "data": {
      "text/plain": [
       "12"
      ]
     },
     "execution_count": 5,
     "metadata": {},
     "output_type": "execute_result"
    }
   ],
   "source": [
    "# Would show 9 if this were the last line, but it is not, so shows nothing\n",
    "4 + 5\n",
    "# I hope we see 11.\n",
    "5 + 6\n",
    "a=5+7\n",
    "# However, now if we ask for a, its value will be displayed\n",
    "a"
   ]
  },
  {
   "cell_type": "code",
   "execution_count": null,
   "id": "ea341ba8-0949-437d-b347-12edafec96a1",
   "metadata": {},
   "outputs": [],
   "source": []
  }
 ],
 "metadata": {
  "kernelspec": {
   "display_name": "Python 3 (ipykernel)",
   "language": "python",
   "name": "python3"
  },
  "language_info": {
   "codemirror_mode": {
    "name": "ipython",
    "version": 3
   },
   "file_extension": ".py",
   "mimetype": "text/x-python",
   "name": "python",
   "nbconvert_exporter": "python",
   "pygments_lexer": "ipython3",
   "version": "3.9.13"
  }
 },
 "nbformat": 4,
 "nbformat_minor": 5
}
