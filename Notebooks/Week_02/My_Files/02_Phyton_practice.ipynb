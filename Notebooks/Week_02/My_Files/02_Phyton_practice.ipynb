{
 "cells": [
  {
   "cell_type": "markdown",
   "id": "76c97eff-1370-4489-be13-7433bce39e0c",
   "metadata": {},
   "source": [
    "## Let's start"
   ]
  },
  {
   "cell_type": "markdown",
   "id": "1e886a1f-b562-4c11-8bdd-5aa28e56fee7",
   "metadata": {
    "tags": []
   },
   "source": [
    "### string, float (real numbers),complex, integers -> use type () to determine the type\n",
    "### can use '' or \" \" for string  / can use \"\"\" \"\"\" -> can write on the next line  \n",
    "### practice to make a table"
   ]
  },
  {
   "cell_type": "code",
   "execution_count": 2,
   "id": "f6ed9c36-aaf3-4ab2-b9bb-61cc7351ea38",
   "metadata": {},
   "outputs": [
    {
     "data": {
      "text/plain": [
       "str"
      ]
     },
     "execution_count": 2,
     "metadata": {},
     "output_type": "execute_result"
    }
   ],
   "source": [
    "type ('Hello')"
   ]
  },
  {
   "cell_type": "code",
   "execution_count": 3,
   "id": "f19b0b2a-4c4f-40bf-b3b7-cd0210b06305",
   "metadata": {},
   "outputs": [
    {
     "data": {
      "text/plain": [
       "str"
      ]
     },
     "execution_count": 3,
     "metadata": {},
     "output_type": "execute_result"
    }
   ],
   "source": [
    "type (\"6\")"
   ]
  },
  {
   "cell_type": "code",
   "execution_count": null,
   "id": "111f52e6-19e1-41c8-880d-9ce5d51a4135",
   "metadata": {},
   "outputs": [
    {
     "data": {
      "text/plain": [
       "float"
      ]
     },
     "execution_count": 8,
     "metadata": {},
     "output_type": "execute_result"
    }
   ],
   "source": [
    "type (7.5)"
   ]
  },
  {
   "cell_type": "code",
   "execution_count": 7,
   "id": "483cfcbf-05b3-4d24-b1b5-f583f82de916",
   "metadata": {},
   "outputs": [
    {
     "data": {
      "text/plain": [
       "complex"
      ]
     },
     "execution_count": 7,
     "metadata": {},
     "output_type": "execute_result"
    }
   ],
   "source": [
    "type (1+1j)  #j is defined as the imaginary number"
   ]
  },
  {
   "cell_type": "code",
   "execution_count": 12,
   "id": "2339616c-56c3-4803-854c-565e5c4cd6d6",
   "metadata": {},
   "outputs": [
    {
     "name": "stdout",
     "output_type": "stream",
     "text": [
      "Hello\n",
      "Charlotte\n"
     ]
    }
   ],
   "source": [
    "print (\"\"\"Hello\n",
    "Charlotte\"\"\")"
   ]
  },
  {
   "cell_type": "markdown",
   "id": "d2fca5a7-9647-4b4e-bef7-6b66adac3cc8",
   "metadata": {},
   "source": [
    "# Variables"
   ]
  },
  {
   "cell_type": "markdown",
   "id": "6472a255-1db3-4095-a996-7e6ee6807556",
   "metadata": {},
   "source": [
    "### always u strong names\n",
    "### case sensitives -> a doesn't overwrite A\n",
    "### always explain your code"
   ]
  },
  {
   "cell_type": "code",
   "execution_count": 13,
   "id": "932dc5c9-ed33-4731-a5b1-25a85ee9ba9e",
   "metadata": {},
   "outputs": [],
   "source": [
    "a=5"
   ]
  },
  {
   "cell_type": "code",
   "execution_count": 14,
   "id": "90b12a50-85b3-4ee7-b8e3-f37a54ff0135",
   "metadata": {},
   "outputs": [
    {
     "data": {
      "text/plain": [
       "5"
      ]
     },
     "execution_count": 14,
     "metadata": {},
     "output_type": "execute_result"
    }
   ],
   "source": [
    "a"
   ]
  },
  {
   "cell_type": "code",
   "execution_count": 15,
   "id": "18e8f80a-b525-4aae-9757-1cf35c208e54",
   "metadata": {},
   "outputs": [
    {
     "data": {
      "text/plain": [
       "int"
      ]
     },
     "execution_count": 15,
     "metadata": {},
     "output_type": "execute_result"
    }
   ],
   "source": [
    "type (a)"
   ]
  },
  {
   "cell_type": "code",
   "execution_count": 16,
   "id": "7f1e1c1d-799b-47dc-abed-e235e4677592",
   "metadata": {},
   "outputs": [],
   "source": [
    "A = \"case sensitive\""
   ]
  },
  {
   "cell_type": "code",
   "execution_count": null,
   "id": "e2e1ddfc-04c5-4cb8-beb9-a5533399b0f1",
   "metadata": {},
   "outputs": [],
   "source": [
    "int_var = 4 # This is an integer"
   ]
  },
  {
   "cell_type": "markdown",
   "id": "5ddeb28b-bd6f-4f14-876b-9bbfd3f79d39",
   "metadata": {},
   "source": [
    "# Operations"
   ]
  },
  {
   "cell_type": "markdown",
   "id": "132b3a5f-b514-4c6d-97c5-cc0032447431",
   "metadata": {},
   "source": [
    "### be aware of precision errors -> make numbers rounded\n",
    "### modulo = remainer like 10%3=1\n",
    "### floor division // -> always rounds down to the whole integer\n",
    "### concatenate"
   ]
  },
  {
   "cell_type": "code",
   "execution_count": 19,
   "id": "e2ba1f02-a52a-4498-965e-2891626f4278",
   "metadata": {},
   "outputs": [
    {
     "data": {
      "text/plain": [
       "125"
      ]
     },
     "execution_count": 19,
     "metadata": {},
     "output_type": "execute_result"
    }
   ],
   "source": [
    "3+122"
   ]
  },
  {
   "cell_type": "code",
   "execution_count": 20,
   "id": "1fd1c1e9-f0e5-4ef6-aaa9-65ddc467e5f2",
   "metadata": {},
   "outputs": [
    {
     "data": {
      "text/plain": [
       "6"
      ]
     },
     "execution_count": 20,
     "metadata": {},
     "output_type": "execute_result"
    }
   ],
   "source": [
    "8-2"
   ]
  },
  {
   "cell_type": "code",
   "execution_count": 21,
   "id": "5e9aa53f-a994-4d10-80d6-93c189426b00",
   "metadata": {},
   "outputs": [
    {
     "data": {
      "text/plain": [
       "6"
      ]
     },
     "execution_count": 21,
     "metadata": {},
     "output_type": "execute_result"
    }
   ],
   "source": [
    "2*3"
   ]
  },
  {
   "cell_type": "code",
   "execution_count": 22,
   "id": "dee18d01-fee9-4c24-80e4-f6268db5773c",
   "metadata": {},
   "outputs": [
    {
     "data": {
      "text/plain": [
       "18"
      ]
     },
     "execution_count": 22,
     "metadata": {},
     "output_type": "execute_result"
    }
   ],
   "source": [
    "6*3"
   ]
  },
  {
   "cell_type": "code",
   "execution_count": 23,
   "id": "078453d9-4807-41cf-aaab-e413f08ee35c",
   "metadata": {},
   "outputs": [
    {
     "data": {
      "text/plain": [
       "1"
      ]
     },
     "execution_count": 23,
     "metadata": {},
     "output_type": "execute_result"
    }
   ],
   "source": [
    "10%3"
   ]
  },
  {
   "cell_type": "code",
   "execution_count": 26,
   "id": "290bab45-ea7e-4828-b624-efd0fed5487d",
   "metadata": {},
   "outputs": [
    {
     "data": {
      "text/plain": [
       "3"
      ]
     },
     "execution_count": 26,
     "metadata": {},
     "output_type": "execute_result"
    }
   ],
   "source": [
    "11//3"
   ]
  },
  {
   "cell_type": "code",
   "execution_count": 28,
   "id": "558fc329-cfce-4ee8-8a97-3ac1517e3523",
   "metadata": {},
   "outputs": [
    {
     "data": {
      "text/plain": [
       "'I am 25 years old.'"
      ]
     },
     "execution_count": 28,
     "metadata": {},
     "output_type": "execute_result"
    }
   ],
   "source": [
    "\"I am \" + str(25) + \" years old.\""
   ]
  },
  {
   "cell_type": "code",
   "execution_count": 29,
   "id": "bbcadb0a-cc88-404d-805a-6f8313b86995",
   "metadata": {},
   "outputs": [
    {
     "data": {
      "text/plain": [
       "11"
      ]
     },
     "execution_count": 29,
     "metadata": {},
     "output_type": "execute_result"
    }
   ],
   "source": [
    "a=int(\"11\")"
   ]
  },
  {
   "cell_type": "code",
   "execution_count": 34,
   "id": "550e2c34-2a73-4f08-a68d-446e83e2fb38",
   "metadata": {},
   "outputs": [
    {
     "data": {
      "text/plain": [
       "int"
      ]
     },
     "execution_count": 34,
     "metadata": {},
     "output_type": "execute_result"
    }
   ],
   "source": [
    "type (a)"
   ]
  },
  {
   "cell_type": "code",
   "execution_count": 40,
   "id": "965042c2-1ff2-4530-b9a4-1fe25a72fd84",
   "metadata": {},
   "outputs": [
    {
     "data": {
      "text/plain": [
       "' I am %d years old'"
      ]
     },
     "execution_count": 40,
     "metadata": {},
     "output_type": "execute_result"
    }
   ],
   "source": [
    "\" I am % years old\""
   ]
  },
  {
   "cell_type": "markdown",
   "id": "042a9a83-d308-4b27-b28b-77d296b6bf66",
   "metadata": {},
   "source": [
    "# Assignment operation"
   ]
  },
  {
   "cell_type": "markdown",
   "id": "4e51de75-6291-40cc-bc3e-2ff780525afe",
   "metadata": {},
   "source": [
    "# if I run a equation again -> "
   ]
  },
  {
   "cell_type": "code",
   "execution_count": null,
   "id": "a6288df5-5dee-4c88-a36e-6d89eed59774",
   "metadata": {},
   "outputs": [],
   "source": [
    "my_var = 7"
   ]
  },
  {
   "cell_type": "code",
   "execution_count": 32,
   "id": "d4eec1bf-66af-4971-bfe9-aed04d245e5d",
   "metadata": {},
   "outputs": [],
   "source": [
    "my_var = my_var +1"
   ]
  },
  {
   "cell_type": "code",
   "execution_count": 33,
   "id": "442a2b27-70f6-44aa-9639-30141875ce1e",
   "metadata": {},
   "outputs": [
    {
     "data": {
      "text/plain": [
       "8"
      ]
     },
     "execution_count": 33,
     "metadata": {},
     "output_type": "execute_result"
    }
   ],
   "source": [
    "my_var"
   ]
  },
  {
   "cell_type": "code",
   "execution_count": 43,
   "id": "51cf30a8-7ba9-48c8-a341-49c357898cc1",
   "metadata": {},
   "outputs": [],
   "source": [
    "my_var += 1"
   ]
  },
  {
   "cell_type": "code",
   "execution_count": 44,
   "id": "1a090e0f-2bae-4fc5-a196-868a32bac445",
   "metadata": {},
   "outputs": [
    {
     "data": {
      "text/plain": [
       "64"
      ]
     },
     "execution_count": 44,
     "metadata": {},
     "output_type": "execute_result"
    }
   ],
   "source": [
    "my_var"
   ]
  },
  {
   "cell_type": "code",
   "execution_count": 45,
   "id": "f551a8c7-792b-4f68-a62c-8a4f3fd70857",
   "metadata": {},
   "outputs": [],
   "source": [
    "my_var *= 7 "
   ]
  },
  {
   "cell_type": "code",
   "execution_count": 46,
   "id": "6ca7b22c-db16-4002-a232-377f5553aade",
   "metadata": {},
   "outputs": [
    {
     "data": {
      "text/plain": [
       "448"
      ]
     },
     "execution_count": 46,
     "metadata": {},
     "output_type": "execute_result"
    }
   ],
   "source": [
    "my_var"
   ]
  },
  {
   "cell_type": "code",
   "execution_count": 47,
   "id": "a3524028-3f24-41fd-89db-efde55b41fb6",
   "metadata": {},
   "outputs": [
    {
     "name": "stdout",
     "output_type": "stream",
     "text": [
      "3\n",
      "2\n"
     ]
    }
   ],
   "source": [
    "a=3\n",
    "b=2\n",
    "\n",
    "print(a)\n",
    "print(b)"
   ]
  },
  {
   "cell_type": "code",
   "execution_count": 48,
   "id": "38269757-be6e-4a8e-93d5-5c2bdb7634c4",
   "metadata": {},
   "outputs": [],
   "source": [
    "my_var **=2 # it stores the value in the left operator "
   ]
  },
  {
   "cell_type": "code",
   "execution_count": 49,
   "id": "759e2d10-024b-444c-a0a7-a86a1beb5a31",
   "metadata": {},
   "outputs": [
    {
     "data": {
      "text/plain": [
       "200704"
      ]
     },
     "execution_count": 49,
     "metadata": {},
     "output_type": "execute_result"
    }
   ],
   "source": [
    "my_var"
   ]
  },
  {
   "cell_type": "markdown",
   "id": "c89f63ce-a4e3-4638-98df-688df80fb8c4",
   "metadata": {},
   "source": [
    "# Comparison operator"
   ]
  },
  {
   "cell_type": "markdown",
   "id": "41e5df94-5baf-4858-a731-d6bb3cb28be0",
   "metadata": {},
   "source": [
    "### true, false = boolean, <,>,==\n",
    "### strings-> the letters will be compared ord () based on Unicode"
   ]
  },
  {
   "cell_type": "code",
   "execution_count": 50,
   "id": "4a28eb84-f280-4c89-8273-1b0beddca00b",
   "metadata": {},
   "outputs": [
    {
     "data": {
      "text/plain": [
       "True"
      ]
     },
     "execution_count": 50,
     "metadata": {},
     "output_type": "execute_result"
    }
   ],
   "source": [
    "a = 10\n",
    "b = 12 \n",
    "\n",
    "b > a"
   ]
  },
  {
   "cell_type": "code",
   "execution_count": 51,
   "id": "f42e05fd-7dfd-4187-adf7-6d8d0daf398c",
   "metadata": {},
   "outputs": [
    {
     "data": {
      "text/plain": [
       "bool"
      ]
     },
     "execution_count": 51,
     "metadata": {},
     "output_type": "execute_result"
    }
   ],
   "source": [
    "type (True)"
   ]
  },
  {
   "cell_type": "code",
   "execution_count": 52,
   "id": "ffe9938c-3879-4eec-b800-81d7eeb7122a",
   "metadata": {},
   "outputs": [
    {
     "data": {
      "text/plain": [
       "False"
      ]
     },
     "execution_count": 52,
     "metadata": {},
     "output_type": "execute_result"
    }
   ],
   "source": [
    "b<a"
   ]
  },
  {
   "cell_type": "code",
   "execution_count": 53,
   "id": "ef5d3bff-ed80-431d-821d-00efb620f6b9",
   "metadata": {},
   "outputs": [
    {
     "data": {
      "text/plain": [
       "False"
      ]
     },
     "execution_count": 53,
     "metadata": {},
     "output_type": "execute_result"
    }
   ],
   "source": [
    "a==b"
   ]
  },
  {
   "cell_type": "code",
   "execution_count": 54,
   "id": "4b0537f1-2833-48f4-aeef-b2396b07c3d6",
   "metadata": {},
   "outputs": [
    {
     "data": {
      "text/plain": [
       "False"
      ]
     },
     "execution_count": 54,
     "metadata": {},
     "output_type": "execute_result"
    }
   ],
   "source": [
    "\"Jordan\"> \"Lebron James\""
   ]
  },
  {
   "cell_type": "code",
   "execution_count": 55,
   "id": "f18bfdf1-ec93-483b-b1d8-f26bc980ba0f",
   "metadata": {},
   "outputs": [
    {
     "data": {
      "text/plain": [
       "74"
      ]
     },
     "execution_count": 55,
     "metadata": {},
     "output_type": "execute_result"
    }
   ],
   "source": [
    "ord(\"J\")"
   ]
  },
  {
   "cell_type": "code",
   "execution_count": 56,
   "id": "6664daed-869f-4ab9-93c2-a59de974d3f9",
   "metadata": {},
   "outputs": [
    {
     "data": {
      "text/plain": [
       "76"
      ]
     },
     "execution_count": 56,
     "metadata": {},
     "output_type": "execute_result"
    }
   ],
   "source": [
    "ord(\"L\")"
   ]
  },
  {
   "cell_type": "markdown",
   "id": "c0871f6d-ad6a-4812-9bbb-f9f03d29bdfd",
   "metadata": {},
   "source": [
    "# Identity operator"
   ]
  },
  {
   "cell_type": "markdown",
   "id": "48efc5a5-bfe1-44d9-ab7a-506e060f0ca1",
   "metadata": {},
   "source": [
    "# integer caching -> between -5 and 356"
   ]
  },
  {
   "cell_type": "code",
   "execution_count": 59,
   "id": "b7c5fbdc-52ae-41d6-9ecf-53e1ff87b45a",
   "metadata": {},
   "outputs": [
    {
     "data": {
      "text/plain": [
       "True"
      ]
     },
     "execution_count": 59,
     "metadata": {},
     "output_type": "execute_result"
    }
   ],
   "source": [
    "a = 3.1\n",
    "b = 3.1\n",
    "\n",
    "a==b"
   ]
  },
  {
   "cell_type": "code",
   "execution_count": 60,
   "id": "1cba7974-e7eb-4f9b-996f-f1cf06ef8fd6",
   "metadata": {},
   "outputs": [
    {
     "data": {
      "text/plain": [
       "False"
      ]
     },
     "execution_count": 60,
     "metadata": {},
     "output_type": "execute_result"
    }
   ],
   "source": [
    "a is b \"if I want to check if its actually the same"
   ]
  },
  {
   "cell_type": "code",
   "execution_count": 61,
   "id": "6b04cbcc-ad3a-404f-b56f-77b81ba981bf",
   "metadata": {},
   "outputs": [
    {
     "data": {
      "text/plain": [
       "2222508961648"
      ]
     },
     "execution_count": 61,
     "metadata": {},
     "output_type": "execute_result"
    }
   ],
   "source": [
    "id(a)"
   ]
  },
  {
   "cell_type": "code",
   "execution_count": 62,
   "id": "adc6c037-7e2b-45ed-903f-a37f18127cae",
   "metadata": {},
   "outputs": [
    {
     "data": {
      "text/plain": [
       "2222509474544"
      ]
     },
     "execution_count": 62,
     "metadata": {},
     "output_type": "execute_result"
    }
   ],
   "source": [
    "id(b)"
   ]
  },
  {
   "cell_type": "markdown",
   "id": "188a0c77-1a81-4744-873d-d6f0fc067d59",
   "metadata": {},
   "source": [
    "# Logical operator"
   ]
  },
  {
   "cell_type": "code",
   "execution_count": 64,
   "id": "e358dc2d-1da6-40ed-b3b3-fdb1abb0ee9a",
   "metadata": {},
   "outputs": [
    {
     "data": {
      "text/plain": [
       "True"
      ]
     },
     "execution_count": 64,
     "metadata": {},
     "output_type": "execute_result"
    }
   ],
   "source": [
    "a = 4\n",
    "b = 4\n",
    "c = 7.1\n",
    "d = 8.2\n",
    "\n",
    "a==b and d>c (True and True) -> True"
   ]
  },
  {
   "cell_type": "code",
   "execution_count": 65,
   "id": "ddf07c1a-7e07-42d3-bd14-a91c80cbe009",
   "metadata": {},
   "outputs": [
    {
     "data": {
      "text/plain": [
       "False"
      ]
     },
     "execution_count": 65,
     "metadata": {},
     "output_type": "execute_result"
    }
   ],
   "source": [
    "True and False "
   ]
  },
  {
   "cell_type": "code",
   "execution_count": 66,
   "id": "d9143b6d-449e-483c-b29c-928e447b7662",
   "metadata": {},
   "outputs": [
    {
     "data": {
      "text/plain": [
       "True"
      ]
     },
     "execution_count": 66,
     "metadata": {},
     "output_type": "execute_result"
    }
   ],
   "source": [
    "True or False "
   ]
  },
  {
   "cell_type": "code",
   "execution_count": 67,
   "id": "5ef1a830-fda6-42b8-97f9-275d87a1c63e",
   "metadata": {},
   "outputs": [
    {
     "data": {
      "text/plain": [
       "True"
      ]
     },
     "execution_count": 67,
     "metadata": {},
     "output_type": "execute_result"
    }
   ],
   "source": [
    "True and not False #not False is True"
   ]
  },
  {
   "cell_type": "code",
   "execution_count": 68,
   "id": "978b2c19-98b2-44ab-bb69-145ceba7f025",
   "metadata": {},
   "outputs": [
    {
     "data": {
      "text/plain": [
       "False"
      ]
     },
     "execution_count": 68,
     "metadata": {},
     "output_type": "execute_result"
    }
   ],
   "source": [
    "False or False"
   ]
  },
  {
   "cell_type": "markdown",
   "id": "ea9e0413-0428-4cc8-ad3d-ab40b96a6982",
   "metadata": {},
   "source": [
    "# Conditional "
   ]
  },
  {
   "cell_type": "markdown",
   "id": "0589773d-ade5-47d7-a064-f8bf03a80d33",
   "metadata": {},
   "source": [
    "# cooperating is a social dilemma\n",
    "# We cooperate for certain outcomes: heartwarming (emotional gains), Trust, Individual payoff"
   ]
  },
  {
   "cell_type": "code",
   "execution_count": 72,
   "id": "60c317bf-f762-4cde-a130-fcecbff29626",
   "metadata": {},
   "outputs": [
    {
     "name": "stdout",
     "output_type": "stream",
     "text": [
      "Edoardo is cooperating\n"
     ]
    }
   ],
   "source": [
    "cost = 1                  #individual cost\n",
    "benefit = 3               # social benefit\n",
    "kappa = 0.5               # degree of morality\n",
    "\n",
    "if kappa*benefit >= cost*(1-kappa):\n",
    "    print(\"Edoardo is cooperating\")"
   ]
  },
  {
   "cell_type": "code",
   "execution_count": 74,
   "id": "54a33b59-b2fd-4dd7-90f9-85d6d3f62249",
   "metadata": {},
   "outputs": [
    {
     "name": "stdout",
     "output_type": "stream",
     "text": [
      "Edoardo is not cooperating.\n"
     ]
    }
   ],
   "source": [
    "kappa=0\n",
    "\n",
    "if kappa*benefit >= cost*(1-kappa):\n",
    "    print(\"Edoardo is cooperating.\")\n",
    "else: \n",
    "    print (\"Edoardo is not cooperating.\")"
   ]
  },
  {
   "cell_type": "code",
   "execution_count": 77,
   "id": "dcc0786f-58ff-45d6-938b-1c612ec75395",
   "metadata": {},
   "outputs": [
    {
     "name": "stdout",
     "output_type": "stream",
     "text": [
      "Nobody cooperates.\n"
     ]
    }
   ],
   "source": [
    "kappa_1 = 0.2\n",
    "kappa_2 = 0\n",
    "\n",
    "if kappa_1*benefit >= cost*(1-kappa) and kappa_2*benefit >= cost*(1-kappa_2): #when copy and paste code then check the variable names!\n",
    "    print (\"Ed. and Quentin are cooperating\")\n",
    "elif kappa_1*benefit < cost*(1-kappa) and kappa_2*benefit < cost*(1-kappa_2):\n",
    "    print (\"Nobody cooperates.\")\n",
    "else: \n",
    "    print(\"Only 1 cooperates\")\n",
    "    "
   ]
  },
  {
   "cell_type": "markdown",
   "id": "da7bc49a-d692-4d44-bf85-6b9cfbf75ce3",
   "metadata": {},
   "source": [
    "# Collection of Elements"
   ]
  },
  {
   "cell_type": "markdown",
   "id": "8c9a49e1-0fd4-4b99-8037-921a02edd469",
   "metadata": {},
   "source": [
    "##List versus Tuple:"
   ]
  },
  {
   "cell_type": "markdown",
   "id": "be888683-b8cf-4ced-a08b-057f66beb651",
   "metadata": {},
   "source": [
    "## List"
   ]
  },
  {
   "cell_type": "code",
   "execution_count": 78,
   "id": "d759d321-5686-44a8-beb2-04e1915c0c2d",
   "metadata": {},
   "outputs": [],
   "source": [
    "my_list = [2,3.5, \"cat\"] # use brackets"
   ]
  },
  {
   "cell_type": "code",
   "execution_count": 80,
   "id": "4ade51fc-db06-4e6e-830f-08f815b30cf1",
   "metadata": {},
   "outputs": [
    {
     "data": {
      "text/plain": [
       "[2, 3.5, 'cat']"
      ]
     },
     "execution_count": 80,
     "metadata": {},
     "output_type": "execute_result"
    }
   ],
   "source": [
    "my_list"
   ]
  },
  {
   "cell_type": "code",
   "execution_count": 81,
   "id": "e32b6f3a-63a3-4a20-a8e3-208fcbd39b5c",
   "metadata": {},
   "outputs": [],
   "source": [
    "my_list_2 = [\"dog\", 6.2]"
   ]
  },
  {
   "cell_type": "code",
   "execution_count": 82,
   "id": "c8932625-633b-44bd-865f-01ba88d0f9d4",
   "metadata": {},
   "outputs": [
    {
     "data": {
      "text/plain": [
       "[2, 3.5, 'cat', 'dog', 6.2]"
      ]
     },
     "execution_count": 82,
     "metadata": {},
     "output_type": "execute_result"
    }
   ],
   "source": [
    "my_list + my_list_2"
   ]
  },
  {
   "cell_type": "code",
   "execution_count": 83,
   "id": "ee271a57-00b2-4aaa-bf6b-18057ca83ab8",
   "metadata": {},
   "outputs": [
    {
     "data": {
      "text/plain": [
       "[2, 3.5, 'cat', 2, 3.5, 'cat', 2, 3.5, 'cat', 2, 3.5, 'cat']"
      ]
     },
     "execution_count": 83,
     "metadata": {},
     "output_type": "execute_result"
    }
   ],
   "source": [
    "my_list*4"
   ]
  },
  {
   "cell_type": "markdown",
   "id": "3780bbbc-5835-46a2-83d3-a52e9c9fe836",
   "metadata": {},
   "source": [
    "## Tuples"
   ]
  },
  {
   "cell_type": "code",
   "execution_count": 84,
   "id": "e96c407e-0aa0-4df2-be6c-d39d7e096b41",
   "metadata": {},
   "outputs": [],
   "source": [
    "my_tuple = (4,8.9, \"bird\") # always use parentheses for tuples"
   ]
  },
  {
   "cell_type": "code",
   "execution_count": 85,
   "id": "e5f84576-5f55-4322-8044-e46bc7d35711",
   "metadata": {},
   "outputs": [],
   "source": [
    "my_tuple_2 = (\"hello\", 1)"
   ]
  },
  {
   "cell_type": "code",
   "execution_count": 86,
   "id": "353ac067-f317-4d4a-b289-40e2d43e6e2c",
   "metadata": {},
   "outputs": [
    {
     "data": {
      "text/plain": [
       "(4, 8.9, 'bird', 'hello', 1)"
      ]
     },
     "execution_count": 86,
     "metadata": {},
     "output_type": "execute_result"
    }
   ],
   "source": [
    "my_tuple + my_tuple_2"
   ]
  },
  {
   "cell_type": "markdown",
   "id": "0660945f-8986-4805-a2a7-ca7960123c91",
   "metadata": {},
   "source": [
    "## Conversion "
   ]
  },
  {
   "cell_type": "code",
   "execution_count": 88,
   "id": "fd060558-6bed-4159-b610-71917832a8f1",
   "metadata": {},
   "outputs": [
    {
     "data": {
      "text/plain": [
       "(2, 3.5, 'cat')"
      ]
     },
     "execution_count": 88,
     "metadata": {},
     "output_type": "execute_result"
    }
   ],
   "source": [
    "my_list = [2,3.5, \"cat\"]\n",
    "tuple(my_list) # can do the same conversion from tuple to list"
   ]
  },
  {
   "cell_type": "markdown",
   "id": "a7b977f9-b18b-4042-acc7-ec9b09c5985f",
   "metadata": {},
   "source": [
    "## Indexing"
   ]
  },
  {
   "cell_type": "code",
   "execution_count": 89,
   "id": "0b761332-5db3-4b95-9897-b3b475958be8",
   "metadata": {},
   "outputs": [
    {
     "data": {
      "text/plain": [
       "3.5"
      ]
     },
     "execution_count": 89,
     "metadata": {},
     "output_type": "execute_result"
    }
   ],
   "source": [
    "my_list = [2,3.5, \"cat\"]\n",
    "my_list[1] # Python starts with 0!"
   ]
  },
  {
   "cell_type": "code",
   "execution_count": 90,
   "id": "e55fa99f-ac39-4a9c-9b87-47e25fb5cf98",
   "metadata": {},
   "outputs": [
    {
     "data": {
      "text/plain": [
       "[0, 1, 2, 3, 4]"
      ]
     },
     "execution_count": 90,
     "metadata": {},
     "output_type": "execute_result"
    }
   ],
   "source": [
    "my_list = [0,1,2,3,4,5,6,7,8,9,10]\n",
    "my_list[0:5] #colon -> it includes the left one after not the right one\n"
   ]
  },
  {
   "cell_type": "code",
   "execution_count": 93,
   "id": "572c7c27-29e3-4f45-8172-ba7f777dc5a3",
   "metadata": {},
   "outputs": [
    {
     "data": {
      "text/plain": [
       "[6, 7, 8, 9, 10]"
      ]
     },
     "execution_count": 93,
     "metadata": {},
     "output_type": "execute_result"
    }
   ],
   "source": [
    "my_list [6:11] \n"
   ]
  },
  {
   "cell_type": "code",
   "execution_count": 92,
   "id": "418e6083-f066-453e-8c60-e5831d5e56f4",
   "metadata": {},
   "outputs": [
    {
     "data": {
      "text/plain": [
       "10"
      ]
     },
     "execution_count": 92,
     "metadata": {},
     "output_type": "execute_result"
    }
   ],
   "source": [
    "my_list[-1] #-1 is the last element"
   ]
  },
  {
   "cell_type": "code",
   "execution_count": 94,
   "id": "9e07792f-cd89-44ff-8b7a-0cf0acf01845",
   "metadata": {},
   "outputs": [],
   "source": [
    "my_tuple = (0,1,2,3,4,5,6,7,8,9,10)"
   ]
  },
  {
   "cell_type": "code",
   "execution_count": 95,
   "id": "d5fc8549-5b00-4b22-bc74-28e9c017dc3b",
   "metadata": {},
   "outputs": [
    {
     "data": {
      "text/plain": [
       "(3, 4, 5, 6)"
      ]
     },
     "execution_count": 95,
     "metadata": {},
     "output_type": "execute_result"
    }
   ],
   "source": [
    "my_tuple[3:7]"
   ]
  },
  {
   "cell_type": "code",
   "execution_count": 97,
   "id": "23b76283-ea95-4b30-bf00-82ff1837558c",
   "metadata": {},
   "outputs": [
    {
     "data": {
      "text/plain": [
       "(1, 4, 7, 10)"
      ]
     },
     "execution_count": 97,
     "metadata": {},
     "output_type": "execute_result"
    }
   ],
   "source": [
    "my_tuple[1::3] # starts at the first element and goes in steps by 3"
   ]
  },
  {
   "cell_type": "markdown",
   "id": "7cf897dd-d4e3-4bf3-aa48-52c20056df20",
   "metadata": {},
   "source": [
    "# Mutability"
   ]
  },
  {
   "cell_type": "code",
   "execution_count": 101,
   "id": "93b778bc-3706-4b9c-b2c8-fd453d6a285b",
   "metadata": {},
   "outputs": [],
   "source": [
    "my_list = [0,1,2,3,4] #List can be changed = mutable - if I need to change my data, use lists\n",
    "my_tuple = (0,1,2,3,4) #Tuples are immutable, just like variable -> if I dont need to change data use that since it reduces errors\n",
    "\n",
    "my_list[1]=0 "
   ]
  },
  {
   "cell_type": "code",
   "execution_count": 102,
   "id": "754fab3f-8746-4d04-8e78-7b52f4336d91",
   "metadata": {},
   "outputs": [
    {
     "data": {
      "text/plain": [
       "[0, 0, 2, 3, 4]"
      ]
     },
     "execution_count": 102,
     "metadata": {},
     "output_type": "execute_result"
    }
   ],
   "source": [
    "my_list"
   ]
  },
  {
   "cell_type": "code",
   "execution_count": 104,
   "id": "7835987a-3eca-4d16-a8f1-5c0d818b6695",
   "metadata": {},
   "outputs": [
    {
     "data": {
      "text/plain": [
       "2222509539392"
      ]
     },
     "execution_count": 104,
     "metadata": {},
     "output_type": "execute_result"
    }
   ],
   "source": [
    "my_list = [0,1,2,3,4]\n",
    "id(my_list)"
   ]
  },
  {
   "cell_type": "code",
   "execution_count": 106,
   "id": "574f2ac8-2f2d-4c8f-b026-8be81009a085",
   "metadata": {},
   "outputs": [
    {
     "data": {
      "text/plain": [
       "2222509539392"
      ]
     },
     "execution_count": 106,
     "metadata": {},
     "output_type": "execute_result"
    }
   ],
   "source": [
    "my_list[2]=\"2\"\n",
    "id(my_list)"
   ]
  },
  {
   "cell_type": "code",
   "execution_count": 110,
   "id": "2daf3ab6-3f82-46e2-84ac-0ca82adc6e9a",
   "metadata": {},
   "outputs": [
    {
     "data": {
      "text/plain": [
       "[0, 1, 2, 'three']"
      ]
     },
     "execution_count": 110,
     "metadata": {},
     "output_type": "execute_result"
    }
   ],
   "source": [
    "my_tuple = (0,1,2,3)\n",
    "my_list = list(my_tuple) #if I need to change my tuple -> transform it to a list\n",
    "my_list[3] = \"three\"\n",
    "\n",
    "my_list"
   ]
  },
  {
   "cell_type": "code",
   "execution_count": 111,
   "id": "989986b6-080d-4e80-8154-df7b3a452732",
   "metadata": {},
   "outputs": [],
   "source": [
    "my_tuple = tuple(my_list)"
   ]
  },
  {
   "cell_type": "code",
   "execution_count": 112,
   "id": "59273bcf-b06c-46b3-8032-49f07d0f0534",
   "metadata": {},
   "outputs": [
    {
     "data": {
      "text/plain": [
       "(0, 1, 2, 'three')"
      ]
     },
     "execution_count": 112,
     "metadata": {},
     "output_type": "execute_result"
    }
   ],
   "source": [
    "my_tuple"
   ]
  },
  {
   "cell_type": "markdown",
   "id": "f2a02a16-c1ab-4e89-a3b9-76b8f757aee9",
   "metadata": {},
   "source": [
    "# Methods"
   ]
  },
  {
   "cell_type": "code",
   "execution_count": 114,
   "id": "2ebd1acf-9570-4628-8e1d-adb1ab9d5c65",
   "metadata": {},
   "outputs": [
    {
     "name": "stdout",
     "output_type": "stream",
     "text": [
      "[0, 1, 2, 3, 4, 5]\n"
     ]
    }
   ],
   "source": [
    "my_list = [0,1,2,3,4,5]\n",
    "my_list_copied = my_list\n",
    "print(my_list_copied)"
   ]
  },
  {
   "cell_type": "code",
   "execution_count": 115,
   "id": "7d18201c-2cb7-4cbf-a5fb-f39d29585ccb",
   "metadata": {},
   "outputs": [
    {
     "name": "stdout",
     "output_type": "stream",
     "text": [
      "[0, 1, 'two', 3, 4, 5]\n"
     ]
    }
   ],
   "source": [
    "my_list_copied[2]=\"two\"\n",
    "print(my_list_copied)"
   ]
  },
  {
   "cell_type": "code",
   "execution_count": 119,
   "id": "978066d6-5fdb-41b5-b875-51c06a1eb8b1",
   "metadata": {},
   "outputs": [],
   "source": [
    "my_list = [0,1,2,3,4,5]\n",
    "my_list_copy = my_list.copy() #I apply a function to a list, always add it to a variable "
   ]
  },
  {
   "cell_type": "code",
   "execution_count": 120,
   "id": "08acbc36-41f1-46a6-8a70-42dcc356bdca",
   "metadata": {},
   "outputs": [
    {
     "name": "stdout",
     "output_type": "stream",
     "text": [
      "[0, 1, 2, 3, 4, 5]\n"
     ]
    }
   ],
   "source": [
    "print(my_list_copy)"
   ]
  },
  {
   "cell_type": "code",
   "execution_count": 123,
   "id": "38e095ec-ef4f-499a-917b-81b274fd2b7c",
   "metadata": {},
   "outputs": [
    {
     "name": "stdout",
     "output_type": "stream",
     "text": [
      "[0, 'one', 2, 3, 4, 5]\n",
      "[0, 1, 2, 3, 4, 5]\n"
     ]
    }
   ],
   "source": [
    "my_list_copy[1]=\"one\"\n",
    "print(my_list_copy)\n",
    "print(my_list)"
   ]
  },
  {
   "cell_type": "markdown",
   "id": "e9eec131-458e-4e4a-afcf-e1d46dbef3fe",
   "metadata": {},
   "source": [
    "#Examples with methods. We first try the function `append´\n"
   ]
  },
  {
   "cell_type": "code",
   "execution_count": 124,
   "id": "0f051fe6-cb6c-45c7-b9c4-af60693ae1e4",
   "metadata": {},
   "outputs": [],
   "source": [
    "my_list = [0,1,2,3,4]"
   ]
  },
  {
   "cell_type": "code",
   "execution_count": 125,
   "id": "7e019c0b-7d90-4c6b-b0d3-d3d0245f9a61",
   "metadata": {},
   "outputs": [],
   "source": [
    "my_list.append(5)"
   ]
  },
  {
   "cell_type": "code",
   "execution_count": 126,
   "id": "a72f675d-044e-4328-a772-d36f00f92c06",
   "metadata": {},
   "outputs": [
    {
     "data": {
      "text/plain": [
       "[0, 1, 2, 3, 4, 5]"
      ]
     },
     "execution_count": 126,
     "metadata": {},
     "output_type": "execute_result"
    }
   ],
   "source": [
    "my_list"
   ]
  },
  {
   "cell_type": "code",
   "execution_count": 127,
   "id": "ade70df7-1d75-4ede-b98d-67686392b571",
   "metadata": {},
   "outputs": [
    {
     "data": {
      "text/plain": [
       "[]"
      ]
     },
     "execution_count": 127,
     "metadata": {},
     "output_type": "execute_result"
    }
   ],
   "source": [
    "my_list.clear() # it clears the content of the list but not the whole list\n",
    "my_list"
   ]
  },
  {
   "cell_type": "code",
   "execution_count": 130,
   "id": "017f82a1-5c5a-4d1d-903f-a06b62009881",
   "metadata": {},
   "outputs": [
    {
     "data": {
      "text/plain": [
       "[0, 1, 2, 4, 5, 6]"
      ]
     },
     "execution_count": 130,
     "metadata": {},
     "output_type": "execute_result"
    }
   ],
   "source": [
    "my_list = [1,2,3,4,5,6] #removes the digit that I put in the parentheses\n",
    "my_list.remove(3)\n",
    "my_list"
   ]
  },
  {
   "cell_type": "code",
   "execution_count": 131,
   "id": "2796afc8-552e-48a0-b322-6f3e60aa4c4c",
   "metadata": {},
   "outputs": [
    {
     "data": {
      "text/plain": [
       "[1, 2, 3, 5, 6]"
      ]
     },
     "execution_count": 131,
     "metadata": {},
     "output_type": "execute_result"
    }
   ],
   "source": [
    "my_list = [1,2,3,4,5,6] #removes the number that is on a certain position\n",
    "my_list.pop(3)\n",
    "my_list"
   ]
  },
  {
   "cell_type": "markdown",
   "id": "84745d6d-8931-4636-ac53-d5e071ef1888",
   "metadata": {},
   "source": [
    "# Conditionals"
   ]
  },
  {
   "cell_type": "code",
   "execution_count": null,
   "id": "20172c6d-8092-4212-99bb-aa6d40cbfe73",
   "metadata": {},
   "outputs": [],
   "source": []
  }
 ],
 "metadata": {
  "kernelspec": {
   "display_name": "Python 3 (ipykernel)",
   "language": "python",
   "name": "python3"
  },
  "language_info": {
   "codemirror_mode": {
    "name": "ipython",
    "version": 3
   },
   "file_extension": ".py",
   "mimetype": "text/x-python",
   "name": "python",
   "nbconvert_exporter": "python",
   "pygments_lexer": "ipython3",
   "version": "3.9.13"
  }
 },
 "nbformat": 4,
 "nbformat_minor": 5
}
