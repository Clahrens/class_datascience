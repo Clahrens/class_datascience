{
 "cells": [
  {
   "cell_type": "markdown",
   "id": "b2386e79-24ac-4c7a-a50f-8f3e635620d1",
   "metadata": {},
   "source": [
    "# Statistics and Data Science: Python Basics Exercises"
   ]
  },
  {
   "cell_type": "markdown",
   "id": "02f25f43-7918-4257-ae95-14051258788f",
   "metadata": {},
   "source": [
    "## Exercise 1: From strings to numbers\n",
    "\n",
    "- Create a variable `my_float` storing the `float` number of your choice.\n",
    "- Convert your `float` into a `string`, and store this `string` into a variable `my_str`\n",
    "- Convert back your `string` into a `float`, and store it into a variable `my_float_2`\n",
    "- Print `my_float`, `my_str`, and `my_float_2`, and the types of each variable."
   ]
  },
  {
   "cell_type": "code",
   "execution_count": 1,
   "id": "3831c987-11fd-4bb0-91e5-dde84ac56a47",
   "metadata": {},
   "outputs": [],
   "source": [
    "my_float = float(5)"
   ]
  },
  {
   "cell_type": "code",
   "execution_count": 2,
   "id": "26a85e97-6b00-4f59-aa61-2397ec44c3fe",
   "metadata": {},
   "outputs": [
    {
     "data": {
      "text/plain": [
       "5.0"
      ]
     },
     "execution_count": 2,
     "metadata": {},
     "output_type": "execute_result"
    }
   ],
   "source": [
    "my_float"
   ]
  },
  {
   "cell_type": "code",
   "execution_count": 3,
   "id": "e423b961-d13c-47f8-9ce6-adc2d5417476",
   "metadata": {},
   "outputs": [
    {
     "data": {
      "text/plain": [
       "float"
      ]
     },
     "execution_count": 3,
     "metadata": {},
     "output_type": "execute_result"
    }
   ],
   "source": [
    "type(my_float)"
   ]
  },
  {
   "cell_type": "code",
   "execution_count": null,
   "id": "d433b9fa-e718-4b30-8802-f3b1439bb2ea",
   "metadata": {},
   "outputs": [],
   "source": [
    "my_str = str(my_float)"
   ]
  },
  {
   "cell_type": "code",
   "execution_count": 5,
   "id": "d9f6a1b8-8259-4416-8bcc-78a1a99504b3",
   "metadata": {},
   "outputs": [
    {
     "data": {
      "text/plain": [
       "'5.0'"
      ]
     },
     "execution_count": 5,
     "metadata": {},
     "output_type": "execute_result"
    }
   ],
   "source": [
    "my_str"
   ]
  },
  {
   "cell_type": "code",
   "execution_count": 6,
   "id": "18f7fe18-6fe3-4677-831f-dd042dd1719b",
   "metadata": {},
   "outputs": [
    {
     "data": {
      "text/plain": [
       "str"
      ]
     },
     "execution_count": 6,
     "metadata": {},
     "output_type": "execute_result"
    }
   ],
   "source": [
    "type(my_str)"
   ]
  },
  {
   "cell_type": "code",
   "execution_count": 8,
   "id": "379eae4e-a1fe-47fe-b5df-c49c67b0f660",
   "metadata": {},
   "outputs": [],
   "source": [
    "my_float_2 = float(my_str)"
   ]
  },
  {
   "cell_type": "code",
   "execution_count": 9,
   "id": "862ce89b-2096-42c4-ba69-6665bd06c67f",
   "metadata": {},
   "outputs": [
    {
     "data": {
      "text/plain": [
       "5.0"
      ]
     },
     "execution_count": 9,
     "metadata": {},
     "output_type": "execute_result"
    }
   ],
   "source": [
    "my_float_2"
   ]
  },
  {
   "cell_type": "code",
   "execution_count": 10,
   "id": "a493d9fc-461d-478d-805b-21cf001533b4",
   "metadata": {},
   "outputs": [
    {
     "name": "stdout",
     "output_type": "stream",
     "text": [
      "5.0 5.0 5.0\n"
     ]
    }
   ],
   "source": [
    "print(my_float,my_str,my_float_2)"
   ]
  },
  {
   "cell_type": "code",
   "execution_count": 14,
   "id": "b2270c4f-9dd8-4d6c-9465-588881950bef",
   "metadata": {},
   "outputs": [
    {
     "name": "stdout",
     "output_type": "stream",
     "text": [
      "<class 'float'> <class 'str'> <class 'float'>\n"
     ]
    }
   ],
   "source": [
    "print (type(my_float),type(my_str),type(my_float_2))"
   ]
  },
  {
   "cell_type": "markdown",
   "id": "fb4f6003-3339-4849-9606-cb0aba509010",
   "metadata": {},
   "source": [
    "## Exercise 2: Combining strings and numbers\n",
    "\n",
    "- Create a variable `last_name` with your last name and a variable `first_name` with your first name. \n",
    "- Create a variable `age` storing your age (as an integer).\n",
    "- Create a string variable `background` with your field of study during your bachelor, e.g., economics, environmental sciences, etc.\n",
    "- Print a string where you present yourself, using the variables you previously created. You should get something like: `'My name is Adam Smith. I am 199 years old. I studied moral philosophy'`"
   ]
  },
  {
   "cell_type": "markdown",
   "id": "8481984c-66b3-4718-bd0e-9ab2953111f2",
   "metadata": {},
   "source": [
    "## Variables"
   ]
  },
  {
   "cell_type": "code",
   "execution_count": 25,
   "id": "b3ba2f08-6950-425b-b958-68975b27d59e",
   "metadata": {
    "tags": []
   },
   "outputs": [],
   "source": [
    "last_name = \"Ahrens\"\n",
    "first_name = \"Charlotte\"\n",
    "age= 25\n",
    "background = \"Supply Chain Management\""
   ]
  },
  {
   "cell_type": "code",
   "execution_count": 39,
   "id": "a9d110a6-2726-4f5a-ab16-1135421ca653",
   "metadata": {},
   "outputs": [
    {
     "name": "stdout",
     "output_type": "stream",
     "text": [
      "My name is Charlotte Ahrens. I am 25 years old. I studied Supply Chain Management.\n"
     ]
    }
   ],
   "source": [
    "print (\"My name is %s %s. I am %d years old. I studied %s.\" % (first_name,last_name,age,background))"
   ]
  },
  {
   "cell_type": "code",
   "execution_count": null,
   "id": "75cae3e8-9ce2-4833-bb8a-38a5dd262e13",
   "metadata": {},
   "outputs": [],
   "source": []
  },
  {
   "cell_type": "markdown",
   "id": "7ea52912-3086-47b1-89d1-2eaae2066e0f",
   "metadata": {},
   "source": [
    "## Exercice 3: Modular exponentiation\n",
    "\n",
    "[Modular exponentiation](https://en.wikipedia.org/wiki/Modular_exponentiation) is exponentiation performed over a modulus. It is useful in computer science, for example in cryptography algorithms such as [Diffie-Hellman Key Exchange](https://en.wikipedia.org/wiki/Diffie%E2%80%93Hellman_key_exchange) and [RSA public/private keys](https://en.wikipedia.org/wiki/RSA_(cryptosystem)).\n",
    "\n",
    "Let's take an example: $7^{2} \\; mod \\; 9 = 49 \\; mod \\; 9 = 4$ because $49 = 9*5 + 4$\n",
    "\n",
    "- Compute $5^{13} \\; mod \\; 13$ and $10^{13} \\; mod \\; 13$. What do you observe?\n",
    "- Compute $4^{6} \\; mod \\; 7$ and $15^{6} \\; mod \\; 7$. What do you observe?\n",
    "\n",
    "If you wish to understand the general case, check [Fermat's little theorem](https://en.wikipedia.org/wiki/Fermat%27s_little_theorem)"
   ]
  },
  {
   "cell_type": "code",
   "execution_count": 48,
   "id": "eadde119-8ac3-48d6-966c-fa506b16d7c3",
   "metadata": {},
   "outputs": [
    {
     "name": "stdout",
     "output_type": "stream",
     "text": [
      "5\n"
     ]
    }
   ],
   "source": [
    "print(5**13%13)\n",
    "print (10**13%13) #used to secure cryptography"
   ]
  },
  {
   "cell_type": "code",
   "execution_count": 43,
   "id": "0d9cf084-c2b6-479a-88d2-52eb05557e63",
   "metadata": {},
   "outputs": [
    {
     "data": {
      "text/plain": [
       "10"
      ]
     },
     "execution_count": 43,
     "metadata": {},
     "output_type": "execute_result"
    }
   ],
   "source": [
    "10**13%13"
   ]
  },
  {
   "cell_type": "markdown",
   "id": "bb9a094f-1cfa-449b-b959-ca3cb3c96372",
   "metadata": {},
   "source": [
    "The remainer is always the amount of the base. \n",
    "\n"
   ]
  },
  {
   "cell_type": "code",
   "execution_count": 50,
   "id": "3076fb15-cbe1-4725-8cdf-103cb0d83ee0",
   "metadata": {},
   "outputs": [
    {
     "data": {
      "text/plain": [
       "1"
      ]
     },
     "execution_count": 50,
     "metadata": {},
     "output_type": "execute_result"
    }
   ],
   "source": [
    "4**6%7\n",
    "15**6%7    #a **(p-1)mod p =1"
   ]
  },
  {
   "cell_type": "code",
   "execution_count": 45,
   "id": "01a99d4a-050b-4f92-a8e0-41138cd035df",
   "metadata": {},
   "outputs": [
    {
     "data": {
      "text/plain": [
       "6"
      ]
     },
     "execution_count": 45,
     "metadata": {},
     "output_type": "execute_result"
    }
   ],
   "source": []
  },
  {
   "cell_type": "markdown",
   "id": "77d74af3-be0b-468d-8b78-b5e9daa6ea90",
   "metadata": {},
   "source": [
    "## Exercise 4: Pro-environmental behaviors and environmental knowledge\n",
    "\n",
    "We have seen during the class that moral individuals cooperate in a social dilemma (e.g., perform a pro-environmental action) when their social benefit weighted by their degree of morality is greater than their individual cost of acting weighted by their degree of selfishness.\n",
    "\n",
    "However, there was a key assumption behind this result: we assumed that individuals had a perfect knowledge of environmental issues, of the cost of pollution, and thus of the benefits of not polluting. Obviously, in reality, many individuals are poorly informed about environmental issues. Actually, even informed individuals do not have a full understanding of the impacts of pollution. Think about climate change: the impacts are future, there are lots of uncertainties for example regarding catastrophic events (flood, drought), and many impacts are still unknown or not measured, for instance biodiversity loss.\n",
    "\n",
    "We can update our condition for cooperation based on the (environmental) knowledge of individual. Let's call $\\Omega \\in [0,1]$ the knowledge level, $\\kappa$ the degree of morality, $SB$ the social benefit, and $IC$ the individual cost of acting. An individual will cooperate if and only if:\n",
    "\n",
    "$\\kappa * \\Omega * SB \\geq (1-\\kappa) * IC$\n",
    "\n",
    "- Consider two individuals, Jordane and Florence, involved in a social dilemma where $IC=1$, $SB=3$. They both have the same degree of morality $\\kappa = 0.3$. However, Florence's environmental-knowledge level is $\\Omega_{F}=0.9$ and Jordane's environmental-knowledge level is $\\Omega_{J}=0.7$. Write a `if` statement that prints who is performing an environmental-friendly action. The output should be: `'Florence and Jordane perform an environmental-friendly action'`, `'Only Florence performs an environmental-friendly action'`, `'Only Jordane performs an environmental-friendly action'`, and `'Neither Florence nor Jordane perform an environmental-friendly action'`.  "
   ]
  },
  {
   "cell_type": "code",
   "execution_count": 75,
   "id": "46765d50-d29c-402b-a8a5-a4691327d121",
   "metadata": {},
   "outputs": [],
   "source": [
    "cost= 1\n",
    "kappa = 0.3\n",
    "omega_F = 0.7\n",
    "omega_J = 0.8\n",
    "social_benefit = 3"
   ]
  },
  {
   "cell_type": "code",
   "execution_count": 76,
   "id": "a3460017-4164-45f4-8fb1-0242510caac8",
   "metadata": {},
   "outputs": [
    {
     "name": "stdout",
     "output_type": "stream",
     "text": [
      "Only Jordan performs an environmental-friendly action\n"
     ]
    }
   ],
   "source": [
    "if kappa*omega_F*3>= (1-kappa)*cost and kappa*omega_J*3>= (1-kappa)*cost:\n",
    "    print (\"Florence and Jordan perform an environmental-firendly action\")\n",
    "elif kappa*omega_F*3>= (1-kappa)*cost and kappa*omega_J*3< (1-kappa)*cost:\n",
    "    print (\"Only Florence performs an environmental-friendly action\")\n",
    "elif kappa*omega_J*3>= (1-kappa)*cost and kappa*omega_F*3< (1-kappa)*cost:\n",
    "    print(\"Only Jordan performs an environmental-friendly action\")\n",
    "else:\n",
    "    print(\"Neither Florence nor Jordane perform an environmental-friendly action\")\n"
   ]
  },
  {
   "cell_type": "markdown",
   "id": "95c7aa4d-9cb4-407d-bdd1-d2c512279cbf",
   "metadata": {},
   "source": [
    "## Exercise 5: Pro-environmental behaviors and financial incentives\n",
    "\n",
    "Exercise 4 illustrated that the level of environmental knowledge plays a key role in individuals' decision-making. What can policy-makers do to promote pro-environmental behaviors? One option is to rely on financial instruments, such as fines, taxes, and subsidies. For example, in many countries, there exists subsidies to enhance energy efficiency in buildings (e.g., insulation, efficient boilers and electric appliances), renewable energy installation (e.g., photovoltaic, solar thermal, heat pump), and clean transport (e.g., electric and hybrid cars).\n",
    "\n",
    "We can update our condition for cooperation when we introduce a subsidy. Let's call $\\tau$ the subsidy, $\\Omega \\in [0,1]$ the knowledge level, $\\kappa$ the degree of morality, $SB$ the social benefit, and $IC$ the individual cost of acting. An individual will cooperate if and only if:\n",
    "\n",
    "$\\kappa * \\Omega * (SB+\\tau) \\geq (1-\\kappa) * (IC-\\tau)$\n",
    "\n",
    "- Consider the same social dilemma as before ($IC=1$, $SB=3$). Charles is an individual with degree of morality $\\kappa = 0.3$ and environmental-knowledge $\\Omega=0.5$. You are a policy-maker. Your objective is that Charles performs an pro-environmental action, but you hesitate between different level of subsidies $\\tau = (0, 0.25, 0.5, 0.75, 1)$. Write a `for` loop that prints whether of not each subsidy level is sufficient to trigger cooperation. For example, for a level of subsidy of 0.5, the output should either be `'A level of subsidy of 0.5 is not sufficient to promote pro-environmental action'` or `'A level of subsidy of 0.5 is sufficient to promote pro-environmental action'`. "
   ]
  },
  {
   "cell_type": "code",
   "execution_count": 52,
   "id": "2e01c500-f9bd-4423-b4f1-b772b9fe920a",
   "metadata": {},
   "outputs": [],
   "source": [
    "cost= 1\n",
    "kappa = 0.3\n",
    "omega = 0.5\n",
    "social_benefit = 3\n",
    "subsidies= [0,0.25,0.5,0.75,1]"
   ]
  },
  {
   "cell_type": "code",
   "execution_count": 77,
   "id": "9e35d484-b9d5-4399-a59f-c53760425b66",
   "metadata": {},
   "outputs": [
    {
     "name": "stdout",
     "output_type": "stream",
     "text": [
      "A level of subsidy of 0 is not sufficient to promote pro-environmental action.\n",
      "A level of subsidy of 0.25 is not sufficient to promote pro-environmental action.\n",
      "A level of subsidy of 0.5 is sufficient to promote pro-environmental action.\n",
      "A level of subsidy of 0.75 is sufficient to promote pro-environmental action.\n",
      "A level of subsidy of 1 is sufficient to promote pro-environmental action.\n"
     ]
    }
   ],
   "source": [
    "for i, sub in enumerate (subsidies): #for i in subsidies\n",
    "    if kappa*omega*(social_benefit + sub) >= (1-kappa) * (cost-sub):\n",
    "        print (\"A level of subsidy of %s is sufficient to promote pro-environmental action.\" %sub)\n",
    "    else:\n",
    "        print (\"A level of subsidy of %s is not sufficient to promote pro-environmental action.\" %sub)\n",
    "        \n"
   ]
  },
  {
   "cell_type": "markdown",
   "id": "564fc588-0afb-4175-9699-91e478ff29a2",
   "metadata": {},
   "source": [
    "## Exercise 6: Crowding out moral motives\n",
    "\n",
    "Exercise 5 illustrated how financial incentives can be effective in promoting cooperation. But (there is always a but), we made a crucial assumption to obtain our result. Can you guess what is this key assumption?\n",
    "\n",
    "We assumed that when we introduced a financial incentive, everything else remained the same. More precisely, we assumed that the implementation of financial incentives would not affect individuals' morality. In reality, many empirical studies show that the introduction of financial incentives can crowd out moral motives. One of the most famous study is from Gneezy and Rustichini (2000). In a field-study in day-care centers, they have shown that the introduction of a fine for parents arriving late to collect their children significantly increased the number of late-coming parents. Even worse, the effect was not reversible: after the fine was removed, no reduction occurred. Similar effects have been observed for environmental policy, suggesting that putting a price on Nature can lead individuals to leave the \"moral sphere\" towards the \"economic sphere\". In our model, this implies a decrease of the degree of morality. \n",
    "\n",
    "- Consider the same social dilemma as before ($IC=1$, $SB=3$), and our individual Charles with environmental-knowledge $\\Omega=0.5$. However, because we introduced a financial incentives, the degree of morality of Charles is now $\\kappa = 0.2$. Find the lowest subsidy $\\tau$ that would make Charles cooperate. \n",
    "\n",
    "Note: the condition for cooperation is still the same: \n",
    "$\\kappa * \\Omega * (SB+\\tau) \\geq (1-\\kappa) * (IC-\\tau)$"
   ]
  },
  {
   "cell_type": "code",
   "execution_count": 91,
   "id": "2870ac4e-1cd0-4e91-b5cb-2eb3d8bcc3c8",
   "metadata": {},
   "outputs": [
    {
     "name": "stdout",
     "output_type": "stream",
     "text": [
      "0.56\n"
     ]
    }
   ],
   "source": [
    "cost=1\n",
    "social_benefit=3\n",
    "omega=0.5 #environmental knowledge\n",
    "kappa=0.2  #degree of morality\n",
    "subsidy=0\n",
    "\n",
    "while kappa*omega*(3+subsidy)< (1-kappa)*(cost-subsidy):\n",
    "    subsidy+=0.01\n",
    "\n",
    "print (round(subsidy,3)) #round my funtion 'round(k,#)'"
   ]
  },
  {
   "cell_type": "markdown",
   "id": "0358a1b3-48b4-43ee-96ff-3f272b36a791",
   "metadata": {},
   "source": [
    "## Exercise 7: Threshold degree of morality\n",
    "\n",
    "Let's take a step back and look at our initial condition for cooperation, with perfect environmental knowledge and no financial incentives:\n",
    "\n",
    "$\\kappa * SB \\geq (1-\\kappa) * IC$\n",
    "\n",
    "It is possible to find analytically the minimum degree of morality allowing for cooperation. This threshold degree of morality is:\n",
    "\n",
    "$\\kappa_0 = \\frac{IC}{IC+SB}$\n",
    "\n",
    "- Define a function `'threshold_morality()'` taking as arguments the individual cost and social benefit and returning the threshold degree of morality.\n",
    "- Find the threshold degree of morality when ($IC=1$, $SB=4$), ($IC=2$, $SB=4$), and ($IC=3$, $SB=5$).Tips: instead of calling three times your function with different arguments, you could create two tuples, one with individual costs, the other with social benefits, and iterate over your two tuples using the function `zip()`."
   ]
  },
  {
   "cell_type": "code",
   "execution_count": 102,
   "id": "70dad6f8-41df-4690-8e67-d743d344bc80",
   "metadata": {},
   "outputs": [
    {
     "name": "stdout",
     "output_type": "stream",
     "text": [
      "0.2\n",
      "0.3333333333333333\n",
      "0.375\n"
     ]
    }
   ],
   "source": [
    "def threshold_morality(IC,SB):  #first define the fucntion, don't refer to the arguments uring my calcualtions\n",
    "    return (IC/(IC+SB))\n",
    "\n",
    "\n",
    "ic= (1,2,3) #individual cost \n",
    "sb= (4,4,5)  #social_benefit\n",
    "\n",
    "for c,s in zip(ic,sb):\n",
    "    print (threshold_morality(c,s))\n"
   ]
  },
  {
   "cell_type": "code",
   "execution_count": null,
   "id": "609ba1ce-a8f1-4a23-a6e8-cb84382a0b11",
   "metadata": {},
   "outputs": [],
   "source": []
  }
 ],
 "metadata": {
  "kernelspec": {
   "display_name": "Python 3 (ipykernel)",
   "language": "python",
   "name": "python3"
  },
  "language_info": {
   "codemirror_mode": {
    "name": "ipython",
    "version": 3
   },
   "file_extension": ".py",
   "mimetype": "text/x-python",
   "name": "python",
   "nbconvert_exporter": "python",
   "pygments_lexer": "ipython3",
   "version": "3.9.13"
  }
 },
 "nbformat": 4,
 "nbformat_minor": 5
}
