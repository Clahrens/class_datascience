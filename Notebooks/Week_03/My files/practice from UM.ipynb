{
 "cells": [
  {
   "cell_type": "code",
   "execution_count": 2,
   "id": "e3d26145-573f-4380-a8fa-87eff8e78a59",
   "metadata": {},
   "outputs": [
    {
     "name": "stdin",
     "output_type": "stream",
     "text": [
      "Enter file name:  words.txt\n"
     ]
    },
    {
     "name": "stdout",
     "output_type": "stream",
     "text": [
      "writing programs or programming is a very creative\n",
      "and rewarding activity  you can write programs for\n",
      "many reasons ranging from making your living to solving\n",
      "a difficult data analysis problem to having fun to helping\n",
      "someone else solve a problem  this book assumes that\n",
      "{\\em everyone} needs to know how to program and that once\n",
      "you know how to program, you will figure out what you want\n",
      "to do with your newfound skills\n",
      "\n",
      "we are surrounded in our daily lives with computers ranging\n",
      "from laptops to cell phones  we can think of these computers\n",
      "as our personal assistants who can take care of many things\n",
      "on our behalf  the hardware in our current-day computers\n",
      "is essentially built to continuously ask us the question\n",
      "what would you like me to do next\n",
      "\n",
      "our computers are fast and have vasts amounts of memory and\n",
      "could be very helpful to us if we only knew the language to\n",
      "speak to explain to the computer what we would like it to\n",
      "do next if we knew this language we could tell the\n",
      "computer to do tasks on our behalf that were reptitive\n",
      "interestingly, the kinds of things computers can do best\n",
      "are often the kinds of things that we humans find boring\n",
      "and mind-numbing\n"
     ]
    }
   ],
   "source": [
    "fname = input(\"Enter file name: \")\n",
    "fh = open(fname)\n",
    "for line in fh: \n",
    "    line=line.rstrip()\n",
    "    line=line.lower()\n",
    "    print(line)\n"
   ]
  },
  {
   "cell_type": "code",
   "execution_count": 31,
   "id": "3aa2bb35-192e-4755-92b6-6d83fe78dbc9",
   "metadata": {},
   "outputs": [
    {
     "name": "stdin",
     "output_type": "stream",
     "text": [
      "Enter the file name: romeo.txt\n"
     ]
    },
    {
     "name": "stdout",
     "output_type": "stream",
     "text": [
      "['already', 'and', 'arise', 'breaks', 'but', 'east', 'envious', 'fair', 'grief', 'is', 'it', 'juliet', 'kill', 'light', 'moon', 'pale', 'sick', 'soft', 'sun', 'the', 'through', 'what', 'who', 'window', 'with', 'yonder']\n"
     ]
    }
   ],
   "source": [
    "fname= input(\"Enter the file name:\")\n",
    "try: \n",
    "    fhandle=open(fname)\n",
    "except: \n",
    "    quit()\n",
    "list_new=[]\n",
    "for line in fhandle: \n",
    "    line=line.lower() #for loops create a string to read through the text - > can manipualte them as strings\n",
    "    sentence=line.rstrip().split() #with split function I create a list -> cant use string tools anymore\n",
    "    for i in sentence: \n",
    "        if i not in list_new: \n",
    "            list_new.append(i)\n",
    "            list_new.sort()\n",
    "            \n",
    "print (list_new)\n",
    "  #  if words not in list_new:\n",
    "   #      list_new.append(words)\n",
    "    #else:\n",
    "     #   continue (words+1)\n",
    "    #print (words)\n",
    "#print(list_new)"
   ]
  },
  {
   "cell_type": "code",
   "execution_count": 43,
   "id": "99d16bd6-9ff3-4c86-902c-5d7d8cd9235a",
   "metadata": {},
   "outputs": [
    {
     "name": "stdin",
     "output_type": "stream",
     "text": [
      "Enter an mbox file name: mbox-short.txt\n"
     ]
    },
    {
     "name": "stdout",
     "output_type": "stream",
     "text": [
      "1 stephen.marquard@uct.ac.za\n",
      "2 louis@media.berkeley.edu\n",
      "3 zqian@umich.edu\n",
      "4 rjlowe@iupui.edu\n",
      "5 zqian@umich.edu\n",
      "6 rjlowe@iupui.edu\n",
      "7 cwen@iupui.edu\n",
      "8 cwen@iupui.edu\n",
      "9 gsilver@umich.edu\n",
      "10 gsilver@umich.edu\n",
      "11 zqian@umich.edu\n",
      "12 gsilver@umich.edu\n",
      "13 wagnermr@iupui.edu\n",
      "14 zqian@umich.edu\n",
      "15 antranig@caret.cam.ac.uk\n",
      "16 gopal.ramasammycook@gmail.com\n",
      "17 david.horwitz@uct.ac.za\n",
      "18 david.horwitz@uct.ac.za\n",
      "19 david.horwitz@uct.ac.za\n",
      "20 david.horwitz@uct.ac.za\n",
      "21 stephen.marquard@uct.ac.za\n",
      "22 louis@media.berkeley.edu\n",
      "23 louis@media.berkeley.edu\n",
      "24 ray@media.berkeley.edu\n",
      "25 cwen@iupui.edu\n",
      "26 cwen@iupui.edu\n",
      "27 cwen@iupui.edu\n"
     ]
    }
   ],
   "source": [
    "fname=input(\"Enter an mbox file name:\")\n",
    "try: \n",
    "    fhandle=open(fname)\n",
    "except: \n",
    "    print (\"please open a valid file\")\n",
    "count=0\n",
    "for line in fhandle:\n",
    "    line=line.rstrip()\n",
    "  #  print (line)\n",
    "    if line.startswith(\"From \"):\n",
    "        words=line.split()\n",
    "        count=count+1\n",
    "        print (count,words[1])\n",
    "    else: \n",
    "        continue\n",
    "\n",
    "    "
   ]
  },
  {
   "cell_type": "code",
   "execution_count": null,
   "id": "504b0452-b4c6-4cd2-918c-7648fc74bc57",
   "metadata": {},
   "outputs": [],
   "source": [
    "count"
   ]
  }
 ],
 "metadata": {
  "kernelspec": {
   "display_name": "Python 3 (ipykernel)",
   "language": "python",
   "name": "python3"
  },
  "language_info": {
   "codemirror_mode": {
    "name": "ipython",
    "version": 3
   },
   "file_extension": ".py",
   "mimetype": "text/x-python",
   "name": "python",
   "nbconvert_exporter": "python",
   "pygments_lexer": "ipython3",
   "version": "3.9.13"
  }
 },
 "nbformat": 4,
 "nbformat_minor": 5
}
