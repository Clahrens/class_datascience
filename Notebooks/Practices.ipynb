{
 "cells": [
  {
   "cell_type": "markdown",
   "metadata": {},
   "source": [
    "Workbook 3 Summary\n",
    "1.Dictionaries\n",
    "2.Functions with *args and **kargs"
   ]
  },
  {
   "cell_type": "code",
   "execution_count": null,
   "metadata": {},
   "outputs": [],
   "source": [
    "my_dic={}\n",
    "my_dic[\"swim\"]=1\n",
    "my_dic[\"bike\"]=2\n",
    "my_dic[\"run\"]=3\n",
    "print(my_dic.keys())\n",
    "print(my_dic.values())\n",
    "for i,j in my_dic.items():# always 2 variables in dic to loop through\n",
    "    print(my_dic[i]) # two ways to print my key and value\n",
    "    print(j)\n",
    "for i,j in enumerate (my_dic): # enumerate - to open up the dic\n",
    "    print(i)\n",
    "    print(j)\n",
    "\n",
    "tri={}\n",
    "sports=[\"swim\",\"bike\",\"swim\",\"run\",\"drink\"] # if I have the same keys ithe previous one is overwritten -> can have the same values but not the same keys\n",
    "counter=1\n",
    "for i in sports: \n",
    "#    if i in tri: \n",
    "#        continue\n",
    "#    else: \n",
    "    tri[i]= [counter,counter,counter] # create a tuple in my dict with () and a list with []\n",
    "    counter+=1\n",
    "    print(i)\n",
    "print(tri.keys())\n",
    "print(tri.values())"
   ]
  },
  {
   "cell_type": "markdown",
   "metadata": {},
   "source": [
    "|Method|Description|\n",
    "|:-------|:----------|\n",
    "|`d.clear()` | Removes all the elements from dictionary `d`|\n",
    "|`d.copy()` | Returns a copy of `d` names2=names.copy() |\n",
    "|`d.fromkeys(keys, value)` | Returns a dictionary with the specified keys and value (optional)|\n",
    "|`d.get(key, default = None)` | Returns the value associated with `key`. The second argument specifies what should be returned if the key is absent|\n",
    "|`d.items()` | Returns a list containing a tuple for each key value pair|\n",
    "|`d.keys()` | Returns a list containing the dictionary's keys|\n",
    "|`d.pop(key)` | Removes the element with the specified `key`|\n",
    "|`d.popitem()` | Removes the last inserted key-value pair|\n",
    "|`d.setdefault(key, value)` | Returns the value of the specified `key`. If the key does not exist: insert the key, with the specified `value` (optional)|\n",
    "|`d.update({key: value})` | Updates `d` with the specified key-value pairs|\n",
    "|`d.values()` | Returns a list of all the values in `d`|\n",
    "\n",
    "In addition, you can apply built-in functions to dictionaries such as:\n",
    "\n",
    "|Function|Description|\n",
    "|:-------|:----------|\n",
    "|`len(d)` | Gives the number of entries of the dictionary `d`|\n",
    "|`list(d)` | Extract a list of the keys of `d`|\n",
    "|`del d[key]` | Deletes entry `key` from `d`|"
   ]
  },
  {
   "cell_type": "code",
   "execution_count": null,
   "metadata": {},
   "outputs": [],
   "source": [
    "#Merging dictionaries "
   ]
  }
 ],
 "metadata": {
  "kernelspec": {
   "display_name": "Python 3.10.7 64-bit",
   "language": "python",
   "name": "python3"
  },
  "language_info": {
   "codemirror_mode": {
    "name": "ipython",
    "version": 3
   },
   "file_extension": ".py",
   "mimetype": "text/x-python",
   "name": "python",
   "nbconvert_exporter": "python",
   "pygments_lexer": "ipython3",
   "version": "3.10.7"
  },
  "orig_nbformat": 4,
  "vscode": {
   "interpreter": {
    "hash": "369f2c481f4da34e4445cda3fffd2e751bd1c4d706f27375911949ba6bb62e1c"
   }
  }
 },
 "nbformat": 4,
 "nbformat_minor": 2
}
