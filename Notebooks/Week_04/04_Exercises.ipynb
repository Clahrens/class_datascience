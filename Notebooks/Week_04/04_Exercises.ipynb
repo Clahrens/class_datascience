{
 "cells": [
  {
   "cell_type": "markdown",
   "id": "b2386e79-24ac-4c7a-a50f-8f3e635620d1",
   "metadata": {},
   "source": [
    "# Statistics and Data Science: Exercises library"
   ]
  },
  {
   "cell_type": "markdown",
   "id": "681673a3-968e-4250-8943-41a65aaf6fc6",
   "metadata": {},
   "source": [
    "## Data normalization with Euclidean norm\n",
    "\n",
    "A very common operation is to transform you data by normalization. Imagine you have a list of data points $x=$`[21.4,45.7,38.5,76.4,61.9,43.4,52.6,27.2]` and you want to normalize your data using the [Euclidean norm](https://en.wikipedia.org/wiki/Norm_(mathematics)#Euclidean_norm), i.e., convert the data between 0 and 1 with the following operation:\n",
    "\n",
    "$\\hat{x}_{i} = \\frac{x_{i}}{||x||}$\n",
    "\n",
    "where: $||x||=\\sqrt{x_1^2+...+x_n^2}$\n",
    "\n",
    "Normalization is common (necessary) when you deal with several variables that have very different scales.\n",
    "\n",
    "- Using list comprehension, create a new list with normalized $x$ using the Euclidean norm. "
   ]
  },
  {
   "cell_type": "code",
   "execution_count": null,
   "id": "409299c9-1610-4ead-b5b7-610ac7185cab",
   "metadata": {},
   "outputs": [],
   "source": [
    "raw_data=[21.4,45.7,38.5,76.4,61.9,43.4,52.6,27.2]\n",
    "summ_squ= sum(i**2 for i in raw_data)\n",
    "absolute= summ_squ**(1/2)\n",
    "Euclidean_norm= [x/absolute for x in raw_data]\n",
    "\n",
    "print(Euclidean_norm)\n",
    "\n",
    "\n",
    "\"\"\" pretty solution\n",
    "# We first compute the square of each element using comprehension\n",
    "x_square = [i**2 for i in x]\n",
    "\n",
    "# Then we compute the Euclidean norm\n",
    "x_norm = (sum(x_square))**(1/2)\n",
    "\n",
    "# Finally we normalize our list\n",
    "x_hat = [i/x_norm for i in x]\n",
    "\n",
    "print(x_hat)\n",
    "\"\"\""
   ]
  },
  {
   "cell_type": "markdown",
   "id": "b2f737f5-0558-4683-984f-f7607c1d2742",
   "metadata": {},
   "source": [
    "## Data cleaning with comprehension\n",
    "\n",
    "Suppose we have the following list: $x=$`[21.4, 'NaN', 45.7,38.5,76.4,61.9, 'NaN', 43.4,52.6,27.2]`. Unfortunately we have some `'NaN'` values (Not a Number).\n",
    "\n",
    "- Clean your list, dropping `'NaN'` values, using list comprehension"
   ]
  },
  {
   "cell_type": "code",
   "execution_count": null,
   "id": "37c8e867-b27f-4181-a48a-b43c6d1fd767",
   "metadata": {},
   "outputs": [],
   "source": [
    "liste=[21.4, 'NaN', 45.7,38.5,76.4,61.9, 'NaN', 43.4,52.6,27.2]\n",
    "for nu in liste:\n",
    "    if nu== \"NaN\":\n",
    "        liste.remove(nu)\n",
    "print(liste)\n",
    "\n",
    "#x_clean = [i for i in liste if i != 'NaN'] #!= select each value that DOES NOT have the value on teh right side\n",
    "#use dropna  #for each i in the list, if its unequal \"NaN, add i to the new list -> makes it much shorter\n",
    "#liste.dropna()\n"
   ]
  },
  {
   "cell_type": "markdown",
   "id": "1546723c-1373-4a6d-9501-350fab9c9c65",
   "metadata": {},
   "source": [
    "## Data manipulation using dictionary comprehension\n",
    "\n",
    "Comprehension is not only for list, dictionary too! Suppose you have the following dictionary, with the grades of some students on a 0-100 scale:\n",
    "\n",
    "`{'Adam': 72, 'Elena': 91, 'Xiang': 87, 'Julie': 81, 'Takafumi': 79}`\n",
    "\n",
    "- Use dictionary comprehension to convert the grade from the 0-100 scale to the Swiss 0-6 scale.\n",
    "- Use dictionary comprehension to round to the nearest 0.25 (for instance 4.2 should be converted to 4.25). \n",
    "\n",
    "Tips: you can use the `round()` function"
   ]
  },
  {
   "cell_type": "code",
   "execution_count": null,
   "id": "7abf70d8-6d01-4cdc-9b00-1e2cb2303b73",
   "metadata": {},
   "outputs": [],
   "source": [
    "pairs={'Adam': 72, 'Elena': 91, 'Xiang': 87, 'Julie': 81, 'Takafumi': 79}\n",
    "#new_pairs={}\n",
    "new_6={key: value/100*6 for key,value in pairs.items()} #->dic comprehension, I could do a for loop as well\n",
    "print(new_6) #-> how to get the worked on values back into the dictionary? -> add key beforehand\n",
    "\n",
    "round_6={key: round(value*4)/4 for key,value in new_6.items()}  #-> how do I know that it rounds to 2 decimals?\n",
    "print (round_6)\n",
    "#for key,value in pairs.items():\n",
    " #   new_pairs=value/100*6]\n",
    "  #  print(value)\n",
    "#for key,new_pairs in pairs.items():\n",
    " #   new=int(new_pairs)\n",
    "  #  round(new,0.25)\n",
    "    \n",
    "#newest_pairs=({round(new_pairs,0.25)} )   "
   ]
  },
  {
   "cell_type": "markdown",
   "id": "33090f54-2bba-4337-88b1-ec13d85252b4",
   "metadata": {},
   "source": [
    "## Green Bonds"
   ]
  },
  {
   "cell_type": "markdown",
   "id": "b3d9d8f4-be41-4f26-b9ee-bdcde7698ffa",
   "metadata": {},
   "source": [
    "You have a list of green bonds identifiers: \n",
    "`gb_ID = ['CH843556=S', 'CH843556=', 'CH868037=', 'CH6YT=RR', 'CH30YT=RR', 'CH975519=', 'CH1580323=', 'CH1580323=S', 'CH2452496=S']`\n",
    "\n",
    "- Create a new list with the elements of `gb_ID` but removing the `'='` sign and what follows. For instance 'CH843556=S' should be CH843556\n",
    "- Create a new list selecting the elements of `gb_ID` with nothing after the `'='` sign, i.e. we disregard elements such as 'CH843556=S' \n",
    "\n",
    "Hints: \n",
    "- You can use list comprehension inside another list comprehension.\n",
    "- For the second question, you could use Regular Expressions [RegEx](https://docs.python.org/3/library/re.html). See also this [tutorial](https://www.w3schools.com/python/python_regex.asp)"
   ]
  },
  {
   "cell_type": "code",
   "execution_count": null,
   "id": "d6f7b2f9-409a-4019-bb92-f0a61394907d",
   "metadata": {},
   "outputs": [],
   "source": [
    "import re\n",
    "gb_ID = ['CH843556=S', 'CH843556=', 'CH868037=', 'CH6YT=RR', 'CH30YT=RR', 'CH975519=', 'CH1580323=', 'CH1580323=S', 'CH2452496=S']\n",
    "clean_gb=[i.split(\"=\")[0] for i in gb_ID]\n",
    "cleaned_gb=[i for i in gb_ID if (re.findall(\"=$\",i))] #OR if i[-1]= \"=\"\n",
    "\n",
    "#clean_gb=[]\n",
    "#for i in gb_ID: \n",
    "#        if i == \"=\":\n",
    "#            clean_gb=i.split(\"=\")\n",
    "print(clean_gb)\n",
    "print(cleaned_gb)"
   ]
  },
  {
   "cell_type": "markdown",
   "id": "6eca1b60-fc80-4ad3-98f4-d0860db63e06",
   "metadata": {},
   "source": [
    "## Optimizing recursive function\n",
    "\n",
    "During the lecture, we have defined a function to calculate Fibonacci numbers: \n",
    "\n",
    "$F(0)=0$\n",
    "\n",
    "$F(1)=1$\n",
    "\n",
    "$F(n)=F(n-1)+F(n-2)$\n",
    "\n",
    "However, our function was not efficient since we needed to repeat operations. For example, to compute $F(5)$, we needed $F(4)$ and $F(3)$, but to know $F(4)$ we needed to compute $F(3)$ and $F(2)$, and so on. Since Fibonacci numbers were not stored in memory, the function calculated many identical subproblems over and over again.\n",
    "\n",
    "- Design a function that calculate Fibonacci numbers and solves the repetition issue.\n",
    "- Create a list of the first 12 Fibonacci numbers.\n",
    "\n",
    "Hint: you can use a dictionary"
   ]
  },
  {
   "cell_type": "code",
   "execution_count": null,
   "id": "fa47241c-2f9b-45c7-ac05-d3b78e323ef8",
   "metadata": {},
   "outputs": [],
   "source": [
    "fibonacci_numbers={0:0, 1:1}\n",
    "def Fibonacci(x):\n",
    "#    while x<12:\n",
    "        if x in fibonacci_numbers:\n",
    "            return fibonacci_numbers[x]\n",
    "        else:\n",
    "            fibonacci_numbers[x]= Fibonacci(x-1)+Fibonacci(x-2) \n",
    "            return fibonacci_numbers[x]\n",
    "print([Fibonacci(x) for x in range(12)])\n",
    "#-> what's the mistake here? "
   ]
  },
  {
   "cell_type": "markdown",
   "id": "3100ec0b-065c-4076-b493-0206243fb6a2",
   "metadata": {},
   "source": [
    "## Book information\n",
    "\n",
    "We have some information about two books:\n",
    "\n",
    "`(\n",
    "Title = 'Sapiens: A Brief History of Humankind', \n",
    "Author = 'Yuval Noah Harari',\n",
    "Year = 2011,\n",
    "Language = 'Hebrew',\n",
    "ISBN = '978-0062316097')`\n",
    "\n",
    "`(\n",
    "Title = 'Les Racines du ciel',\n",
    "Author = 'Romain Gary',\n",
    "Year = 1956,\n",
    "Publisher = 'Gallimard'\n",
    ")`\n",
    "\n",
    "As you can see, the information we have differs.\n",
    "\n",
    "- Write a function that prints for each key: 'The (key) is (value).'. The key should be in lower cases, except the ISBN number.\n",
    "- Call your function with our two books.\n",
    "\n",
    "For instance, the output for the second book should look like this:\n",
    "\n",
    "The title is Les Racines du ciel.\n",
    "The author is Romain Gary.\n",
    "The year is 1956.\n",
    "The publisher is Gallimard.\n",
    "\n",
    "Hint: Try to use arbitrary keyword argument `**kwarg` and the format string method"
   ]
  },
  {
   "cell_type": "code",
   "execution_count": null,
   "id": "97afc217-2b11-4bbb-840a-5f4c9577d193",
   "metadata": {},
   "outputs": [],
   "source": [
    "def text(**book):\n",
    "    for key,value in book.items():\n",
    "        if key == \"ISBN\":\n",
    "            print (\"The {} is.\".format(key,value))\n",
    "        else:\n",
    "            print (\"The {} is.\".format(key.lower,value))\n",
    "    else:\n",
    "        print (\"\")\n",
    "#    return text\n",
    "bookinfo_1= {Title = 'Sapiens: A Brief History of Humankind',\n",
    "          Author = 'Yuval Noah Harari', \n",
    "          Year = 2011, \n",
    "          Language = 'Hebrew', \n",
    "          ISBN = '978-0062316097')\n",
    "             \n",
    "bookinfo_2={Title = 'Les Racines du ciel',\n",
    "            Author = 'Romain Gary', \n",
    "            Year = 1956, \n",
    "            Publisher = 'Gallimard'}\n",
    "    "
   ]
  },
  {
   "cell_type": "code",
   "execution_count": null,
   "id": "f08541e3-6753-4bf3-862c-ed774bf3d559",
   "metadata": {},
   "outputs": [],
   "source": []
  },
  {
   "cell_type": "code",
   "execution_count": null,
   "id": "f58a4045-e1ce-4994-b274-aefb5539f2b6",
   "metadata": {},
   "outputs": [],
   "source": []
  }
 ],
 "metadata": {
  "kernelspec": {
   "display_name": "Python 3 (ipykernel)",
   "language": "python",
   "name": "python3"
  },
  "language_info": {
   "codemirror_mode": {
    "name": "ipython",
    "version": 3
   },
   "file_extension": ".py",
   "mimetype": "text/x-python",
   "name": "python",
   "nbconvert_exporter": "python",
   "pygments_lexer": "ipython3",
   "version": "3.9.13"
  }
 },
 "nbformat": 4,
 "nbformat_minor": 5
}
