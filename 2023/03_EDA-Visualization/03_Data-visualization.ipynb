{
 "cells": [
  {
   "cell_type": "markdown",
   "id": "c9db7c8f-402e-4e1c-8c1d-865ba5d1680b",
   "metadata": {},
   "source": [
    "<a href=\"https://colab.research.google.com/github/edoardochiarotti/class_datascience/blob/main/2023/03_EDA-Visualization/Resources/03_Data-visualization.ipynb\" target=\"_blank\" rel=\"noopener\"><img src=\"https://colab.research.google.com/assets/colab-badge.svg\" alt=\"Open In Colab\"/></a>"
   ]
  },
  {
   "cell_type": "markdown",
   "id": "9980e5b5-4dd8-44b4-9af3-8a72da9a4494",
   "metadata": {
    "tags": []
   },
   "source": [
    "# Statistics and Data Science: Exploratory Data Analysis and Data Visualization"
   ]
  },
  {
   "cell_type": "markdown",
   "id": "04bf30d7-06c0-4284-b735-3810197cafa4",
   "metadata": {},
   "source": [
    "<img src='https://imgs.xkcd.com/comics/convincing.png' width=\"650\">\n",
    "\n",
    "Source: [xkcd 833](https://xkcd.com/833/)"
   ]
  },
  {
   "cell_type": "markdown",
   "id": "2f61b21c-e1d1-485a-bb66-1b54a50bacfe",
   "metadata": {},
   "source": [
    "## Content\n",
    "\n",
    "- [What is Exploratory Data Analysis?](#What-is-Exploratory-Data-Analysis?)\n",
    "- [Descriptive statistics](#Descriptive-statistics)\n",
    "    - [Measures of Central Tendency](#Measures-of-Central-Tendency)\n",
    "    - [Measures of Spread](#Measures-of-Spread)\n",
    "    - [Measures of Shape](#Measures-of-Shape)\n",
    "    - [Measures of Dependence](#Measures-of-Dependence)\n",
    "- [Data Visualization](#Data-Visualization)\n",
    "    - [The power of visualization for EDA](#The-power-of-visualization-for-EDA)\n",
    "        - [The cholera map that changed the world](#The-cholera-map-that-changed-the-world)\n",
    "        - [Visualizing the survivorship bias](#Visualizing-the-survivorship-bias)\n",
    "    - [Which graph for what?](#Which-graph-for-what?)\n",
    "    - [Communication rules and tips](#Communication-rules-and-tips)\n",
    "        - [A bit more on colors...](#A-bit-more-on-colors...)\n",
    "    - [The Data Visualization landscape in Python](#The-Data-Visualization-landscape-in-Python)\n",
    "- [EDA Application: Global Preference Survey](#EDA-Application:-Global-Preference-Survey)\n",
    "    - [Setting up the scenes: data acquisition](#Setting-up-the-scenes:-data-acquisition)\n",
    "    - [Descriptive Statistics](#Descriptive-Statistics)\n",
    "    - [Box plot](#Box-plot)\n",
    "    - [Histogram](#Histogram)\n",
    "    - [Grouping](#Grouping)\n",
    "    - [Interactive box plot](#Interactive-box-plot)\n",
    "    - [Correlation](#Correlation)\n",
    "    - [Heat map](#Heat-map)\n",
    "    - [Scatter plot](#Scatter-plot)\n",
    "    - [Pair plot](#Pair-plot)\n",
    "    - [Map](#Map)\n",
    "    - [And much more...](#And-much-more...)\n",
    "- [Data Visualization Application: Green Domestic Product](#Data-Visualization-Application:-Green-Domestic-Product)\n",
    "    - [Data acquisition](#Data-acquisition)\n",
    "    - [Bar chart](#Bar-chart)\n",
    "    - [Line chart](#Line-chart)\n",
    "    - [Pie chart](#Pie-chart)\n",
    "    - [Area chart](#Area-chart)\n",
    "    - [GrDP Map](#GrDP-Map)\n",
    "    - [And so much more... Be creative!](#And-so-much-more...-Be-creative!)\n",
    "- [Computing environment](#Computing-environment)"
   ]
  },
  {
   "cell_type": "markdown",
   "id": "ba6cf11f-e177-4124-84bb-307fdb0abef1",
   "metadata": {},
   "source": [
    "## What is Exploratory Data Analysis?"
   ]
  },
  {
   "cell_type": "markdown",
   "id": "5fa7d0f6-fd4f-44f2-b9ce-a4833b1058b0",
   "metadata": {},
   "source": [
    "Exploratory Data Analysis (EDA) is the process of **performing initial investigations** on the data so as to discover patterns, to spot anomalies, to test hypothesis and to check assumptions with the help of summary statistics and graphical representations. As we previously discussed, a Data Science project is an iterative process, so it's quite common that data cleaning and EDA happen at the same time, as one helps the other. EDA was promoted by [John Tukey](https://en.wikipedia.org/wiki/John_Tukey) to encourage statisticians to explore the data, and possibly formulate hypotheses that could lead to new data collection and experiments. \n",
    "\n",
    "EDA consists of two main processes:\n",
    "- **Getting an overview of data** using summary numbers such as **descriptive statistics**,\n",
    "- **Visualizing** your variables and their relations.\n",
    "\n",
    "EDA allows to:\n",
    "- identify data quality issues: does something look wrong? If so, you need additional cleaning!\n",
    "- select your variables:\n",
    "     - is there redundancy between our explanatory variables? If so, we might not need all of them...\n",
    "     - do we observe some association between our dependent and independent variables? Causation implies association, so if you do not find some association, you might have an issue! By the way, you probably know that correlation does not imply causation. But can you have causation without correlation? Yes, you can! For example, you might have some non-linear relation between your variables. So causation implies association, but does not imply correlation! Read the article [Association, correlation and causation](https://www.nature.com/articles/nmeth.3587) by Naomi Altman & Martin Krzywinski to learn more!\n",
    "- select your sample: e.g., is your dataset balanced (e.g., same number of observations for each unit/country/year)? If not, you may need additional cleaning... or additional data\n",
    "- prepare your data: do you need to normalize the data? Or apply some logarithmic transformation? Or another technique?\n",
    "- choose the right statistical tools / ML algorithms: it depends, among other things, on the type of your data (continuous, categorical, binary, etc.).\n",
    "- get an idea of the underlying variation: How do variables varies over time? Over space? Can you spot anomalies or interesting shocks to exploit for a natural experience?\n",
    "- ... and much more!\n",
    "\n",
    "We will discover in this notebook some EDA techniques. You can also always use Quentin Gallea's [recipe to empirically answer any question rapidly](https://towardsdatascience.com/a-recipe-to-empirically-answer-any-question-quickly-22e48c867dd5)."
   ]
  },
  {
   "cell_type": "markdown",
   "id": "94d82d47-e2c6-4601-865d-3bd3e6835cd3",
   "metadata": {},
   "source": [
    "## Descriptive statistics"
   ]
  },
  {
   "cell_type": "markdown",
   "id": "dbc45661-f63c-4fba-9d5a-6ddbd486bb00",
   "metadata": {},
   "source": [
    "**Descriptive statistics** are very useful to get a first overview of our data. They allow to:\n",
    "- Describe the basic characteristics of the data at hand, often one variable at a time.\n",
    "- Summarizes the data such that meaningful and easily understandable patterns emerge\n",
    "\n",
    "However, descriptive statistics **do not allow** making conclusions or **inferences** beyond the sample of the data being analyzed.\n",
    "\n",
    "### Measures of Central Tendency\n",
    "\n",
    "Several statistics measure the central tendency and spread of our data:\n",
    "- Mode: most frequent value, i.e., that appears most often\n",
    "- Mean (\"average\"): sum of all values divided by number of observations $\\mu=\\frac{\\sum_{i=1}^n x_i}{n}$\n",
    "- Median: middle value of a sorted data set, i.e., value that divides our sample into two halves\n",
    "\n",
    "The mean is sensitive to extreme values and outliers, while the median is more resistant, as illustrated below. So which measure is the best? Well, **there is no best, but using only one is definitely worst**! Depending on your data, some measurements are more meaningful than others, but using them together is always better.\n",
    "\n",
    "<img src='https://miro.medium.com/v2/resize:fit:1400/format:webp/0*wHMvuwRa_YF9SFwY.png' width=\"600\">\n",
    "\n",
    "Image by Nhan Tran, [Mean, Median, and Mode in Statistics](https://medium.com/@nhan.tran/mean-median-an-mode-in-statistics-3359d3774b0b)"
   ]
  },
  {
   "cell_type": "markdown",
   "id": "49179272-bec5-447a-9770-755878a2db4b",
   "metadata": {},
   "source": [
    "### Measures of Spread\n",
    "\n"
   ]
  },
  {
   "cell_type": "markdown",
   "id": "a6d8c351-f51d-4a20-9f94-cda13d8cd9fa",
   "metadata": {},
   "source": [
    "Several measures return information on the dispersion of data:\n",
    "- Minimum: lowest value\n",
    "- Maximum: highest value\n",
    "- Range: (maximum - minimum)\n",
    "- Percentile: the p-percentile is the value so that p percent of the values are below it  \n",
    "- Quartiles: special case of percentiles, dividing our distribution into quarters: Q1 (25%), Q2 (50% - median), Q3 (75%)\n",
    "- Variance: Average of squared differences from mean $\\sigma^2=\\frac{\\sum_{i=1}^n (x_i - \\mu)^2}{n}$\n",
    "- Standard Deviation: Square root of variance $\\sigma=\\sqrt{\\frac{\\sum_{i=1}^n (x_i - \\mu)^2}{n}}$"
   ]
  },
  {
   "cell_type": "markdown",
   "id": "5a9d5371-082c-4739-9f6f-fc9333229f7e",
   "metadata": {},
   "source": [
    "### Measures of Shape\n",
    "\n",
    "\n",
    "- Skewness: measure of the asymmetry\n",
    "\n",
    "<div>\n",
    "<img src=\"https://upload.wikimedia.org/wikipedia/commons/thumb/f/f8/Negative_and_positive_skew_diagrams_%28English%29.svg/2560px-Negative_and_positive_skew_diagrams_%28English%29.svg.png\" width=\"450\"/>\n",
    "</div>\n",
    "\n",
    "Image by Rodolfo Hermans (Godot), Wikipedia [Skewness](https://en.wikipedia.org/wiki/Skewness)\n",
    "\n",
    "- Kurtosis: measure of the \"tailedness\"\n",
    "\n",
    "<div>\n",
    "<img src=\"https://i.ibb.co/854XVgd/Kurtosis.jpg\" width=\"400\"/>\n",
    "</div>"
   ]
  },
  {
   "cell_type": "markdown",
   "id": "95b43c3d-d86a-4358-b509-ae5dd8450241",
   "metadata": {},
   "source": [
    "### Measures of Dependence\n",
    "\n",
    "- Pearson correlation coefficient: $r_{xy}=\\frac{\\sum_{i=1}^n (x_i - \\mu_x)(y_i - \\mu_y)}{\\sqrt{\\sum_{i=1}^n (x_i - \\mu_x)^2}\\sqrt{\\sum_{i=1}^n (y_i - \\mu_y)^2}}$\n",
    "    - Measures the linear relationship between two paired sets of values\n",
    "    - Measures the direction (+ or -)\n",
    "    - Measures the strength (between 0 and 1)\n",
    "\n",
    "<div>\n",
    "<img src=\"https://upload.wikimedia.org/wikipedia/commons/thumb/d/d4/Correlation_examples2.svg/2560px-Correlation_examples2.svg.png\" width=\"700\"/>\n",
    "</div>\n",
    "\n",
    "Image by DenisBoigelot, [Wikipedia Pearson correlation coefficient](https://en.wikipedia.org/wiki/Pearson_correlation_coefficient)\n",
    "\n",
    "As seen on the above image, two variables can have zero/low (Pearson) correlation, but still be related. Linear correlation is a special type of relatedness measure, not the only one. There exist many other more sophisticated measures...  "
   ]
  },
  {
   "cell_type": "markdown",
   "id": "42749c90-9d7b-45f8-b24b-f2ff49095fd8",
   "metadata": {},
   "source": [
    "## Data Visualization\n"
   ]
  },
  {
   "cell_type": "markdown",
   "id": "c3b45510-40d3-406d-b3f3-41d45c2dba40",
   "metadata": {},
   "source": [
    "### The power of visualization for EDA\n",
    "\n",
    "Visualization helps identify patterns, clusters, and gaps in your data. It is good for spotting the unexpected. \n",
    "\n",
    "#### The cholera map that changed the world\n",
    "\n",
    "In the 19th century, there was frequent large-scale epidemics of cholera in European cities. The source of the disease was not known, or misunderstood. Actually, in the world of the 1850s, cholera was believed to be spread by [*miasma*](https://en.wikipedia.org/wiki/Miasma_theory), i.e., some kind of air pollution. Everything changed in 1954 with an English physician, [John Snow](https://en.wikipedia.org/wiki/John_Snow). He decided to map the cases of an epidemic in the Soho district of London. Soon, a culprit emerged: all the cases were clustered around the water pump in Broad street. John Snow's investigation demonstrated that contaminated water was the key source of the epidemics of cholera, and the removal of the handle led to cessation of the epidemic. His contribution - originating from a map - was key to promote better sanitation, and hence decrease public health issues due to waterborne diseases.\n",
    "\n",
    "Read the article [John Snow, Cholera, the Broad Street Pump; Waterborne Diseases Then and Now](https://www.ncbi.nlm.nih.gov/pmc/articles/PMC7150208/) by Theodore H. Tulchinsky to learn more!\n",
    "\n",
    "<div>\n",
    "<img src=\"https://blog.rtwilson.com/wp-content/uploads/2012/01/SnowMap_Points.png\" width=\"450\"/>\n",
    "</div>"
   ]
  },
  {
   "cell_type": "markdown",
   "id": "01bf8dc0-b1c2-4644-b300-9999d8938288",
   "metadata": {},
   "source": [
    "#### Visualizing the survivorship bias\n",
    "\n",
    "The [survivorship bias](https://en.wikipedia.org/wiki/Survivorship_bias), survival bias or immortal time bias is the logical error of concentrating on the people or things that made it past some selection process and overlooking those that did not, typically because of their lack of visibility. This can lead to incorrect conclusions regarding that which (or those who) didn't make it.\n",
    "\n",
    "Consider the image below, illustrating the hypothetical damage pattern on a returning plane during World War 2. Which parts of the plane would you reinforce?\n",
    "\n",
    "<div>\n",
    "<img src=\"https://upload.wikimedia.org/wikipedia/commons/thumb/b/b2/Survivorship-bias.svg/1920px-Survivorship-bias.svg.png\" width=\"400\"/>\n",
    "</div>\n",
    "\n",
    "Source: Wikipedia - [Survivorship bias](https://en.wikipedia.org/wiki/Survivorship_bias) Based on a not-illustrated report by Abraham Wald (1943), picture concept by Cameron Moll (2005, claimed on Twitter and credited by Mother Jones), new version by McGeddon based on a Lockheed PV-1 Ventura drawing (2016), vector file by Martin Grandjean (2021).\n",
    "\n",
    "If the aircraft was reinforced in the most commonly hit areas, this would be a result of survivorship bias. Indeed, the returning plane was still able to fly despite the bullet impacts (in red). However, fatally damaged planes are the ones that were presumably hit in the other locations!"
   ]
  },
  {
   "cell_type": "markdown",
   "id": "c123463f-44d5-4929-a1ab-6169e2da6fde",
   "metadata": {},
   "source": [
    "### Which graph for what?\n",
    "\n",
    "We have discussed above that data visualization is a powerful tool for Exploratory Data Analysis. Obviously, visualization is also incredibly powerful to communicate and disseminate your results. After all, a (good) graph speak thousands words! And people understand pictures better than read numbers.\n",
    "\n",
    "Although in both cases - EDA and dissemination - you are dealing with graphs, the process is much different:\n",
    "- For EDA, you are a detective trying to uncover the mysteries behind your data. Each clue is welcome! Hence, you should not hesitate to try things. And try again. Explore different combinations of variables. Explore subsets of your data. Plot many graphs without spending much time of the design (although your graph should still be understandable by you and your team). And repeat until you have a good understanding of your dataset, your variables, their evolution and patterns.\n",
    "- For dissemination, your goal is very different. Your are a lawyer trying to convince the jury - your audience - that your case is solid. Design and style matters. Concision matters. Each graph should be informative, easily understandable, and serve a clear purpose.\n",
    "\n",
    "In both cases, you should be creative. Still, some types of graphs are more suited to the task at hand. The \"best\" chart depends on what you want to show/explore, on the type of data, and of the features of your variables. You have a forest of options. The decision tree below, designed by the [Extreme Precision method](https://extremepresentation.com/), provides some suggestions to pinpoint which chart to use depending on your goal and on your data. It should not be understood as mandatory rules, rather helpful advice."
   ]
  },
  {
   "cell_type": "markdown",
   "id": "3db42647-ed7e-458a-bf6e-818dbf6816eb",
   "metadata": {},
   "source": [
    "<div>\n",
    "<img src=\"http://anonymity94.github.io/assets/img/Chart-Suggestion-A-Thought-Starter.abb20ab5.png\" width=\"1100\"/>\n",
    "</div>"
   ]
  },
  {
   "cell_type": "markdown",
   "id": "7b3aa2f4-948c-4f89-b214-e3c2b3be043d",
   "metadata": {},
   "source": [
    "### Communication rules and tips"
   ]
  },
  {
   "cell_type": "markdown",
   "id": "b91fc54c-6224-4240-801e-d3e0e8f2174f",
   "metadata": {},
   "source": [
    "Your figures should illustrate every main message and major contribution. But just because you understand your visualization does not mean others will! Here are 4 important rules of visualization:\n",
    "1. \"Keep It Simple\"!\n",
    "2. Design and choose the visualization well\n",
    "3. Know your audience and tell a story\n",
    "    - Who is your audience?\n",
    "        - What experiences do you share? What are common goals?\n",
    "    - What do they know?\n",
    "        - What information is most valuable to my audience?\n",
    "        - What role will my visuals play in this dialog?\n",
    "    - Why should they care?\n",
    "        - What motivates them? What will surprise them?\n",
    "    - Which message do you want to convey?\n",
    "        - What actions do I want to incite?\n",
    "4. Have graphical integrity\n",
    "    - Avoid truncating your axis\n",
    "    - Be careful of \"3D manipulation\"\n",
    "\n",
    "Also, here are a few tips to improve your plots:\n",
    "- Title/Caption your figures; your title should be descriptive enough\n",
    "- Label your axes\n",
    "- Label intervals\n",
    "- Lines vs dots:\n",
    "    - Dots are data points\n",
    "    - Lines are often results of a model (simulation, statistical analysis)\n",
    "- When using text inside your visualization:\n",
    "    - Use spell check\n",
    "    - Use sufficiently large police for people to read it\n",
    "- Select your colors wisely\n",
    "    - Use a limited palette\n",
    "    - How a color project on a screen is different than how they print: test it!\n",
    "- Your graph should be readable in black & white\n",
    "    - Choose colors with sufficient contrast\n",
    "    - You can use different symbols, solid vs dashed vs dotted lines, etc.\n",
    "- Be consistent!\n",
    "    - Text police and alignment, scale, colors, symbols and style of lines, etc. all have a meaning\n",
    "\n",
    "To further improve your visualization, you can read the article by Nicolas Rougier ,Michael Droettboom, and Philip Bourne [Ten Simple Rules for Better Figures](https://journals.plos.org/ploscompbiol/article?id=10.1371/journal.pcbi.1003833)."
   ]
  },
  {
   "cell_type": "markdown",
   "id": "9791354d-ded5-4d36-b771-ba43df46527e",
   "metadata": {},
   "source": [
    "#### A bit more on colors...\n",
    "\n",
    "As mentioned above, your visualization should be readable in black & white (e.g., when printed). Color contrast is key. Below is a wheel of color and how they look in black & white:\n",
    "\n",
    "<div>\n",
    "<img src=\"https://www.robertnajlis.com/wp-content/uploads/2015/05/BYR_color_wheel.png\" width=\"200\"/> \n",
    "<img src=\"https://www.robertnajlis.com/wp-content/uploads/2015/05/BYR_color_wheel_BW.png\" width=\"200\"/>    \n",
    "</div>\n",
    "\n",
    "Colors have connotation and can reflect moods. Depending on your message, you might want to use different colors:\n",
    "\n",
    "<div>\n",
    "<img src=\"https://colourlex.com/wp-content/uploads/2021/02/manganese-blue-painted-swatch-300x300.jpg.webp\" width=\"15\" height=\"15\"/>  Calming  \n",
    "</div>\n",
    "<div>\n",
    "<img src=\"https://colourlex.com/wp-content/uploads/2021/02/arylide-yellow-painted-swatch-300x300.jpg.webp\" width=\"15\" height=\"15\"/>  Optimistic \n",
    "</div>\n",
    "<div>\n",
    "<img src=\"https://colourlex.com/wp-content/uploads/2021/02/Emerald-green-painted-swatch-300x300.jpg.webp\" width=\"15\" height=\"15\"/>  Nature-friendly  \n",
    "</div>\n",
    "<div>\n",
    "<img src=\"https://colourlex.com/wp-content/uploads/2021/03/orange-ochre-painted-swatch-france-300x300.jpg.webp\" width=\"15\" height=\"15\"/>  Energetic  \n",
    "</div>\n",
    "<div>\n",
    "<img src=\"https://colourlex.com/wp-content/uploads/2021/02/cadmium-red-painted-swatch-300x300.jpg.webp\" width=\"15\" height=\"15\"/>  Dynamic  \n",
    "</div>\n",
    "<div>\n",
    "<img src=\"https://colourlex.com/wp-content/uploads/2021/02/Manganese-violet-painted-swatch-300x300.jpg.webp\" width=\"15\" height=\"15\"/>  Mystic  \n",
    "</div>\n",
    "\n",
    "\n",
    "However, in different contexts, the meaning is also different: e.g., red/green for stop/go, red/blue for hot/cold, white/black for on/off, etc. \n",
    "\n",
    "Also, be aware that each culture associates different meanings with colors. So do not hesitate to adjust the colors you use based on your audience.\n",
    "\n",
    "Last but not least, be aware of [color blindness](https://www.colourblindawareness.org/colour-blindness/types-of-colour-blindness/). For instance, worldwide, about 8% of men and 0.5% of women have a red/green type of color vision deficiency. You can check [colorblindawareness.org](https://www.colourblindawareness.org/colour-blindness/types-of-colour-blindness/) to learn more about the types of color blindness. Here is below an illustration they did, showing what the majority of people would see (left), what deuranotopes experience (center), and what trinanotopes experience (right).\n",
    "\n",
    "<div>\n",
    "<img src=\"https://www.colourblindawareness.org/wp-content/uploads/2021/11/pigment.jpg\" width=\"250\"/>\n",
    "<img src=\"https://www.colourblindawareness.org/wp-content/uploads/2021/11/pigment_d.jpg\" width=\"250\"/>     \n",
    "<img src=\"https://www.colourblindawareness.org/wp-content/uploads/2021/11/pigment_t.jpg\" width=\"250\"/> \n",
    "</div>\n"
   ]
  },
  {
   "cell_type": "markdown",
   "id": "ba7225d3-656a-4d47-8fd3-af396e100074",
   "metadata": {},
   "source": [
    "### The Data Visualization landscape in Python\n",
    "\n",
    "Now that we discussed what we want to do, how do we actually do it? We discussed in our last notebook the diversity of libraries, packages, and modules, displaying the strength of Python: its community. Well, it's gonna be wild - and potentially confusing - with visualization libraries and packages! \n",
    "\n",
    "[Matplotlib](https://matplotlib.org/) is the most common one. It is a comprehensive library for creating static, animated, and interactive visualizations. Originally, it was created by John D. Hunter to design MATLAB-like plots (hence, its name), but with its continuous development it now offers much more. \n",
    "\n",
    "Inspired by Matplotlib, many libraries/packages were developed to introduce new features and facilitates some operations, such as [seaborn](https://seaborn.pydata.org/), [plotnine](https://plotnine.readthedocs.io/en/stable/) or even [pandas](https://pandas.pydata.org/pandas-docs/stable/user_guide/visualization.html).\n",
    "\n",
    "Then, developers designed packages that use JavaScript, which are well suited for interactivity in browsers, e.g., [bokeh](https://docs.bokeh.org/en/latest/) and [plotly](https://plotly.com/python/).\n",
    "\n",
    "You can see below an overview of the Python visualization landscape by Nicolas Rougier ([GitHub repository](https://github.com/rougier/python-visualization-landscape)) from 2017 (so it is already outdated). Jake VanderPlas, one of the authors of [Altair](https://altair-viz.github.io/), used it during his [talk at PyCon](https://www.youtube.com/watch?v=FytuB8nFHPQ).\n",
    "\n",
    "<div>\n",
    "<img src=\"https://github.com/rougier/python-visualization-landscape/blob/master/landscape-colors.png?raw=true\" width=\"700\"/>\n",
    "</div>\n",
    "\n",
    "We will use in this course several of these packages, as a way of discovering them. There is no best package: it depends a bit on the task at-hand, and mostly on your personal preferences.\n",
    "\n",
    "The [Python Graph Library](https://www.python-graph-gallery.com/) is a collection of hundreds of charts made with Python - with the associated code. It is an incredible resource when you are looking for graph ideas! Feel free to further explore this wonderful complex world of data visualization in Python, design creative visualizations, and have fun!\n",
    "\n",
    "<div>\n",
    "<img src=\"https://i.postimg.cc/XY925Ry8/Python-graph.png\" width=\"500\"/>\n",
    "</div>"
   ]
  },
  {
   "cell_type": "markdown",
   "id": "0c25a741-425a-4879-b640-bc4616c5ea67",
   "metadata": {},
   "source": [
    "## EDA Application: Global Preference Survey"
   ]
  },
  {
   "cell_type": "markdown",
   "id": "dc6f81d8-8c01-4ae4-9688-cc53f61f5568",
   "metadata": {},
   "source": [
    "In this section, we will illustrate the Exploratory Data Analysis process using as example the [Global Preferences Survey](https://www.briq-institute.org/global-preferences/home). It is a globally representative dataset on risk and time preferences, positive and negative reciprocity, altruism, and trust. The following paper is a nice read about the survey:\n",
    "\n",
    "Falk, A., Becker, A., Dohmen, T., Enke, B., Huffman, D., & Sunde, U. (2018). Global evidence on economic preferences. *The Quarterly Journal of Economics*, 133(4), 1645-1692."
   ]
  },
  {
   "cell_type": "markdown",
   "id": "60f3a757-a39b-44de-8d4d-fcf47734fcbd",
   "metadata": {},
   "source": [
    "### Setting up the scenes: data acquisition"
   ]
  },
  {
   "cell_type": "markdown",
   "id": "ddbe5fa9-a141-4ff4-93c9-6899e7d02b37",
   "metadata": {},
   "source": [
    "We first import `pandas` and `numpy`. Remember, as a good practice, you should import all the packages you are using at the top of your notebook - here we only import the packages progressively to introduce the new packages we are going to use..."
   ]
  },
  {
   "cell_type": "code",
   "execution_count": 2,
   "id": "f14c2985-90db-47ce-b1aa-15f976e42430",
   "metadata": {
    "tags": []
   },
   "outputs": [],
   "source": [
    "import pandas as pd\n",
    "import numpy as np"
   ]
  },
  {
   "cell_type": "markdown",
   "id": "d93ff53b-54be-4eae-a9d2-086f068cab9c",
   "metadata": {},
   "source": [
    "Let's now import our datasets as `pandas` data frame. We are using data from the Global Preference Survey, available in a CSV file in our GitHub repository."
   ]
  },
  {
   "cell_type": "code",
   "execution_count": 7,
   "id": "fa9ed63d-e161-4dfc-876c-c9f2b107347e",
   "metadata": {
    "tags": []
   },
   "outputs": [],
   "source": [
    "# Import dataset on Global Preference Survey from GitHub\n",
    "df_gps = pd.read_csv(\"https://raw.githubusercontent.com/edoardochiarotti/class_datascience/main/2023/03_EDA-Visualization/data/global_preference_survey.csv\")"
   ]
  },
  {
   "cell_type": "markdown",
   "id": "d0c68091-8efb-4ef7-89bd-a9c45b0ecd6a",
   "metadata": {},
   "source": [
    "Let's use `.head()` to visualize what kind of data we are dealing with:"
   ]
  },
  {
   "cell_type": "code",
   "execution_count": 8,
   "id": "08795961-7aa8-444d-b09f-59d3513bc946",
   "metadata": {
    "tags": []
   },
   "outputs": [
    {
     "data": {
      "text/html": [
       "<div>\n",
       "<style scoped>\n",
       "    .dataframe tbody tr th:only-of-type {\n",
       "        vertical-align: middle;\n",
       "    }\n",
       "\n",
       "    .dataframe tbody tr th {\n",
       "        vertical-align: top;\n",
       "    }\n",
       "\n",
       "    .dataframe thead th {\n",
       "        text-align: right;\n",
       "    }\n",
       "</style>\n",
       "<table border=\"1\" class=\"dataframe\">\n",
       "  <thead>\n",
       "    <tr style=\"text-align: right;\">\n",
       "      <th></th>\n",
       "      <th>iso3</th>\n",
       "      <th>patience</th>\n",
       "      <th>risktaking</th>\n",
       "      <th>posrecip</th>\n",
       "      <th>negrecip</th>\n",
       "      <th>altruism</th>\n",
       "      <th>trust</th>\n",
       "    </tr>\n",
       "  </thead>\n",
       "  <tbody>\n",
       "    <tr>\n",
       "      <th>0</th>\n",
       "      <td>AFG</td>\n",
       "      <td>-0.201360</td>\n",
       "      <td>0.120764</td>\n",
       "      <td>0.289641</td>\n",
       "      <td>0.254712</td>\n",
       "      <td>0.166455</td>\n",
       "      <td>0.315964</td>\n",
       "    </tr>\n",
       "    <tr>\n",
       "      <th>1</th>\n",
       "      <td>DZA</td>\n",
       "      <td>0.059815</td>\n",
       "      <td>0.391530</td>\n",
       "      <td>-0.598255</td>\n",
       "      <td>0.254901</td>\n",
       "      <td>-0.009968</td>\n",
       "      <td>-0.177371</td>\n",
       "    </tr>\n",
       "    <tr>\n",
       "      <th>2</th>\n",
       "      <td>ARG</td>\n",
       "      <td>-0.229308</td>\n",
       "      <td>0.041503</td>\n",
       "      <td>0.159679</td>\n",
       "      <td>-0.140457</td>\n",
       "      <td>0.027347</td>\n",
       "      <td>-0.206733</td>\n",
       "    </tr>\n",
       "    <tr>\n",
       "      <th>3</th>\n",
       "      <td>AUS</td>\n",
       "      <td>0.657004</td>\n",
       "      <td>0.137137</td>\n",
       "      <td>0.069660</td>\n",
       "      <td>0.022190</td>\n",
       "      <td>0.155331</td>\n",
       "      <td>0.298973</td>\n",
       "    </tr>\n",
       "    <tr>\n",
       "      <th>4</th>\n",
       "      <td>AUT</td>\n",
       "      <td>0.608285</td>\n",
       "      <td>-0.061829</td>\n",
       "      <td>0.161047</td>\n",
       "      <td>-0.055415</td>\n",
       "      <td>-0.035363</td>\n",
       "      <td>0.154628</td>\n",
       "    </tr>\n",
       "    <tr>\n",
       "      <th>5</th>\n",
       "      <td>BGD</td>\n",
       "      <td>0.081137</td>\n",
       "      <td>-0.198068</td>\n",
       "      <td>0.154368</td>\n",
       "      <td>0.113288</td>\n",
       "      <td>0.906463</td>\n",
       "      <td>-0.173365</td>\n",
       "    </tr>\n",
       "    <tr>\n",
       "      <th>6</th>\n",
       "      <td>BOL</td>\n",
       "      <td>0.071331</td>\n",
       "      <td>0.103038</td>\n",
       "      <td>0.107920</td>\n",
       "      <td>-0.003735</td>\n",
       "      <td>-0.005187</td>\n",
       "      <td>-0.160330</td>\n",
       "    </tr>\n",
       "  </tbody>\n",
       "</table>\n",
       "</div>"
      ],
      "text/plain": [
       "  iso3  patience  risktaking  posrecip  negrecip  altruism     trust\n",
       "0  AFG -0.201360    0.120764  0.289641  0.254712  0.166455  0.315964\n",
       "1  DZA  0.059815    0.391530 -0.598255  0.254901 -0.009968 -0.177371\n",
       "2  ARG -0.229308    0.041503  0.159679 -0.140457  0.027347 -0.206733\n",
       "3  AUS  0.657004    0.137137  0.069660  0.022190  0.155331  0.298973\n",
       "4  AUT  0.608285   -0.061829  0.161047 -0.055415 -0.035363  0.154628\n",
       "5  BGD  0.081137   -0.198068  0.154368  0.113288  0.906463 -0.173365\n",
       "6  BOL  0.071331    0.103038  0.107920 -0.003735 -0.005187 -0.160330"
      ]
     },
     "execution_count": 8,
     "metadata": {},
     "output_type": "execute_result"
    }
   ],
   "source": [
    "df_gps.head(7)"
   ]
  },
  {
   "cell_type": "markdown",
   "id": "9b721727-0ea8-40af-b1df-902dc68eb829",
   "metadata": {},
   "source": [
    "Let's also check the type of our data to check if the data was correctly imported:"
   ]
  },
  {
   "cell_type": "code",
   "execution_count": 9,
   "id": "ed6076d7-1408-429e-a487-96013356c338",
   "metadata": {},
   "outputs": [
    {
     "data": {
      "text/plain": [
       "iso3           object\n",
       "patience      float32\n",
       "risktaking    float32\n",
       "posrecip      float32\n",
       "negrecip      float32\n",
       "altruism      float32\n",
       "trust         float32\n",
       "dtype: object"
      ]
     },
     "execution_count": 9,
     "metadata": {},
     "output_type": "execute_result"
    }
   ],
   "source": [
    "df_gps.dtypes"
   ]
  },
  {
   "cell_type": "markdown",
   "id": "b2d68a49-161a-404d-a5c2-9605533fa45f",
   "metadata": {},
   "source": [
    "It seems alright: the iso3 column is `object` - as it should be since it consists of strings (iso 3 country codes) - and the preference variables are `float32`. \n",
    "\n",
    "Below, we will perform some EDA tasks to better understand the Global Preference Survey data."
   ]
  },
  {
   "cell_type": "markdown",
   "id": "345504bc-2fcc-47de-b11c-d2ec43b7b865",
   "metadata": {},
   "source": [
    "### Descriptive Statistics"
   ]
  },
  {
   "cell_type": "markdown",
   "id": "1f3c25f5-2748-4852-876f-c199853ace37",
   "metadata": {},
   "source": [
    "With `pandas`, we can use the `.describe()` method to get a data frame containing the most common descriptive statistics. The method summarizes the central tendency, dispersion and shape of a dataset’s distribution. Note that:\n",
    "- it excludes `NaN` values\n",
    "- it analyzes both numeric and object series, as well as variables of mixed data types. The output will vary depending on what is provided. Check the [documentation](https://pandas.pydata.org/docs/reference/api/pandas.DataFrame.describe.html) \n",
    "\n",
    "Note that instead of using `.describe()`, we could also directly compute the statistics of interest, and you can even specify the \"axis\", i.e., measure for a given variable (row-wise, by default) or observation (column-wise, axis = 1). \n",
    "\n",
    "|Function|Description|\n",
    "|:-------|:----------|\n",
    "|`.count()` | Count non-NA cells |\n",
    "|`.mean()` | Return the mean of the values |\n",
    "|`.std()` | Return sample standard deviation  |\n",
    "|`.min()` | Return the minimum of the values  |\n",
    "|`.median()` | Return the median of the values |\n",
    "|`.quantile(q=0.5)` | Return values at the given quantile *q* |\n",
    "|`.max()` | Return the maximum of the values |"
   ]
  },
  {
   "cell_type": "code",
   "execution_count": 9,
   "id": "f747a214-e9ea-4f52-a476-f5fd34049445",
   "metadata": {
    "tags": []
   },
   "outputs": [
    {
     "data": {
      "text/html": [
       "<div>\n",
       "<style scoped>\n",
       "    .dataframe tbody tr th:only-of-type {\n",
       "        vertical-align: middle;\n",
       "    }\n",
       "\n",
       "    .dataframe tbody tr th {\n",
       "        vertical-align: top;\n",
       "    }\n",
       "\n",
       "    .dataframe thead th {\n",
       "        text-align: right;\n",
       "    }\n",
       "</style>\n",
       "<table border=\"1\" class=\"dataframe\">\n",
       "  <thead>\n",
       "    <tr style=\"text-align: right;\">\n",
       "      <th></th>\n",
       "      <th>patience</th>\n",
       "      <th>risktaking</th>\n",
       "      <th>posrecip</th>\n",
       "      <th>negrecip</th>\n",
       "      <th>altruism</th>\n",
       "      <th>trust</th>\n",
       "    </tr>\n",
       "  </thead>\n",
       "  <tbody>\n",
       "    <tr>\n",
       "      <th>count</th>\n",
       "      <td>76.000000</td>\n",
       "      <td>76.000000</td>\n",
       "      <td>76.000000</td>\n",
       "      <td>76.000000</td>\n",
       "      <td>76.000000</td>\n",
       "      <td>76.000000</td>\n",
       "    </tr>\n",
       "    <tr>\n",
       "      <th>mean</th>\n",
       "      <td>-0.003421</td>\n",
       "      <td>0.012658</td>\n",
       "      <td>-0.033612</td>\n",
       "      <td>0.013159</td>\n",
       "      <td>-0.037569</td>\n",
       "      <td>-0.022146</td>\n",
       "    </tr>\n",
       "    <tr>\n",
       "      <th>std</th>\n",
       "      <td>0.369663</td>\n",
       "      <td>0.301881</td>\n",
       "      <td>0.341819</td>\n",
       "      <td>0.275397</td>\n",
       "      <td>0.343334</td>\n",
       "      <td>0.277795</td>\n",
       "    </tr>\n",
       "    <tr>\n",
       "      <th>min</th>\n",
       "      <td>-0.612520</td>\n",
       "      <td>-0.792435</td>\n",
       "      <td>-1.037981</td>\n",
       "      <td>-0.489312</td>\n",
       "      <td>-0.939617</td>\n",
       "      <td>-0.706439</td>\n",
       "    </tr>\n",
       "    <tr>\n",
       "      <th>25%</th>\n",
       "      <td>-0.257605</td>\n",
       "      <td>-0.157406</td>\n",
       "      <td>-0.242433</td>\n",
       "      <td>-0.167865</td>\n",
       "      <td>-0.239602</td>\n",
       "      <td>-0.177403</td>\n",
       "    </tr>\n",
       "    <tr>\n",
       "      <th>50%</th>\n",
       "      <td>-0.092516</td>\n",
       "      <td>-0.019577</td>\n",
       "      <td>0.024422</td>\n",
       "      <td>0.003909</td>\n",
       "      <td>-0.097151</td>\n",
       "      <td>-0.081175</td>\n",
       "    </tr>\n",
       "    <tr>\n",
       "      <th>75%</th>\n",
       "      <td>0.131628</td>\n",
       "      <td>0.163387</td>\n",
       "      <td>0.186954</td>\n",
       "      <td>0.182523</td>\n",
       "      <td>0.154469</td>\n",
       "      <td>0.153361</td>\n",
       "    </tr>\n",
       "    <tr>\n",
       "      <th>max</th>\n",
       "      <td>1.071452</td>\n",
       "      <td>0.970596</td>\n",
       "      <td>0.569985</td>\n",
       "      <td>0.738908</td>\n",
       "      <td>0.906463</td>\n",
       "      <td>0.609021</td>\n",
       "    </tr>\n",
       "  </tbody>\n",
       "</table>\n",
       "</div>"
      ],
      "text/plain": [
       "        patience  risktaking   posrecip   negrecip   altruism      trust\n",
       "count  76.000000   76.000000  76.000000  76.000000  76.000000  76.000000\n",
       "mean   -0.003421    0.012658  -0.033612   0.013159  -0.037569  -0.022146\n",
       "std     0.369663    0.301881   0.341819   0.275397   0.343334   0.277795\n",
       "min    -0.612520   -0.792435  -1.037981  -0.489312  -0.939617  -0.706439\n",
       "25%    -0.257605   -0.157406  -0.242433  -0.167865  -0.239602  -0.177403\n",
       "50%    -0.092516   -0.019577   0.024422   0.003909  -0.097151  -0.081175\n",
       "75%     0.131628    0.163387   0.186954   0.182523   0.154469   0.153361\n",
       "max     1.071452    0.970596   0.569985   0.738908   0.906463   0.609021"
      ]
     },
     "execution_count": 9,
     "metadata": {},
     "output_type": "execute_result"
    }
   ],
   "source": [
    "df_gps.describe()"
   ]
  },
  {
   "cell_type": "markdown",
   "id": "90db69bb-021d-4796-a6b2-f8e4c5aac03b",
   "metadata": {},
   "source": [
    "The first row counts the number of observations. Here, we have 76 observations, i.e., countries in our dataset, that are not `NaN`. Then, we have common descriptive statistics."
   ]
  },
  {
   "cell_type": "markdown",
   "id": "9e220575-9871-4682-89ff-7edf23d56bdf",
   "metadata": {},
   "source": [
    "### Box plot\n",
    "\n",
    "Box and whisker plots - also called box plots - are a clever way of visualizing the distribution of a set of numerical data using only one dimension. They allow to:\n",
    "- identify outliers (i.e., anomalies)\n",
    "- check if your data is skewed or symmetrical.\n",
    "- visually compare several variables or data subsets\n",
    "\n",
    "The box extends from the Q1 to Q3 quartile values of the data, with a line at the median (Q2). The whiskers extend from the edges of box to show the range of the data. Generally, they extend no more than 1.5$*$IQR (IQR = Q3 - Q1) from the edges of the box, ending at the farthest data point within that interval. Outliers are plotted as separate dots.\n",
    "\n",
    "<div>\n",
    "<img src=\"https://miro.medium.com/v2/format:webp/1*ghJQrcLZXGWxDPzppLWULA.png\" width=\"500\"/>\n",
    "</div>\n",
    "\n",
    "Image by Valentina Alto [Introduction to Box Plots and how to interpret them](https://medium.com/analytics-vidhya/introduction-to-box-plots-and-how-to-interpret-them-22464acbcba7)"
   ]
  },
  {
   "cell_type": "markdown",
   "id": "4ea705ca-ad7b-427e-9c2a-5d81c5448b4c",
   "metadata": {},
   "source": [
    "One way to generate a box plot is to directly use the `.boxplot()` method available in the pandas package. You can specify the variables and several [options](https://pandas.pydata.org/docs/reference/api/pandas.DataFrame.boxplot.html)."
   ]
  },
  {
   "cell_type": "code",
   "execution_count": 10,
   "id": "eada7b8a-4290-4794-9585-8d83d6b141ee",
   "metadata": {
    "tags": []
   },
   "outputs": [
    {
     "data": {
      "text/plain": [
       "<Axes: >"
      ]
     },
     "execution_count": 10,
     "metadata": {},
     "output_type": "execute_result"
    },
    {
     "data": {
      "image/png": "[encoded data removed]",
      "text/plain": [
       "<Figure size 640x480 with 1 Axes>"
      ]
     },
     "metadata": {},
     "output_type": "display_data"
    }
   ],
   "source": [
    "df_gps.boxplot(column =['patience', 'risktaking', 'posrecip', 'negrecip', 'altruism'], grid = False)"
   ]
  },
  {
   "cell_type": "markdown",
   "id": "4f70dde7-ac3d-46f6-a8a2-a2f4c2436ee2",
   "metadata": {},
   "source": [
    "What do we observe? Some observations are outside the whiskers. Are they outliers that we should remove? Probably not. Still, in one visual, we are able to detect such patterns, and asymmetries."
   ]
  },
  {
   "cell_type": "markdown",
   "id": "1c946ec4-0664-40d5-a297-a46e113c2362",
   "metadata": {},
   "source": [
    "### Histogram\n",
    "\n",
    "A histogram is a summary of the variation in a measured variable. It works by binning the entire range of values into a series of intervals and then counting how many values fall in each interval. \n",
    "\n",
    "Learn more about how to select the number of bins in a histogram by reading the article by He & Meeden (1997), [Selecting the number of bins in a histogram: A decision theoretic approach](https://doi.org/10.1016/S0378-3758(96)00142-5), published in the *Journal of Statistical Planning and inference*, 61(1), pages 49-59.\n",
    "\n",
    "We'll do a histogram of the \"risktaking\" variable. Let's discover a new graph library, the most common of them all, [Matplotlib](https://matplotlib.org/). We import the [pyplot](https://matplotlib.org/3.5.1/api/_as_gen/matplotlib.pyplot.html) module."
   ]
  },
  {
   "cell_type": "code",
   "execution_count": 11,
   "id": "676c0fe5-8637-40ae-88a6-acc794f16df4",
   "metadata": {
    "tags": []
   },
   "outputs": [],
   "source": [
    "import matplotlib.pyplot as plt "
   ]
  },
  {
   "cell_type": "markdown",
   "id": "aef84f93-1e51-4bea-bb96-70421cf2324d",
   "metadata": {},
   "source": [
    "We create a histogram using the `.hist()` function ([Documentation](https://matplotlib.org/stable/api/_as_gen/matplotlib.pyplot.hist.html)). It is using the `.histogram()` function of NumPy to compute the values and the edges of the histogram ([Documentation](https://numpy.org/doc/stable/reference/generated/numpy.histogram.html))."
   ]
  },
  {
   "cell_type": "code",
   "execution_count": 12,
   "id": "277a072c-b848-4232-b99e-48617e0fbfd7",
   "metadata": {
    "tags": []
   },
   "outputs": [
    {
     "data": {
      "image/png": "[encoded data removed]",
      "text/plain": [
       "<Figure size 640x480 with 1 Axes>"
      ]
     },
     "metadata": {},
     "output_type": "display_data"
    }
   ],
   "source": [
    "plt.hist(df_gps.loc[:,\"risktaking\"],       # risktaking column as argument\n",
    "         color = \"g\")                      # color in green\n",
    "plt.title('Histogram of Risk taking')      # Title your figure!\n",
    "plt.xlim(-1, 1)       # Specify x-axis range\n",
    "plt.ylim(0, 25)       # Specify y-axis range\n",
    "plt.grid(True)        # Add grid\n",
    "plt.show()            # Display graph"
   ]
  },
  {
   "cell_type": "markdown",
   "id": "0dabaf03-5aae-4066-949f-020944aba2a5",
   "metadata": {},
   "source": [
    "### Grouping"
   ]
  },
  {
   "cell_type": "markdown",
   "id": "075514d9-c7b8-4643-bfbc-1e398a585f5b",
   "metadata": {},
   "source": [
    "Let's continue our exploration! We have looked at statistics for the whole dataset (including all the observations) but it is often interesting to explore subset of data. For example, you could group your data by region, gender, age, etc. Here, we will create two clusters, one with the observations for which the altruism value is (strictly) lower than the mean altruism, the second with the observations for which the altruism value is greater than the mean altruism.\n",
    "\n",
    "In the code below, we create a new column, called 'Cluster'. We populate this column with value equal to zero if the altruism is strictly lower than the mean of altruism (-0.037569), and with one otherwise:"
   ]
  },
  {
   "cell_type": "code",
   "execution_count": null,
   "id": "f68b9a9c-25a6-4b10-a413-d287ab0265d2",
   "metadata": {},
   "outputs": [],
   "source": [
    "altruism_mean = df_gps['altruism'].mean()\n",
    "\n",
    "df_gps.loc[df_gps['altruism'] < altruism_mean, 'Cluster'] = 0\n",
    "df_gps.loc[df_gps['altruism'] >= altruism_mean, 'Cluster'] = 1\n",
    "\n",
    "df_gps.head(9)"
   ]
  },
  {
   "cell_type": "markdown",
   "id": "24c4ebf3-e9b4-4a5c-83d7-fb21a2db7b07",
   "metadata": {},
   "source": [
    "Now we can access descriptive statistics for our two subsets (0 = low altruism; 1= high altruism). We can use the method `.groupby()` ([Documentation](https://pandas.pydata.org/docs/reference/api/pandas.DataFrame.groupby.html)) to group the data according to some categories and then apply a function to the categories. For example, let's group by low/high altruism values and `.count()` the number of observations in our clusters: "
   ]
  },
  {
   "cell_type": "code",
   "execution_count": null,
   "id": "1f3bc792-685d-4fd9-8416-a1cfd96f648f",
   "metadata": {},
   "outputs": [],
   "source": [
    "df_gps.groupby('Cluster').count()"
   ]
  },
  {
   "cell_type": "markdown",
   "id": "567e2790-4852-4621-ab5f-bf67c23e29bb",
   "metadata": {},
   "source": [
    "We have 43 observations (countries) with low altruism and 33 with high altruism. This is due to the lack of symmetry of the altruism variable. "
   ]
  },
  {
   "cell_type": "markdown",
   "id": "00ca581c-d56f-44a4-a4cd-029494c78c84",
   "metadata": {},
   "source": [
    "### Interactive box plot"
   ]
  },
  {
   "cell_type": "markdown",
   "id": "74db0368-adb3-45cd-8223-39e1d69aabb2",
   "metadata": {},
   "source": [
    "We have mentioned above that box plots allow to visually compare subsets of our data. We will illustrate this by creating box plots of the variables 'posrecip' and 'negrecip' for: a) countries with low altruism; b) country with high altruism. Instead of using the pandas `.boxplot()` method, let's try another library! We are going to use [plotly](https://plotly.com/python/), a common library for interactive graphs. We first import the `plotly.express` module. [Plotly Express](https://plotly.com/python/plotly-express/) provides more than 30 functions for creating different types of figures. "
   ]
  },
  {
   "cell_type": "code",
   "execution_count": null,
   "id": "a1569e02-00f2-48e9-b72d-e4728c60604a",
   "metadata": {},
   "outputs": [],
   "source": [
    "import plotly.express as px"
   ]
  },
  {
   "cell_type": "markdown",
   "id": "eaa83a23-b4e3-4221-9f2b-1bb0fc89b5f0",
   "metadata": {},
   "source": [
    "Now let's create our box plot, using `.box()`:"
   ]
  },
  {
   "cell_type": "code",
   "execution_count": null,
   "id": "81db0ff3-6e09-4fef-a461-9fbcd2fde1c2",
   "metadata": {},
   "outputs": [],
   "source": [
    "fig_box = px.box(df_gps,                                           # Specify data frame\n",
    "                 y=[\"posrecip\", \"negrecip\"],                       # Select posrecip and negrecip variables\n",
    "                 points=\"all\",                                     # Include all observations as data points\n",
    "                 color = \"Cluster\",                                # Color (and group by) column \"Cluster\"\n",
    "                 labels = {\"Cluster\": \"Altruism\"},                 # Rename \"Cluster\" as \"Altruism\" in our legend\n",
    "                 title = \"\"\"Positive and negative reciprocity for highly- and lowly-altruistic countries \n",
    "                 <br>(Highly-altrustic: 1.0; Lowly-altruistic: 0.0)\"\"\")       # Always add a title!\n",
    "fig_box.update_layout(autosize=False, width = 800)                # Specify width (by default, full notebook cell)\n",
    "fig_box"
   ]
  },
  {
   "cell_type": "markdown",
   "id": "cbdd0fb3-cc2b-41dd-8470-232e3c4b67c4",
   "metadata": {},
   "source": [
    "Try to hover over the above plot... Amazing isn't it?! Not only do we have a nice visual, we can also directly check the actual values behind the plot! And have you noticed on the top right? There is a modebar allowing to zoom and even download your plot as a PNG image.  \n",
    "\n",
    "Alright, we can do cool graphs, but what did we learn? It seems that the countries with high altruism tend to also have higher value of positive reciprocity, while this is not true for negative reciprocity. In other words, it seems that altruism and positive reciprocity are positively correlated, but altruism and negative reciprocity are not..."
   ]
  },
  {
   "cell_type": "markdown",
   "id": "fa1ad939-d512-4506-a63a-683f8596f094",
   "metadata": {},
   "source": [
    "### Correlation\n",
    "\n",
    "Let's confirm our previous observation by computing the correlation matrix between our variables. We can use the `.corr()` pandas method. As argument, you can specify the method of correlation - by default Pearson. Check the [documentation](https://pandas.pydata.org/docs/reference/api/pandas.DataFrame.corr.html)!  "
   ]
  },
  {
   "cell_type": "code",
   "execution_count": null,
   "id": "9b918a0f-c4aa-4f62-9f2b-c542f074a73e",
   "metadata": {},
   "outputs": [],
   "source": [
    "gps_corr = df_gps.loc[:,\"patience\":\"trust\"].corr()\n",
    "gps_corr"
   ]
  },
  {
   "cell_type": "markdown",
   "id": "bcf611be-dd7a-4c5d-aa39-6736972da180",
   "metadata": {},
   "source": [
    "Our previous guess was correct, altruism and positive reciprocity are strongly correlated (0.711) while altruism and negative reciprocity are weakly correlated (-0.132)."
   ]
  },
  {
   "cell_type": "markdown",
   "id": "b65a55a5-22b9-4db1-9f20-ea55d7556dd0",
   "metadata": {},
   "source": [
    "### Heat map"
   ]
  },
  {
   "cell_type": "markdown",
   "id": "6610146d-3156-4358-a437-7045afcd8ece",
   "metadata": {},
   "source": [
    "Heatmaps are a method of representing data graphically where values are depicted by color, making it easy to visualize complex data and understand it at a glance.\n",
    "\n",
    "For example, we can represent our correlation matrix. We will use the `.imshow()` function of `plotly.express` ([Documentation](https://plotly.com/python/heatmaps/))."
   ]
  },
  {
   "cell_type": "code",
   "execution_count": null,
   "id": "6532920e-dc4e-4cc3-ab6a-a22e8881a7ed",
   "metadata": {},
   "outputs": [],
   "source": [
    "heatmap_corr = px.imshow(\n",
    "    gps_corr.values.round(2),         # correlation matrix values, rounded at 2 decimals\n",
    "    x=list(gps_corr.columns),         # label x-axis\n",
    "    y=list(gps_corr.index),           # label y-axis\n",
    "    text_auto=True,                   # add values to the graph\n",
    "    aspect=\"auto\"                     # automatically adjust aspect (without the option: square)\n",
    ")\n",
    "heatmap_corr.update_xaxes(side=\"top\")   # display labels on top (by default: bottom)\n",
    "heatmap_corr.show()"
   ]
  },
  {
   "cell_type": "markdown",
   "id": "ce71f121-3549-42a5-943b-875089ca24a4",
   "metadata": {},
   "source": [
    "### Scatter plot\n",
    "\n",
    "We have discussed before that two variables could be related despite having a low Pearson correlation. To check whether that is the case, we could compute other, more sophisticated correlation coefficients. However, there is an arguably better way: use visualization such as scatter plots!\n",
    "\n",
    "Let's create a scatter plot between the \"patience\" and \"trust\" variables using the `.scatter` function ([Documentation](https://matplotlib.org/stable/api/_as_gen/matplotlib.pyplot.scatter.html)) of Matplotlib."
   ]
  },
  {
   "cell_type": "code",
   "execution_count": null,
   "id": "10468bba-bf8d-45f4-9cfc-9122a3d2a4ed",
   "metadata": {},
   "outputs": [],
   "source": [
    "plt.scatter(df_gps.loc[:,\"patience\"],   # 1st argument is the x-axis series of points (\"patience\")\n",
    "            df_gps.loc[:,\"trust\"],      # 2nd argument is the y-axis series of points (\"trust\")\n",
    "            c = \"black\"                 # Color of data points            \n",
    "           )\n",
    "plt.title(\"Scatter plot of patience and trust\")     # Always title your figure!\n",
    "plt.xlabel(\"Patience\")                              # Label your axis! \n",
    "plt.ylabel(\"Trust\")\n",
    "plt.show()"
   ]
  },
  {
   "cell_type": "markdown",
   "id": "25e8fc6a-40e7-47c2-b78d-b41f8973752e",
   "metadata": {},
   "source": [
    "From the scatter plot, we can quickly visualize the relation (or lack thereof) between our variables."
   ]
  },
  {
   "cell_type": "markdown",
   "id": "a3a53c1b-ffa3-4abc-afca-de6bb7152072",
   "metadata": {},
   "source": [
    "### Pair plot\n",
    "\n",
    "The scatter plot above was convenient to visualize the relation between patience and trust. What if we want to do the same with our other variables? Should we repeat the same lines of code, each time manually changing the column? No! Should we create a function and do a for loop? That would be a better solution, but there is still a more efficient solution. We can do a pair plot.\n",
    "\n",
    "Let's try it to better understand. We will use yet another library: [seaborn](https://seaborn.pydata.org/)"
   ]
  },
  {
   "cell_type": "code",
   "execution_count": null,
   "id": "fa31a67c-6c42-4812-80b5-400f21c9f81d",
   "metadata": {},
   "outputs": [],
   "source": [
    "import seaborn as sns"
   ]
  },
  {
   "cell_type": "markdown",
   "id": "2292af83-fabb-47ba-966b-92e19fbc835e",
   "metadata": {},
   "source": [
    "We use the `.pairplot()` function ([Documentation](https://seaborn.pydata.org/generated/seaborn.pairplot.html)). By default, pair plots display a grid of plots with: \n",
    "- histograms along the diagonal\n",
    "- scatter plots for each pairing of variables"
   ]
  },
  {
   "cell_type": "code",
   "execution_count": null,
   "id": "9908f99f-5f8f-40d9-89b8-5cae434db3f9",
   "metadata": {},
   "outputs": [],
   "source": [
    "sns.pairplot(df_gps.loc[:,\"patience\":\"trust\"])      # dataframe as argument"
   ]
  },
  {
   "cell_type": "markdown",
   "id": "240b21ad-071b-49d5-a862-d056f700f81d",
   "metadata": {},
   "source": [
    "We can even play a bit with the options, for instance coloring our observations based on some grouping. Let's try coloring low/high altruism!"
   ]
  },
  {
   "cell_type": "code",
   "execution_count": null,
   "id": "42c495b8-da62-4d9b-ad25-4c6b922ee30a",
   "metadata": {},
   "outputs": [],
   "source": [
    "sns.pairplot(df_gps,        # dataframe as argument\n",
    "                hue=\"Cluster\"   # color (group) by high/low altruism\n",
    "                )"
   ]
  },
  {
   "cell_type": "markdown",
   "id": "e533a70e-0338-4861-bc33-7308aa288a4c",
   "metadata": {},
   "source": [
    "As you can see, on the diagonal, the histograms were replaced by layered kernel density estimate (KDE), which is a method for visualizing the distribution of observations by representing the data using a continuous probability density curve ([Documentation](https://seaborn.pydata.org/generated/seaborn.kdeplot.html))."
   ]
  },
  {
   "cell_type": "markdown",
   "id": "f279ff1a-33c5-4d29-8396-50da6cc9da04",
   "metadata": {},
   "source": [
    "### Map"
   ]
  },
  {
   "cell_type": "markdown",
   "id": "e65bc970-980d-4824-80d9-b36dc7cccb23",
   "metadata": {},
   "source": [
    "Maps are a powerful technique to visualize geographic data. They allow to:\n",
    "- identify missing regions\n",
    "- identify potential geographical patterns, i.e., how variables vary with, for instance, development level, population, geography (mountains, coastal areas), etc. \n",
    "\n",
    "We will plot a map of the level of altruism per country using the `.chloropleth()` function of `pyplot.express` ([Documentation](https://plotly.github.io/plotly.py-docs/generated/plotly.express.choropleth.html)). "
   ]
  },
  {
   "cell_type": "code",
   "execution_count": null,
   "id": "6a997e62-d8ab-47ac-89cc-3c46162eddfc",
   "metadata": {},
   "outputs": [],
   "source": [
    "map_gps = px.choropleth(\n",
    "    df_gps,                                 # dataframe as argument\n",
    "    locations=\"iso3\",                       # column name with location\n",
    "    locationmode=\"ISO-3\",                   # location method\n",
    "    color=\"altruism\",                       # color countries with altruism value\n",
    "    color_continuous_scale=px.colors.sequential.Plasma,   # choice of colors\n",
    ")\n",
    "map_gps.update_layout( \n",
    "    title={                                # Add a title, centered on top\n",
    "        'text': \"Altruism per country\",\n",
    "        'y':0.9,\n",
    "        'x':0.5,\n",
    "        'xanchor': 'center',\n",
    "        'yanchor': 'top'})\n",
    "map_gps.show()"
   ]
  },
  {
   "cell_type": "markdown",
   "id": "1d4d301c-def4-430a-8d4f-a2b7b110a030",
   "metadata": {},
   "source": [
    "### And much more...\n",
    "\n",
    "We have explored our Global Preference Survey dataset, discovering a few techniques and graph libraries. Our Exploratory Data Analysis does not stop here, and there is much more mysteries to uncover! Keep on exploring until you feel you have a deep understanding of your data and their relations. Be creative in the techniques, descriptive statistics, and visualizations you use. And remember to have fun! "
   ]
  },
  {
   "cell_type": "markdown",
   "id": "c07967e7-c93c-401c-b9f2-4268a11a6ac8",
   "metadata": {},
   "source": [
    "## Data Visualization Application: Green Domestic Product"
   ]
  },
  {
   "cell_type": "markdown",
   "id": "916a07d5-1973-4602-8d31-1fdc78243b8a",
   "metadata": {},
   "source": [
    "In this section, we illustrate some data visualization techniques using the Green Domestic Product (GrDP), which we computed in our previous notebook."
   ]
  },
  {
   "cell_type": "markdown",
   "id": "310a2bcd-36f8-4e49-a724-9ca76d06a5ba",
   "metadata": {},
   "source": [
    "### Data acquisition"
   ]
  },
  {
   "cell_type": "markdown",
   "id": "a953d16f-7840-4765-a85c-b8b1667fddf2",
   "metadata": {},
   "source": [
    "Let's import the GrDP CSV file we generated in our last lecture as `pandas` data frame."
   ]
  },
  {
   "cell_type": "code",
   "execution_count": 3,
   "id": "a3c9048c-04e4-49b9-bda3-72fdd684ed99",
   "metadata": {
    "tags": []
   },
   "outputs": [
    {
     "data": {
      "text/html": [
       "<div>\n",
       "<style scoped>\n",
       "    .dataframe tbody tr th:only-of-type {\n",
       "        vertical-align: middle;\n",
       "    }\n",
       "\n",
       "    .dataframe tbody tr th {\n",
       "        vertical-align: top;\n",
       "    }\n",
       "\n",
       "    .dataframe thead th {\n",
       "        text-align: right;\n",
       "    }\n",
       "</style>\n",
       "<table border=\"1\" class=\"dataframe\">\n",
       "  <thead>\n",
       "    <tr style=\"text-align: right;\">\n",
       "      <th></th>\n",
       "      <th>Country</th>\n",
       "      <th>Year</th>\n",
       "      <th>GDP [million Euro]</th>\n",
       "      <th>Population</th>\n",
       "      <th>Emissions_GHG [thousand tonnes CO2eq]</th>\n",
       "      <th>Emissions_NOx [tonne]</th>\n",
       "      <th>Emissions_PM2.5 [tonne]</th>\n",
       "      <th>Emissions_PM10 [tonne]</th>\n",
       "      <th>Emissions_SOx [tonne]</th>\n",
       "      <th>Emissions_NMVOC [tonne]</th>\n",
       "      <th>...</th>\n",
       "      <th>External cost Pb</th>\n",
       "      <th>External cost Cd</th>\n",
       "      <th>External cost Hg</th>\n",
       "      <th>External cost As</th>\n",
       "      <th>External cost Ni</th>\n",
       "      <th>External cost Cr</th>\n",
       "      <th>Total external cost</th>\n",
       "      <th>GrDP [million Euro]</th>\n",
       "      <th>GrDP per capita [Euro]</th>\n",
       "      <th>Share external cost [%]</th>\n",
       "    </tr>\n",
       "  </thead>\n",
       "  <tbody>\n",
       "    <tr>\n",
       "      <th>0</th>\n",
       "      <td>Belgium</td>\n",
       "      <td>1995</td>\n",
       "      <td>220251.5</td>\n",
       "      <td>10130574.0</td>\n",
       "      <td>151311.86</td>\n",
       "      <td>415990</td>\n",
       "      <td>44400</td>\n",
       "      <td>60940</td>\n",
       "      <td>257720</td>\n",
       "      <td>306530</td>\n",
       "      <td>...</td>\n",
       "      <td>6408.607</td>\n",
       "      <td>925.875</td>\n",
       "      <td>50.709</td>\n",
       "      <td>66.264</td>\n",
       "      <td>1.704</td>\n",
       "      <td>100.128</td>\n",
       "      <td>159875.86700</td>\n",
       "      <td>6.037563e+04</td>\n",
       "      <td>5959.744532</td>\n",
       "      <td>72.587868</td>\n",
       "    </tr>\n",
       "    <tr>\n",
       "      <th>1</th>\n",
       "      <td>Bulgaria</td>\n",
       "      <td>1995</td>\n",
       "      <td>14512.8</td>\n",
       "      <td>8427418.0</td>\n",
       "      <td>54038.12</td>\n",
       "      <td>181900</td>\n",
       "      <td>19780</td>\n",
       "      <td>43710</td>\n",
       "      <td>1302010</td>\n",
       "      <td>140310</td>\n",
       "      <td>...</td>\n",
       "      <td>12003.939</td>\n",
       "      <td>740.700</td>\n",
       "      <td>33.806</td>\n",
       "      <td>165.660</td>\n",
       "      <td>0.672</td>\n",
       "      <td>31.290</td>\n",
       "      <td>105129.31431</td>\n",
       "      <td>-9.061651e+04</td>\n",
       "      <td>-10752.583331</td>\n",
       "      <td>724.390292</td>\n",
       "    </tr>\n",
       "    <tr>\n",
       "      <th>2</th>\n",
       "      <td>Czechia</td>\n",
       "      <td>1995</td>\n",
       "      <td>46008.4</td>\n",
       "      <td>10333161.0</td>\n",
       "      <td>147738.40</td>\n",
       "      <td>384910</td>\n",
       "      <td>120370</td>\n",
       "      <td>163110</td>\n",
       "      <td>1058970</td>\n",
       "      <td>391100</td>\n",
       "      <td>...</td>\n",
       "      <td>8458.060</td>\n",
       "      <td>370.350</td>\n",
       "      <td>67.612</td>\n",
       "      <td>187.748</td>\n",
       "      <td>0.672</td>\n",
       "      <td>53.193</td>\n",
       "      <td>201302.71255</td>\n",
       "      <td>-1.552943e+05</td>\n",
       "      <td>-15028.732500</td>\n",
       "      <td>437.534695</td>\n",
       "    </tr>\n",
       "    <tr>\n",
       "      <th>3</th>\n",
       "      <td>Denmark</td>\n",
       "      <td>1995</td>\n",
       "      <td>141441.4</td>\n",
       "      <td>5215718.0</td>\n",
       "      <td>84425.26</td>\n",
       "      <td>290300</td>\n",
       "      <td>24500</td>\n",
       "      <td>36200</td>\n",
       "      <td>145770</td>\n",
       "      <td>212670</td>\n",
       "      <td>...</td>\n",
       "      <td>845.806</td>\n",
       "      <td>185.175</td>\n",
       "      <td>33.806</td>\n",
       "      <td>11.044</td>\n",
       "      <td>0.312</td>\n",
       "      <td>9.387</td>\n",
       "      <td>34270.90287</td>\n",
       "      <td>1.071705e+05</td>\n",
       "      <td>20547.601908</td>\n",
       "      <td>24.229754</td>\n",
       "    </tr>\n",
       "    <tr>\n",
       "      <th>4</th>\n",
       "      <td>Germany</td>\n",
       "      <td>1995</td>\n",
       "      <td>1977604.1</td>\n",
       "      <td>81538603.0</td>\n",
       "      <td>1090715.50</td>\n",
       "      <td>2195580</td>\n",
       "      <td>205640</td>\n",
       "      <td>346170</td>\n",
       "      <td>1751450</td>\n",
       "      <td>2340450</td>\n",
       "      <td>...</td>\n",
       "      <td>22186.142</td>\n",
       "      <td>3518.325</td>\n",
       "      <td>338.060</td>\n",
       "      <td>99.396</td>\n",
       "      <td>4.992</td>\n",
       "      <td>294.126</td>\n",
       "      <td>692560.50726</td>\n",
       "      <td>1.285044e+06</td>\n",
       "      <td>15759.941248</td>\n",
       "      <td>35.020180</td>\n",
       "    </tr>\n",
       "  </tbody>\n",
       "</table>\n",
       "<p>5 rows × 48 columns</p>\n",
       "</div>"
      ],
      "text/plain": [
       "    Country  Year  GDP [million Euro]  Population  \\\n",
       "0   Belgium  1995            220251.5  10130574.0   \n",
       "1  Bulgaria  1995             14512.8   8427418.0   \n",
       "2   Czechia  1995             46008.4  10333161.0   \n",
       "3   Denmark  1995            141441.4   5215718.0   \n",
       "4   Germany  1995           1977604.1  81538603.0   \n",
       "\n",
       "   Emissions_GHG [thousand tonnes CO2eq]  Emissions_NOx [tonne]  \\\n",
       "0                              151311.86                 415990   \n",
       "1                               54038.12                 181900   \n",
       "2                              147738.40                 384910   \n",
       "3                               84425.26                 290300   \n",
       "4                             1090715.50                2195580   \n",
       "\n",
       "   Emissions_PM2.5 [tonne]  Emissions_PM10 [tonne]  Emissions_SOx [tonne]  \\\n",
       "0                    44400                   60940                 257720   \n",
       "1                    19780                   43710                1302010   \n",
       "2                   120370                  163110                1058970   \n",
       "3                    24500                   36200                 145770   \n",
       "4                   205640                  346170                1751450   \n",
       "\n",
       "   Emissions_NMVOC [tonne]  ...  External cost Pb  External cost Cd  \\\n",
       "0                   306530  ...          6408.607           925.875   \n",
       "1                   140310  ...         12003.939           740.700   \n",
       "2                   391100  ...          8458.060           370.350   \n",
       "3                   212670  ...           845.806           185.175   \n",
       "4                  2340450  ...         22186.142          3518.325   \n",
       "\n",
       "   External cost Hg  External cost As  External cost Ni  External cost Cr  \\\n",
       "0            50.709            66.264             1.704           100.128   \n",
       "1            33.806           165.660             0.672            31.290   \n",
       "2            67.612           187.748             0.672            53.193   \n",
       "3            33.806            11.044             0.312             9.387   \n",
       "4           338.060            99.396             4.992           294.126   \n",
       "\n",
       "   Total external cost  GrDP [million Euro]  GrDP per capita [Euro]  \\\n",
       "0         159875.86700         6.037563e+04             5959.744532   \n",
       "1         105129.31431        -9.061651e+04           -10752.583331   \n",
       "2         201302.71255        -1.552943e+05           -15028.732500   \n",
       "3          34270.90287         1.071705e+05            20547.601908   \n",
       "4         692560.50726         1.285044e+06            15759.941248   \n",
       "\n",
       "   Share external cost [%]  \n",
       "0                72.587868  \n",
       "1               724.390292  \n",
       "2               437.534695  \n",
       "3                24.229754  \n",
       "4                35.020180  \n",
       "\n",
       "[5 rows x 48 columns]"
      ]
     },
     "execution_count": 3,
     "metadata": {},
     "output_type": "execute_result"
    }
   ],
   "source": [
    "# Import dataset on Green Domestic Product from GitHub\n",
    "url_grdp = 'https://raw.githubusercontent.com/edoardochiarotti/class_datascience/main/2023/03_EDA-Visualization/data/GrDP_1995-2019.csv'\n",
    "df_grdp = pd.read_csv(url_grdp)\n",
    "\n",
    "df_grdp.head()"
   ]
  },
  {
   "cell_type": "markdown",
   "id": "4d8fe8fe-6f04-4d48-a5bf-84ef7e65932e",
   "metadata": {},
   "source": [
    "### Bar chart\n",
    "\n"
   ]
  },
  {
   "cell_type": "markdown",
   "id": "6757cac4-98ca-40a5-98f3-c3cb902deed7",
   "metadata": {},
   "source": [
    "Bar chart - also called bar graph - presents categorical data with rectangular bars with heights or lengths proportional to the values that they represent (categorical means that the variable can take on one of a limited number of possible values). For example, we can do a bar chart of the GrDP per capita in 2019, each bar representing the value for one country. This visualization allows a comparison between our countries.\n",
    "\n",
    "Let's try another library, namely `bokeh`. [Bokeh](https://docs.bokeh.org/en/latest/) is suitable to create interactive visualizations for modern web browsers. It is a low-level plotting library, i.e., you have lots of flexibility in choosing what you want to do. As a compromise, it requires expertise to make decisions along the way. Ok, let's import the package we will need: "
   ]
  },
  {
   "cell_type": "code",
   "execution_count": null,
   "id": "4c6772ed-610e-4cae-80ce-601b223cc965",
   "metadata": {},
   "outputs": [],
   "source": [
    "# Import bokeh plotting package (must have explicit import of submodules)\n",
    "import bokeh.io\n",
    "import bokeh.models\n",
    "import bokeh.plotting\n",
    "\n",
    "# Enable viewing Bokeh plots in the notebook\n",
    "bokeh.io.output_notebook()"
   ]
  },
  {
   "cell_type": "markdown",
   "id": "f1da38c3-335d-4078-971a-a517c306f4f0",
   "metadata": {},
   "source": [
    "We will do a bar chart with the GrDP per capita for each country in 2019. In the code below, we extract the relevant columns (\"Country\" and \"GrDP per capita\") and the observations from 2019. We also use the pandas method `.sort_values()` ([Documentation](https://pandas.pydata.org/docs/reference/api/pandas.DataFrame.sort_values.html)) to reverse sort the observations, from highest to lowest GrDP per capita: "
   ]
  },
  {
   "cell_type": "code",
   "execution_count": null,
   "id": "47ad7736-1898-43b3-8d1f-252006ae014d",
   "metadata": {},
   "outputs": [],
   "source": [
    "grdp_country_2019 = (df_grdp.loc[df_grdp[\"Year\"]==2019, [\"Country\",\"GrDP per capita [Euro]\"]]\n",
    "                     .sort_values(by=[\"GrDP per capita [Euro]\"], ascending=False))"
   ]
  },
  {
   "cell_type": "markdown",
   "id": "eb5aa80a-afa4-415c-903b-b4aa03795df5",
   "metadata": {},
   "source": [
    "We can start generating our figure. The first step is to actually create our figure, i.e., our \"canvas\", before populating it with data (\"painting\"). We use `bokeh.plotting.figure()`, and specify the shape of the figure (height and width), axis and labels. Here, we want to do a horizontal bar chart, so the x-axis will be the values of GrDP per capita and our countries will be on the y-axis. We could add [many more customizations](https://docs.bokeh.org/en/latest/docs/reference/models/plots.html#bokeh.models.plots.Plot), such as a title of the figure, whether or not to have grid lines, etc."
   ]
  },
  {
   "cell_type": "code",
   "execution_count": null,
   "id": "be26e0e3-0df5-46e3-bc9d-a0157c1f3d36",
   "metadata": {},
   "outputs": [],
   "source": [
    "bar_grdp = bokeh.plotting.figure(\n",
    "    frame_height=400,\n",
    "    frame_width=400,\n",
    "    x_axis_label='GrDP per capita in 2019 (in Euros)',\n",
    "    y_range = grdp_country_2019[\"Country\"][::-1],\n",
    ")"
   ]
  },
  {
   "cell_type": "markdown",
   "id": "95e269b1-3ccd-4264-b385-09e86856a764",
   "metadata": {},
   "source": [
    "Next step is to paint our figure. We need data. It is convenient to create a `ColumnDataSource`, a special Bokeh object that holds data to be displayed in a plot. We can do so directly from our data frame:"
   ]
  },
  {
   "cell_type": "code",
   "execution_count": null,
   "id": "45dbcfb1-abea-46c5-91f5-c1b446b7ab7f",
   "metadata": {},
   "outputs": [],
   "source": [
    "source_data = bokeh.models.ColumnDataSource(grdp_country_2019)"
   ]
  },
  {
   "cell_type": "markdown",
   "id": "c9a9eef2-89ff-49dc-bde1-69d265a311ab",
   "metadata": {},
   "source": [
    "Now we can decide what kind of graph we want to create and populate it with data. We use `hbar`([Documentation](https://docs.bokeh.org/en/2.4.2/docs/reference/models/glyphs/hbar.html)). Once we are done creating our figure, and specifying the desired options, we can render it in the notebook using `bokeh.io.show()`."
   ]
  },
  {
   "cell_type": "code",
   "execution_count": null,
   "id": "ba641d3d-08b0-4bf2-8279-885b7d333779",
   "metadata": {},
   "outputs": [],
   "source": [
    "bar_grdp.hbar(\n",
    "    source=source_data,        # our data\n",
    "    y=\"Country\",               # Country on the y-axis\n",
    "    right='GrDP per capita [Euro]', #GrDP per capita on the x-axis, to the right\n",
    "    height=0.6                 # height of bars\n",
    ")\n",
    "\n",
    "# Turn off gridlines on categorical axis\n",
    "bar_grdp.ygrid.grid_line_color = None\n",
    "\n",
    "# Start axes at origin on quantitative axis\n",
    "bar_grdp.x_range.start = 0\n",
    "\n",
    "bokeh.io.show(bar_grdp)"
   ]
  },
  {
   "cell_type": "markdown",
   "id": "b773d3c8-9433-4f3a-bea6-d7be4c5d9821",
   "metadata": {},
   "source": [
    "Here you go! The sorting allows a nice shape - although you might prefer ordering your country by alphabetical order if the goal is to easily find the value of one country. Also, remember our interactive box plot we did? Here we have a similar bar on the right, allowing to zoom and save our figure."
   ]
  },
  {
   "cell_type": "markdown",
   "id": "bac9d720-9eee-4f0f-8604-46b3d014f6b7",
   "metadata": {},
   "source": [
    "### Line chart\n",
    "\n"
   ]
  },
  {
   "cell_type": "markdown",
   "id": "883d7929-dff4-410c-9484-9fc2e7793017",
   "metadata": {},
   "source": [
    "Line charts are use to present ordered numerical data. For instance, let's consider the evolution of GrDP in Switzerland. Clearly, the data is ordered, from oldest to latest observation."
   ]
  },
  {
   "cell_type": "code",
   "execution_count": null,
   "id": "a2fd8dc9-eec5-4ad8-8e92-0b1d572ab11a",
   "metadata": {},
   "outputs": [],
   "source": [
    "grdp_ch = df_grdp.loc[df_grdp[\"Country\"]==\"Switzerland\", [\"Year\", \"Country\" ,\"GrDP [million Euro]\"]]\n",
    "grdp_ch"
   ]
  },
  {
   "cell_type": "markdown",
   "id": "6f2c40a6-4bdd-4700-850a-a0f6c31acb60",
   "metadata": {},
   "source": [
    "We will plot this evolution using `plotly.express.line` ([Documentation](https://plotly.com/python-api-reference/generated/plotly.express.line.html)). We quickly discussed above that Bokeh was a low-level library. By contrast, the [Plotly express](https://plotly.com/python/plotly-express/) module is more high-level: you can quickly do advanced plots, and only need to specify a few options."
   ]
  },
  {
   "cell_type": "code",
   "execution_count": null,
   "id": "62712f31-059b-4fc1-ab3b-59dcd356b6f3",
   "metadata": {},
   "outputs": [],
   "source": [
    "evol_grdp_ch = px.line(grdp_ch,     # data frame as argument\n",
    "                       x=\"Year\",    # x-axis: years\n",
    "                       y=\"GrDP [million Euro]\",    # y-axis: GrDP\n",
    "                       title=\"Evolution of Green Domestic Product in Switzerland\",  # title!\n",
    "                       range_y= [0,700000]      # specify range to avoid truncation!\n",
    "                      )\n",
    "evol_grdp_ch.show()"
   ]
  },
  {
   "cell_type": "markdown",
   "id": "4bd59f6d-bc88-479b-aaed-79e4c6c9333c",
   "metadata": {},
   "source": [
    "As before with Plotly express, when you hover over the line, it displays the actual value, a very convenient interactive feature! The GrDP is, overall, increasing in Switzerland, a result of both an increase in GDP and a decrease in pollution, as we will see later."
   ]
  },
  {
   "cell_type": "markdown",
   "id": "b26646f6-4b3a-4bbd-b430-f744cb4180d6",
   "metadata": {},
   "source": [
    "### Pie chart"
   ]
  },
  {
   "cell_type": "markdown",
   "id": "7fef9d50-4279-4316-8fd5-bc791c386bf4",
   "metadata": {},
   "source": [
    "Pie charts are mostly used to understand relative amount, i.e., which category is bigger and which one is smaller. As an advice, do not use too many classes (i.e., no more than 8) to help the readability of the chart.\n",
    "\n",
    "Let's try to understand which category of pollutant (greenhouse gases, air pollutants, heavy metals) represent the largest share of external costs in Switzerland in 2019. We'll first create two new columns in our data frame, summing the external costs of pollutants according to their type. Note that GHG is already an independent category and does not require such action."
   ]
  },
  {
   "cell_type": "code",
   "execution_count": null,
   "id": "4b22f744-ad22-456a-a0cd-15b36baaac50",
   "metadata": {},
   "outputs": [],
   "source": [
    "df_grdp[\"External Cost Air Pollutant\"] = (df_grdp[\"External cost NOx\"]\n",
    "                                          + df_grdp[\"External cost PM2.5\"]\n",
    "                                          + df_grdp[\"External cost PM10\"]\n",
    "                                          + df_grdp[\"External cost SOx\"]\n",
    "                                          + df_grdp[\"External cost NMVOC\"]\n",
    "                                          + df_grdp[\"External cost NH3\"])\n",
    "df_grdp[\"External Cost Heavy Metal\"] = (df_grdp[\"External cost Pb\"]\n",
    "                                          + df_grdp[\"External cost Cd\"]\n",
    "                                          + df_grdp[\"External cost Hg\"]\n",
    "                                          + df_grdp[\"External cost As\"]\n",
    "                                          + df_grdp[\"External cost Ni\"]\n",
    "                                          + df_grdp[\"External cost Cr\"])"
   ]
  },
  {
   "cell_type": "markdown",
   "id": "9228c288-e2ae-47bb-ac1b-a9e4e5d01c18",
   "metadata": {},
   "source": [
    "We now extract the observations we wish to display, i.e., the external costs for each group of pollutant in Switzerland in 2019."
   ]
  },
  {
   "cell_type": "code",
   "execution_count": null,
   "id": "e817b41a-ce59-4a86-87f7-60fc0ce4db98",
   "metadata": {},
   "outputs": [],
   "source": [
    "cost_ch_2019 = (df_grdp.loc[(df_grdp[\"Country\"]==\"Switzerland\") & (df_grdp[\"Year\"]==2019), \n",
    "                            [\"External cost GHG\", \"External Cost Air Pollutant\",\"External Cost Heavy Metal\"]])"
   ]
  },
  {
   "cell_type": "markdown",
   "id": "0e1919eb-cf25-4212-9458-1eb404e9d5a2",
   "metadata": {},
   "source": [
    "To make it more convenient to create our pie chart, we need to re-format a bit our data frame. Instead of having three columns with the external cost for each pollutant group, we need one column with the type of pollutant and another with the associated external cost. We first use the `.transpose()` method of pandas ([Documentation](https://pandas.pydata.org/docs/reference/api/pandas.DataFrame.transpose.html)), and then we rename our column. Indeed, due to the transposition, the new column name became the previous line index! Finally, we add a new column with the names of the groups of pollutant (GHG, Air Pollutant, Heavy Metal):"
   ]
  },
  {
   "cell_type": "code",
   "execution_count": null,
   "id": "9adcb184-3afb-4b80-a3e5-f0fb50315738",
   "metadata": {},
   "outputs": [],
   "source": [
    "cost_ch_2019 = cost_ch_2019.transpose().rename(columns={748: \"External Cost\"})\n",
    "cost_ch_2019[\"Pollutant\"]=[\"GHG\",\"Air Pollutant\",\"Heavy Metal\"]\n",
    "\n",
    "cost_ch_2019"
   ]
  },
  {
   "cell_type": "markdown",
   "id": "d86d67f7-a86a-4daa-9b82-8655d93b0d31",
   "metadata": {},
   "source": [
    "Alright, we are all set to design our pie chart. We use `plotly.express.pie` ([Documentation](https://plotly.com/python-api-reference/generated/plotly.express.pie.html)):"
   ]
  },
  {
   "cell_type": "code",
   "execution_count": null,
   "id": "a60a3a85-a6b8-47f6-9c76-b2d8f243de4c",
   "metadata": {},
   "outputs": [],
   "source": [
    "pie_cost = px.pie(cost_ch_2019,               # data frame as input\n",
    "             values=\"External Cost\",     # values to create the pie chart (data frame column name)\n",
    "             names=\"Pollutant\",          # labels (data frame column name)\n",
    "             title=\"Share of external cost per pollutant in Switzerland in 2019\")  # title!\n",
    "pie_cost.show()"
   ]
  },
  {
   "cell_type": "markdown",
   "id": "2e43400a-5662-4d71-bf77-8603bf6b48bb",
   "metadata": {},
   "source": [
    "In Switzerland, air pollutants accounted for the majority of the external costs in 2019, mainly due to their negative impacts on health. The actual results depend on the choice of marginal damage costs, especially for GHG. In our [E4S white paper](https://e4s.center/en/resources/reports/green-domestic-product/), we explore several alternative scenarios. In the most pessimistic scenario regarding the impacts of climate change, the share of GHG in the total external costs is about the same as the one of air pollutants. "
   ]
  },
  {
   "cell_type": "markdown",
   "id": "a797e02d-d19b-4e4d-8101-a05ffc0f1224",
   "metadata": {},
   "source": [
    "### Area chart\n",
    "\n",
    "The above pie chart provided a static picture of what was happening in 2019. How did the cost of pollutants evolved through time though? To answer this question visually, we can design a (filled) area chart.\n",
    "\n",
    "Let's prepare our data. We first extract the external costs per group of pollutants (previously calculated) for Switzerland."
   ]
  },
  {
   "cell_type": "code",
   "execution_count": null,
   "id": "991e46cc-d5f2-46b2-baac-3f623ebc0c40",
   "metadata": {},
   "outputs": [],
   "source": [
    "cost_ch = (df_grdp.loc[(df_grdp[\"Country\"]==\"Switzerland\"), \n",
    "                            [\"Year\", \"External cost GHG\", \"External Cost Air Pollutant\",\"External Cost Heavy Metal\"]])"
   ]
  },
  {
   "cell_type": "markdown",
   "id": "cae61c05-a9ad-4327-87c3-6a8283c95467",
   "metadata": {},
   "source": [
    "We now reorganize our data. We will create a data frame with three columns: year, group of pollutant, and associated value of external cost. \n",
    "\n",
    "To do so, we create three lists, containing the values of our 3 columns: "
   ]
  },
  {
   "cell_type": "code",
   "execution_count": null,
   "id": "026b5213-74f1-4c9c-98d0-c8ce8181017e",
   "metadata": {},
   "outputs": [],
   "source": [
    "obs = len(cost_ch)\n",
    "pol = [\"GHG\"]*obs+[\"Air Pollutant\"]*obs+[\"Heavy Metal\"]*obs\n",
    "year = list(cost_ch[\"Year\"])*3\n",
    "cost = list(cost_ch[\"External cost GHG\"])+list(cost_ch[\"External Cost Air Pollutant\"])+list(cost_ch[\"External Cost Heavy Metal\"])"
   ]
  },
  {
   "cell_type": "markdown",
   "id": "0f1dd7ae-e889-41a9-85fe-345cfcaad885",
   "metadata": {},
   "source": [
    "We then create a dictionary, with keys the name of the column, and values the lists previously computed. Finally, we create our data frame from our dictionary"
   ]
  },
  {
   "cell_type": "code",
   "execution_count": null,
   "id": "c6c25c83-50eb-4bce-89a7-9894d4265f0c",
   "metadata": {},
   "outputs": [],
   "source": [
    "dico_cost_ch ={\"Year\":year, \"Pollutant\":pol, \"External cost\":cost}\n",
    "df_cost_ch = pd.DataFrame(data=dico_cost_ch)"
   ]
  },
  {
   "cell_type": "markdown",
   "id": "f8e497da-3167-4d4e-8e05-6479d07283b6",
   "metadata": {},
   "source": [
    "Let's check the result to be sure we got it right - you should actually check each step of your code, that's what I did when I designed this notebook, before deleting the unnecessary lines of codes for clarity!"
   ]
  },
  {
   "cell_type": "code",
   "execution_count": null,
   "id": "99822f07-931e-4003-bb9f-72dc0acc7391",
   "metadata": {},
   "outputs": [],
   "source": [
    "df_cost_ch"
   ]
  },
  {
   "cell_type": "markdown",
   "id": "840d1a7e-c652-4046-8070-c01c929a6b11",
   "metadata": {},
   "source": [
    "Alright, we are ready to create our area chart with `plotly.express.area` ([Documentation](https://plotly.com/python-api-reference/generated/plotly.express.area.html))"
   ]
  },
  {
   "cell_type": "code",
   "execution_count": null,
   "id": "75666bba-95f9-45c6-be59-36037efb7c92",
   "metadata": {},
   "outputs": [],
   "source": [
    "area_cost = px.area(df_cost_ch,         # data frame as input\n",
    "                   x=\"Year\",            # Years on the x-axis (data frame column name)\n",
    "                   y=\"External cost\",   # External cost value on the y-axis (data frame column name)\n",
    "                   color=\"Pollutant\",   # Color by group of pollutants    (data frame column name)\n",
    "                   title = \"Evolution of external costs per group of pollutants in Switzerland, in million Euros\"  #Title\n",
    "                  )\n",
    "area_cost.show()"
   ]
  },
  {
   "cell_type": "markdown",
   "id": "c3633a9b-19c5-4149-9c33-a33f65ca26ee",
   "metadata": {},
   "source": [
    "We observe that the external costs due to heavy metals are decreasing. The spread of unleaded gasoline during the 1990s, coupled with the implementation of the 1998 Aarhus Protocol on Heavy Metals, explains this reduction.\n",
    "\n",
    "The external costs due to air pollutants are also decreasing due to, among others, a reduction in nitrogen\n",
    "oxides (NO$_x$) emissions generated by the application of nitrogen fertilizers, more efficient heating systems and better buildings' insulation, and more efficient vehicles.\n",
    "\n",
    "However, the trend is less pronounced for GHG, showing the difficulty of decarbonizing society."
   ]
  },
  {
   "cell_type": "markdown",
   "id": "228eeb47-6713-4975-90b7-e661d1550774",
   "metadata": {},
   "source": [
    "### GrDP Map\n",
    "\n",
    "Let's conclude our discovery our visualization in Python with a last map. Although we did before a bar chart showing the GrDP per capita of European countries, a map is arguably a nicer visualization, and is especially suited to identify geographic patterns.\n",
    "\n",
    "We first extract the GrDP per capita for each country in 2019."
   ]
  },
  {
   "cell_type": "code",
   "execution_count": null,
   "id": "19e2add0-2b5f-4998-bfd4-135bdc08f29d",
   "metadata": {},
   "outputs": [],
   "source": [
    "df_grdp_2019 = df_grdp.loc[df_grdp[\"Year\"]==2019, [\"Country\", \"GrDP per capita [Euro]\"]]"
   ]
  },
  {
   "cell_type": "markdown",
   "id": "abb19cc4-5777-4091-b62b-d535d60c5cec",
   "metadata": {},
   "source": [
    "We now design our map, using `plotly.express.choropleth` ([Documentation](https://plotly.github.io/plotly.py-docs/generated/plotly.express.choropleth.html)), which we previously used to create a world map of altruism. We will play a bit with the options to discover some new functionalities. In particular, there are plenty of [map configuration and styling](https://plotly.com/python/map-configuration/) and [color options](https://plotly.com/python/builtin-colorscales/)."
   ]
  },
  {
   "cell_type": "code",
   "execution_count": null,
   "id": "790b6a4f-40de-439f-b464-7928055448a8",
   "metadata": {},
   "outputs": [],
   "source": [
    "map_grdp = px.choropleth( \n",
    "    df_grdp_2019,                                         # dataframe as argument\n",
    "    locations=\"Country\",                                  # column name with location\n",
    "    locationmode=\"country names\",                         # location method\n",
    "    color=\"GrDP per capita [Euro]\",                       # color countries with altruism value\n",
    "    color_continuous_scale=px.colors.sequential.Turbo     # choice of colors\n",
    ")\n",
    "\n",
    "map_grdp.update_layout( \n",
    "    title={                                # Add a title, centered on top\n",
    "        'text': \"Green Domestic Product per capita\",\n",
    "        'y':0.9,\n",
    "        'x':0.5,\n",
    "        'xanchor': 'center',\n",
    "        'yanchor': 'top'})\n",
    "\n",
    "\n",
    "map_grdp.update_geos(showocean=True,              # fill ocean with colors\n",
    "                     oceancolor=\"LightBlue\",      # specify color of oceans\n",
    "                     projection_type=\"orthographic\")  # specify projection type\n",
    "\n",
    "map_grdp.show()"
   ]
  },
  {
   "cell_type": "markdown",
   "id": "e7270ccf-3adf-4e29-a10d-95099f0d601f",
   "metadata": {},
   "source": [
    "Wow! Looks fancy! Ok, you might argue that it was probably too much for what we wanted to do. We did not need a orthographic projection of the globe since we only have data for Europe. And does coloring oceans fit a purpose here? Probably not! And is the choice of colors appropriate? I let you be the judge... So, can you improve this figure? Your turn to play!"
   ]
  },
  {
   "cell_type": "markdown",
   "id": "066d4a24-6bbf-4249-a42b-d2f15e9b0b55",
   "metadata": {},
   "source": [
    "### And so much more... Be creative!\n",
    "\n",
    "We only grasps the surface of the wonderful world of data visualization. [Treemaps](https://www.python-graph-gallery.com/treemap/) displays hierarchical data as a set of nested rectangles. [Workclouds](https://www.python-graph-gallery.com/wordcloud/) allow to visualize text and the importance of each word/expression inside it. [Venn Diagrams](https://www.python-graph-gallery.com/venn-diagram/) shows possible logical relationships. [Sankey Diagrams](https://www.python-graph-gallery.com/sankey-diagram/) are great to visualize flows (they are often used with energy flows). And so on, and on...\n",
    "\n",
    "You can also introduce interactive features, bringing your notebook to life allowing users to make decisions and play with your results. If you want to learn more, check for instance [Jupyter Widgets](https://ipywidgets.readthedocs.io/en/stable/index.html).\n",
    "\n",
    "This is only the beginning of your journey, and we look forward to seeing what you will accomplish!"
   ]
  }
 ],
 "metadata": {
  "kernelspec": {
   "display_name": "Python 3 (ipykernel)",
   "language": "python",
   "name": "python3"
  },
  "language_info": {
   "codemirror_mode": {
    "name": "ipython",
    "version": 3
   },
   "file_extension": ".py",
   "mimetype": "text/x-python",
   "name": "python",
   "nbconvert_exporter": "python",
   "pygments_lexer": "ipython3",
   "version": "3.11.3"
  }
 },
 "nbformat": 4,
 "nbformat_minor": 5
}
